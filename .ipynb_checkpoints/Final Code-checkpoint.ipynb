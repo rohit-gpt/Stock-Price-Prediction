{
 "cells": [
  {
   "cell_type": "markdown",
   "metadata": {},
   "source": [
    "# Web Scraping"
   ]
  },
  {
   "cell_type": "code",
   "execution_count": 1,
   "metadata": {},
   "outputs": [],
   "source": [
    "import requests\n",
    "import pandas as pd\n",
    "from bs4 import BeautifulSoup\n",
    "from matplotlib import pyplot as plt\n",
    "import numpy as np\n",
    "import time \n",
    "import datetime\n",
    "from mpl_finance import candlestick_ohlc"
   ]
  },
  {
   "cell_type": "code",
   "execution_count": 2,
   "metadata": {},
   "outputs": [],
   "source": [
    "url1 = \"https://finance.yahoo.com/quote/GOOG/history?period1=\""
   ]
  },
  {
   "cell_type": "code",
   "execution_count": 3,
   "metadata": {},
   "outputs": [],
   "source": [
    "url2 = \"01/06/2019\""
   ]
  },
  {
   "cell_type": "code",
   "execution_count": 4,
   "metadata": {},
   "outputs": [],
   "source": [
    "url2 = time.mktime(datetime.datetime.strptime(url2, \"%d/%m/%Y\").timetuple())"
   ]
  },
  {
   "cell_type": "code",
   "execution_count": 5,
   "metadata": {},
   "outputs": [
    {
     "data": {
      "text/plain": [
       "1559327400.0"
      ]
     },
     "execution_count": 5,
     "metadata": {},
     "output_type": "execute_result"
    }
   ],
   "source": [
    "url2"
   ]
  },
  {
   "cell_type": "code",
   "execution_count": 6,
   "metadata": {},
   "outputs": [],
   "source": [
    "url3 = \"&period2=\""
   ]
  },
  {
   "cell_type": "code",
   "execution_count": 7,
   "metadata": {},
   "outputs": [],
   "source": [
    "url4 = \"12/12/2019\""
   ]
  },
  {
   "cell_type": "code",
   "execution_count": 8,
   "metadata": {},
   "outputs": [],
   "source": [
    "url4 = time.mktime(datetime.datetime.strptime(url4, \"%d/%m/%Y\").timetuple())"
   ]
  },
  {
   "cell_type": "code",
   "execution_count": 9,
   "metadata": {},
   "outputs": [
    {
     "data": {
      "text/plain": [
       "1576089000.0"
      ]
     },
     "execution_count": 9,
     "metadata": {},
     "output_type": "execute_result"
    }
   ],
   "source": [
    "url4"
   ]
  },
  {
   "cell_type": "code",
   "execution_count": 10,
   "metadata": {},
   "outputs": [],
   "source": [
    "url5 = \"&interval=1d&filter=history&frequency=1d\""
   ]
  },
  {
   "cell_type": "code",
   "execution_count": 11,
   "metadata": {},
   "outputs": [],
   "source": [
    "urlfinal = url1 + str(int(url2)) + url3 + str(int(url4)) + url5;"
   ]
  },
  {
   "cell_type": "code",
   "execution_count": 12,
   "metadata": {},
   "outputs": [
    {
     "data": {
      "text/plain": [
       "'https://finance.yahoo.com/quote/GOOG/history?period1=1559327400&period2=1576089000&interval=1d&filter=history&frequency=1d'"
      ]
     },
     "execution_count": 12,
     "metadata": {},
     "output_type": "execute_result"
    }
   ],
   "source": [
    "urlfinal"
   ]
  },
  {
   "cell_type": "code",
   "execution_count": 13,
   "metadata": {},
   "outputs": [],
   "source": [
    "dfs = pd.read_html(urlfinal)"
   ]
  },
  {
   "cell_type": "code",
   "execution_count": 14,
   "metadata": {},
   "outputs": [
    {
     "data": {
      "text/plain": [
       "[                                                  Date  \\\n",
       " 0                                         Dec 11, 2019   \n",
       " 1                                         Dec 10, 2019   \n",
       " 2                                         Dec 09, 2019   \n",
       " 3                                         Dec 06, 2019   \n",
       " 4                                         Dec 05, 2019   \n",
       " ..                                                 ...   \n",
       " 96                                        Jul 26, 2019   \n",
       " 97                                        Jul 25, 2019   \n",
       " 98                                        Jul 24, 2019   \n",
       " 99                                        Jul 23, 2019   \n",
       " 100  *Close price adjusted for splits.**Adjusted cl...   \n",
       " \n",
       "                                                   Open  \\\n",
       " 0                                              1350.84   \n",
       " 1                                              1341.50   \n",
       " 2                                              1338.04   \n",
       " 3                                              1333.44   \n",
       " 4                                              1328.00   \n",
       " ..                                                 ...   \n",
       " 96                                             1224.04   \n",
       " 97                                             1137.82   \n",
       " 98                                             1131.90   \n",
       " 99                                             1144.00   \n",
       " 100  *Close price adjusted for splits.**Adjusted cl...   \n",
       " \n",
       "                                                   High  \\\n",
       " 0                                              1351.20   \n",
       " 1                                              1349.97   \n",
       " 2                                              1359.45   \n",
       " 3                                              1344.00   \n",
       " 4                                              1329.36   \n",
       " ..                                                 ...   \n",
       " 96                                             1265.55   \n",
       " 97                                             1141.70   \n",
       " 98                                             1144.00   \n",
       " 99                                             1146.90   \n",
       " 100  *Close price adjusted for splits.**Adjusted cl...   \n",
       " \n",
       "                                                    Low  \\\n",
       " 0                                              1342.67   \n",
       " 1                                              1336.04   \n",
       " 2                                              1337.84   \n",
       " 3                                              1333.44   \n",
       " 4                                              1316.44   \n",
       " ..                                                 ...   \n",
       " 96                                             1224.00   \n",
       " 97                                             1120.92   \n",
       " 98                                             1126.99   \n",
       " 99                                             1131.80   \n",
       " 100  *Close price adjusted for splits.**Adjusted cl...   \n",
       " \n",
       "                                                 Close*  \\\n",
       " 0                                              1345.02   \n",
       " 1                                              1344.66   \n",
       " 2                                              1343.56   \n",
       " 3                                              1340.62   \n",
       " 4                                              1328.13   \n",
       " ..                                                 ...   \n",
       " 96                                             1250.41   \n",
       " 97                                             1132.12   \n",
       " 98                                             1137.81   \n",
       " 99                                             1146.21   \n",
       " 100  *Close price adjusted for splits.**Adjusted cl...   \n",
       " \n",
       "                                            Adj Close**  \\\n",
       " 0                                              1345.02   \n",
       " 1                                              1344.66   \n",
       " 2                                              1343.56   \n",
       " 3                                              1340.62   \n",
       " 4                                              1328.13   \n",
       " ..                                                 ...   \n",
       " 96                                             1250.41   \n",
       " 97                                             1132.12   \n",
       " 98                                             1137.81   \n",
       " 99                                             1146.21   \n",
       " 100  *Close price adjusted for splits.**Adjusted cl...   \n",
       " \n",
       "                                                 Volume  \n",
       " 0                                               850400  \n",
       " 1                                              1094100  \n",
       " 2                                              1354300  \n",
       " 3                                              1314800  \n",
       " 4                                              1212700  \n",
       " ..                                                 ...  \n",
       " 96                                             4805800  \n",
       " 97                                             2209800  \n",
       " 98                                             1589800  \n",
       " 99                                             1093700  \n",
       " 100  *Close price adjusted for splits.**Adjusted cl...  \n",
       " \n",
       " [101 rows x 7 columns]]"
      ]
     },
     "execution_count": 14,
     "metadata": {},
     "output_type": "execute_result"
    }
   ],
   "source": [
    "dfs"
   ]
  },
  {
   "cell_type": "code",
   "execution_count": 15,
   "metadata": {},
   "outputs": [],
   "source": [
    "dataset = pd.DataFrame()"
   ]
  },
  {
   "cell_type": "markdown",
   "metadata": {},
   "source": [
    "# Data Preprocessing"
   ]
  },
  {
   "cell_type": "code",
   "execution_count": 16,
   "metadata": {},
   "outputs": [],
   "source": [
    "for data in dfs:\n",
    "    dataset = data"
   ]
  },
  {
   "cell_type": "code",
   "execution_count": 17,
   "metadata": {},
   "outputs": [
    {
     "data": {
      "text/html": [
       "<div>\n",
       "<style scoped>\n",
       "    .dataframe tbody tr th:only-of-type {\n",
       "        vertical-align: middle;\n",
       "    }\n",
       "\n",
       "    .dataframe tbody tr th {\n",
       "        vertical-align: top;\n",
       "    }\n",
       "\n",
       "    .dataframe thead th {\n",
       "        text-align: right;\n",
       "    }\n",
       "</style>\n",
       "<table border=\"1\" class=\"dataframe\">\n",
       "  <thead>\n",
       "    <tr style=\"text-align: right;\">\n",
       "      <th></th>\n",
       "      <th>Date</th>\n",
       "      <th>Open</th>\n",
       "      <th>High</th>\n",
       "      <th>Low</th>\n",
       "      <th>Close*</th>\n",
       "      <th>Adj Close**</th>\n",
       "      <th>Volume</th>\n",
       "    </tr>\n",
       "  </thead>\n",
       "  <tbody>\n",
       "    <tr>\n",
       "      <td>0</td>\n",
       "      <td>Dec 11, 2019</td>\n",
       "      <td>1350.84</td>\n",
       "      <td>1351.20</td>\n",
       "      <td>1342.67</td>\n",
       "      <td>1345.02</td>\n",
       "      <td>1345.02</td>\n",
       "      <td>850400</td>\n",
       "    </tr>\n",
       "    <tr>\n",
       "      <td>1</td>\n",
       "      <td>Dec 10, 2019</td>\n",
       "      <td>1341.50</td>\n",
       "      <td>1349.97</td>\n",
       "      <td>1336.04</td>\n",
       "      <td>1344.66</td>\n",
       "      <td>1344.66</td>\n",
       "      <td>1094100</td>\n",
       "    </tr>\n",
       "    <tr>\n",
       "      <td>2</td>\n",
       "      <td>Dec 09, 2019</td>\n",
       "      <td>1338.04</td>\n",
       "      <td>1359.45</td>\n",
       "      <td>1337.84</td>\n",
       "      <td>1343.56</td>\n",
       "      <td>1343.56</td>\n",
       "      <td>1354300</td>\n",
       "    </tr>\n",
       "    <tr>\n",
       "      <td>3</td>\n",
       "      <td>Dec 06, 2019</td>\n",
       "      <td>1333.44</td>\n",
       "      <td>1344.00</td>\n",
       "      <td>1333.44</td>\n",
       "      <td>1340.62</td>\n",
       "      <td>1340.62</td>\n",
       "      <td>1314800</td>\n",
       "    </tr>\n",
       "    <tr>\n",
       "      <td>4</td>\n",
       "      <td>Dec 05, 2019</td>\n",
       "      <td>1328.00</td>\n",
       "      <td>1329.36</td>\n",
       "      <td>1316.44</td>\n",
       "      <td>1328.13</td>\n",
       "      <td>1328.13</td>\n",
       "      <td>1212700</td>\n",
       "    </tr>\n",
       "    <tr>\n",
       "      <td>...</td>\n",
       "      <td>...</td>\n",
       "      <td>...</td>\n",
       "      <td>...</td>\n",
       "      <td>...</td>\n",
       "      <td>...</td>\n",
       "      <td>...</td>\n",
       "      <td>...</td>\n",
       "    </tr>\n",
       "    <tr>\n",
       "      <td>96</td>\n",
       "      <td>Jul 26, 2019</td>\n",
       "      <td>1224.04</td>\n",
       "      <td>1265.55</td>\n",
       "      <td>1224.00</td>\n",
       "      <td>1250.41</td>\n",
       "      <td>1250.41</td>\n",
       "      <td>4805800</td>\n",
       "    </tr>\n",
       "    <tr>\n",
       "      <td>97</td>\n",
       "      <td>Jul 25, 2019</td>\n",
       "      <td>1137.82</td>\n",
       "      <td>1141.70</td>\n",
       "      <td>1120.92</td>\n",
       "      <td>1132.12</td>\n",
       "      <td>1132.12</td>\n",
       "      <td>2209800</td>\n",
       "    </tr>\n",
       "    <tr>\n",
       "      <td>98</td>\n",
       "      <td>Jul 24, 2019</td>\n",
       "      <td>1131.90</td>\n",
       "      <td>1144.00</td>\n",
       "      <td>1126.99</td>\n",
       "      <td>1137.81</td>\n",
       "      <td>1137.81</td>\n",
       "      <td>1589800</td>\n",
       "    </tr>\n",
       "    <tr>\n",
       "      <td>99</td>\n",
       "      <td>Jul 23, 2019</td>\n",
       "      <td>1144.00</td>\n",
       "      <td>1146.90</td>\n",
       "      <td>1131.80</td>\n",
       "      <td>1146.21</td>\n",
       "      <td>1146.21</td>\n",
       "      <td>1093700</td>\n",
       "    </tr>\n",
       "    <tr>\n",
       "      <td>100</td>\n",
       "      <td>*Close price adjusted for splits.**Adjusted cl...</td>\n",
       "      <td>*Close price adjusted for splits.**Adjusted cl...</td>\n",
       "      <td>*Close price adjusted for splits.**Adjusted cl...</td>\n",
       "      <td>*Close price adjusted for splits.**Adjusted cl...</td>\n",
       "      <td>*Close price adjusted for splits.**Adjusted cl...</td>\n",
       "      <td>*Close price adjusted for splits.**Adjusted cl...</td>\n",
       "      <td>*Close price adjusted for splits.**Adjusted cl...</td>\n",
       "    </tr>\n",
       "  </tbody>\n",
       "</table>\n",
       "<p>101 rows × 7 columns</p>\n",
       "</div>"
      ],
      "text/plain": [
       "                                                  Date  \\\n",
       "0                                         Dec 11, 2019   \n",
       "1                                         Dec 10, 2019   \n",
       "2                                         Dec 09, 2019   \n",
       "3                                         Dec 06, 2019   \n",
       "4                                         Dec 05, 2019   \n",
       "..                                                 ...   \n",
       "96                                        Jul 26, 2019   \n",
       "97                                        Jul 25, 2019   \n",
       "98                                        Jul 24, 2019   \n",
       "99                                        Jul 23, 2019   \n",
       "100  *Close price adjusted for splits.**Adjusted cl...   \n",
       "\n",
       "                                                  Open  \\\n",
       "0                                              1350.84   \n",
       "1                                              1341.50   \n",
       "2                                              1338.04   \n",
       "3                                              1333.44   \n",
       "4                                              1328.00   \n",
       "..                                                 ...   \n",
       "96                                             1224.04   \n",
       "97                                             1137.82   \n",
       "98                                             1131.90   \n",
       "99                                             1144.00   \n",
       "100  *Close price adjusted for splits.**Adjusted cl...   \n",
       "\n",
       "                                                  High  \\\n",
       "0                                              1351.20   \n",
       "1                                              1349.97   \n",
       "2                                              1359.45   \n",
       "3                                              1344.00   \n",
       "4                                              1329.36   \n",
       "..                                                 ...   \n",
       "96                                             1265.55   \n",
       "97                                             1141.70   \n",
       "98                                             1144.00   \n",
       "99                                             1146.90   \n",
       "100  *Close price adjusted for splits.**Adjusted cl...   \n",
       "\n",
       "                                                   Low  \\\n",
       "0                                              1342.67   \n",
       "1                                              1336.04   \n",
       "2                                              1337.84   \n",
       "3                                              1333.44   \n",
       "4                                              1316.44   \n",
       "..                                                 ...   \n",
       "96                                             1224.00   \n",
       "97                                             1120.92   \n",
       "98                                             1126.99   \n",
       "99                                             1131.80   \n",
       "100  *Close price adjusted for splits.**Adjusted cl...   \n",
       "\n",
       "                                                Close*  \\\n",
       "0                                              1345.02   \n",
       "1                                              1344.66   \n",
       "2                                              1343.56   \n",
       "3                                              1340.62   \n",
       "4                                              1328.13   \n",
       "..                                                 ...   \n",
       "96                                             1250.41   \n",
       "97                                             1132.12   \n",
       "98                                             1137.81   \n",
       "99                                             1146.21   \n",
       "100  *Close price adjusted for splits.**Adjusted cl...   \n",
       "\n",
       "                                           Adj Close**  \\\n",
       "0                                              1345.02   \n",
       "1                                              1344.66   \n",
       "2                                              1343.56   \n",
       "3                                              1340.62   \n",
       "4                                              1328.13   \n",
       "..                                                 ...   \n",
       "96                                             1250.41   \n",
       "97                                             1132.12   \n",
       "98                                             1137.81   \n",
       "99                                             1146.21   \n",
       "100  *Close price adjusted for splits.**Adjusted cl...   \n",
       "\n",
       "                                                Volume  \n",
       "0                                               850400  \n",
       "1                                              1094100  \n",
       "2                                              1354300  \n",
       "3                                              1314800  \n",
       "4                                              1212700  \n",
       "..                                                 ...  \n",
       "96                                             4805800  \n",
       "97                                             2209800  \n",
       "98                                             1589800  \n",
       "99                                             1093700  \n",
       "100  *Close price adjusted for splits.**Adjusted cl...  \n",
       "\n",
       "[101 rows x 7 columns]"
      ]
     },
     "execution_count": 17,
     "metadata": {},
     "output_type": "execute_result"
    }
   ],
   "source": [
    "dataset"
   ]
  },
  {
   "cell_type": "code",
   "execution_count": 18,
   "metadata": {},
   "outputs": [],
   "source": [
    "dataset = dataset[:-1]"
   ]
  },
  {
   "cell_type": "code",
   "execution_count": 19,
   "metadata": {},
   "outputs": [
    {
     "data": {
      "text/html": [
       "<div>\n",
       "<style scoped>\n",
       "    .dataframe tbody tr th:only-of-type {\n",
       "        vertical-align: middle;\n",
       "    }\n",
       "\n",
       "    .dataframe tbody tr th {\n",
       "        vertical-align: top;\n",
       "    }\n",
       "\n",
       "    .dataframe thead th {\n",
       "        text-align: right;\n",
       "    }\n",
       "</style>\n",
       "<table border=\"1\" class=\"dataframe\">\n",
       "  <thead>\n",
       "    <tr style=\"text-align: right;\">\n",
       "      <th></th>\n",
       "      <th>Date</th>\n",
       "      <th>Open</th>\n",
       "      <th>High</th>\n",
       "      <th>Low</th>\n",
       "      <th>Close*</th>\n",
       "      <th>Adj Close**</th>\n",
       "      <th>Volume</th>\n",
       "    </tr>\n",
       "  </thead>\n",
       "  <tbody>\n",
       "    <tr>\n",
       "      <td>0</td>\n",
       "      <td>Dec 11, 2019</td>\n",
       "      <td>1350.84</td>\n",
       "      <td>1351.20</td>\n",
       "      <td>1342.67</td>\n",
       "      <td>1345.02</td>\n",
       "      <td>1345.02</td>\n",
       "      <td>850400</td>\n",
       "    </tr>\n",
       "    <tr>\n",
       "      <td>1</td>\n",
       "      <td>Dec 10, 2019</td>\n",
       "      <td>1341.50</td>\n",
       "      <td>1349.97</td>\n",
       "      <td>1336.04</td>\n",
       "      <td>1344.66</td>\n",
       "      <td>1344.66</td>\n",
       "      <td>1094100</td>\n",
       "    </tr>\n",
       "    <tr>\n",
       "      <td>2</td>\n",
       "      <td>Dec 09, 2019</td>\n",
       "      <td>1338.04</td>\n",
       "      <td>1359.45</td>\n",
       "      <td>1337.84</td>\n",
       "      <td>1343.56</td>\n",
       "      <td>1343.56</td>\n",
       "      <td>1354300</td>\n",
       "    </tr>\n",
       "    <tr>\n",
       "      <td>3</td>\n",
       "      <td>Dec 06, 2019</td>\n",
       "      <td>1333.44</td>\n",
       "      <td>1344.00</td>\n",
       "      <td>1333.44</td>\n",
       "      <td>1340.62</td>\n",
       "      <td>1340.62</td>\n",
       "      <td>1314800</td>\n",
       "    </tr>\n",
       "    <tr>\n",
       "      <td>4</td>\n",
       "      <td>Dec 05, 2019</td>\n",
       "      <td>1328.00</td>\n",
       "      <td>1329.36</td>\n",
       "      <td>1316.44</td>\n",
       "      <td>1328.13</td>\n",
       "      <td>1328.13</td>\n",
       "      <td>1212700</td>\n",
       "    </tr>\n",
       "    <tr>\n",
       "      <td>...</td>\n",
       "      <td>...</td>\n",
       "      <td>...</td>\n",
       "      <td>...</td>\n",
       "      <td>...</td>\n",
       "      <td>...</td>\n",
       "      <td>...</td>\n",
       "      <td>...</td>\n",
       "    </tr>\n",
       "    <tr>\n",
       "      <td>95</td>\n",
       "      <td>Jul 29, 2019</td>\n",
       "      <td>1241.05</td>\n",
       "      <td>1247.37</td>\n",
       "      <td>1228.23</td>\n",
       "      <td>1239.41</td>\n",
       "      <td>1239.41</td>\n",
       "      <td>2223700</td>\n",
       "    </tr>\n",
       "    <tr>\n",
       "      <td>96</td>\n",
       "      <td>Jul 26, 2019</td>\n",
       "      <td>1224.04</td>\n",
       "      <td>1265.55</td>\n",
       "      <td>1224.00</td>\n",
       "      <td>1250.41</td>\n",
       "      <td>1250.41</td>\n",
       "      <td>4805800</td>\n",
       "    </tr>\n",
       "    <tr>\n",
       "      <td>97</td>\n",
       "      <td>Jul 25, 2019</td>\n",
       "      <td>1137.82</td>\n",
       "      <td>1141.70</td>\n",
       "      <td>1120.92</td>\n",
       "      <td>1132.12</td>\n",
       "      <td>1132.12</td>\n",
       "      <td>2209800</td>\n",
       "    </tr>\n",
       "    <tr>\n",
       "      <td>98</td>\n",
       "      <td>Jul 24, 2019</td>\n",
       "      <td>1131.90</td>\n",
       "      <td>1144.00</td>\n",
       "      <td>1126.99</td>\n",
       "      <td>1137.81</td>\n",
       "      <td>1137.81</td>\n",
       "      <td>1589800</td>\n",
       "    </tr>\n",
       "    <tr>\n",
       "      <td>99</td>\n",
       "      <td>Jul 23, 2019</td>\n",
       "      <td>1144.00</td>\n",
       "      <td>1146.90</td>\n",
       "      <td>1131.80</td>\n",
       "      <td>1146.21</td>\n",
       "      <td>1146.21</td>\n",
       "      <td>1093700</td>\n",
       "    </tr>\n",
       "  </tbody>\n",
       "</table>\n",
       "<p>100 rows × 7 columns</p>\n",
       "</div>"
      ],
      "text/plain": [
       "            Date     Open     High      Low   Close* Adj Close**   Volume\n",
       "0   Dec 11, 2019  1350.84  1351.20  1342.67  1345.02     1345.02   850400\n",
       "1   Dec 10, 2019  1341.50  1349.97  1336.04  1344.66     1344.66  1094100\n",
       "2   Dec 09, 2019  1338.04  1359.45  1337.84  1343.56     1343.56  1354300\n",
       "3   Dec 06, 2019  1333.44  1344.00  1333.44  1340.62     1340.62  1314800\n",
       "4   Dec 05, 2019  1328.00  1329.36  1316.44  1328.13     1328.13  1212700\n",
       "..           ...      ...      ...      ...      ...         ...      ...\n",
       "95  Jul 29, 2019  1241.05  1247.37  1228.23  1239.41     1239.41  2223700\n",
       "96  Jul 26, 2019  1224.04  1265.55  1224.00  1250.41     1250.41  4805800\n",
       "97  Jul 25, 2019  1137.82  1141.70  1120.92  1132.12     1132.12  2209800\n",
       "98  Jul 24, 2019  1131.90  1144.00  1126.99  1137.81     1137.81  1589800\n",
       "99  Jul 23, 2019  1144.00  1146.90  1131.80  1146.21     1146.21  1093700\n",
       "\n",
       "[100 rows x 7 columns]"
      ]
     },
     "execution_count": 19,
     "metadata": {},
     "output_type": "execute_result"
    }
   ],
   "source": [
    "dataset"
   ]
  },
  {
   "cell_type": "code",
   "execution_count": 20,
   "metadata": {},
   "outputs": [],
   "source": [
    "dataset = dataset.reindex(index=dataset.index[::-1])"
   ]
  },
  {
   "cell_type": "code",
   "execution_count": 21,
   "metadata": {},
   "outputs": [
    {
     "data": {
      "text/html": [
       "<div>\n",
       "<style scoped>\n",
       "    .dataframe tbody tr th:only-of-type {\n",
       "        vertical-align: middle;\n",
       "    }\n",
       "\n",
       "    .dataframe tbody tr th {\n",
       "        vertical-align: top;\n",
       "    }\n",
       "\n",
       "    .dataframe thead th {\n",
       "        text-align: right;\n",
       "    }\n",
       "</style>\n",
       "<table border=\"1\" class=\"dataframe\">\n",
       "  <thead>\n",
       "    <tr style=\"text-align: right;\">\n",
       "      <th></th>\n",
       "      <th>Date</th>\n",
       "      <th>Open</th>\n",
       "      <th>High</th>\n",
       "      <th>Low</th>\n",
       "      <th>Close*</th>\n",
       "      <th>Adj Close**</th>\n",
       "      <th>Volume</th>\n",
       "    </tr>\n",
       "  </thead>\n",
       "  <tbody>\n",
       "    <tr>\n",
       "      <td>99</td>\n",
       "      <td>Jul 23, 2019</td>\n",
       "      <td>1144.00</td>\n",
       "      <td>1146.90</td>\n",
       "      <td>1131.80</td>\n",
       "      <td>1146.21</td>\n",
       "      <td>1146.21</td>\n",
       "      <td>1093700</td>\n",
       "    </tr>\n",
       "    <tr>\n",
       "      <td>98</td>\n",
       "      <td>Jul 24, 2019</td>\n",
       "      <td>1131.90</td>\n",
       "      <td>1144.00</td>\n",
       "      <td>1126.99</td>\n",
       "      <td>1137.81</td>\n",
       "      <td>1137.81</td>\n",
       "      <td>1589800</td>\n",
       "    </tr>\n",
       "    <tr>\n",
       "      <td>97</td>\n",
       "      <td>Jul 25, 2019</td>\n",
       "      <td>1137.82</td>\n",
       "      <td>1141.70</td>\n",
       "      <td>1120.92</td>\n",
       "      <td>1132.12</td>\n",
       "      <td>1132.12</td>\n",
       "      <td>2209800</td>\n",
       "    </tr>\n",
       "    <tr>\n",
       "      <td>96</td>\n",
       "      <td>Jul 26, 2019</td>\n",
       "      <td>1224.04</td>\n",
       "      <td>1265.55</td>\n",
       "      <td>1224.00</td>\n",
       "      <td>1250.41</td>\n",
       "      <td>1250.41</td>\n",
       "      <td>4805800</td>\n",
       "    </tr>\n",
       "    <tr>\n",
       "      <td>95</td>\n",
       "      <td>Jul 29, 2019</td>\n",
       "      <td>1241.05</td>\n",
       "      <td>1247.37</td>\n",
       "      <td>1228.23</td>\n",
       "      <td>1239.41</td>\n",
       "      <td>1239.41</td>\n",
       "      <td>2223700</td>\n",
       "    </tr>\n",
       "    <tr>\n",
       "      <td>...</td>\n",
       "      <td>...</td>\n",
       "      <td>...</td>\n",
       "      <td>...</td>\n",
       "      <td>...</td>\n",
       "      <td>...</td>\n",
       "      <td>...</td>\n",
       "      <td>...</td>\n",
       "    </tr>\n",
       "    <tr>\n",
       "      <td>4</td>\n",
       "      <td>Dec 05, 2019</td>\n",
       "      <td>1328.00</td>\n",
       "      <td>1329.36</td>\n",
       "      <td>1316.44</td>\n",
       "      <td>1328.13</td>\n",
       "      <td>1328.13</td>\n",
       "      <td>1212700</td>\n",
       "    </tr>\n",
       "    <tr>\n",
       "      <td>3</td>\n",
       "      <td>Dec 06, 2019</td>\n",
       "      <td>1333.44</td>\n",
       "      <td>1344.00</td>\n",
       "      <td>1333.44</td>\n",
       "      <td>1340.62</td>\n",
       "      <td>1340.62</td>\n",
       "      <td>1314800</td>\n",
       "    </tr>\n",
       "    <tr>\n",
       "      <td>2</td>\n",
       "      <td>Dec 09, 2019</td>\n",
       "      <td>1338.04</td>\n",
       "      <td>1359.45</td>\n",
       "      <td>1337.84</td>\n",
       "      <td>1343.56</td>\n",
       "      <td>1343.56</td>\n",
       "      <td>1354300</td>\n",
       "    </tr>\n",
       "    <tr>\n",
       "      <td>1</td>\n",
       "      <td>Dec 10, 2019</td>\n",
       "      <td>1341.50</td>\n",
       "      <td>1349.97</td>\n",
       "      <td>1336.04</td>\n",
       "      <td>1344.66</td>\n",
       "      <td>1344.66</td>\n",
       "      <td>1094100</td>\n",
       "    </tr>\n",
       "    <tr>\n",
       "      <td>0</td>\n",
       "      <td>Dec 11, 2019</td>\n",
       "      <td>1350.84</td>\n",
       "      <td>1351.20</td>\n",
       "      <td>1342.67</td>\n",
       "      <td>1345.02</td>\n",
       "      <td>1345.02</td>\n",
       "      <td>850400</td>\n",
       "    </tr>\n",
       "  </tbody>\n",
       "</table>\n",
       "<p>100 rows × 7 columns</p>\n",
       "</div>"
      ],
      "text/plain": [
       "            Date     Open     High      Low   Close* Adj Close**   Volume\n",
       "99  Jul 23, 2019  1144.00  1146.90  1131.80  1146.21     1146.21  1093700\n",
       "98  Jul 24, 2019  1131.90  1144.00  1126.99  1137.81     1137.81  1589800\n",
       "97  Jul 25, 2019  1137.82  1141.70  1120.92  1132.12     1132.12  2209800\n",
       "96  Jul 26, 2019  1224.04  1265.55  1224.00  1250.41     1250.41  4805800\n",
       "95  Jul 29, 2019  1241.05  1247.37  1228.23  1239.41     1239.41  2223700\n",
       "..           ...      ...      ...      ...      ...         ...      ...\n",
       "4   Dec 05, 2019  1328.00  1329.36  1316.44  1328.13     1328.13  1212700\n",
       "3   Dec 06, 2019  1333.44  1344.00  1333.44  1340.62     1340.62  1314800\n",
       "2   Dec 09, 2019  1338.04  1359.45  1337.84  1343.56     1343.56  1354300\n",
       "1   Dec 10, 2019  1341.50  1349.97  1336.04  1344.66     1344.66  1094100\n",
       "0   Dec 11, 2019  1350.84  1351.20  1342.67  1345.02     1345.02   850400\n",
       "\n",
       "[100 rows x 7 columns]"
      ]
     },
     "execution_count": 21,
     "metadata": {},
     "output_type": "execute_result"
    }
   ],
   "source": [
    "dataset"
   ]
  },
  {
   "cell_type": "code",
   "execution_count": 22,
   "metadata": {},
   "outputs": [],
   "source": [
    "dataset.reset_index(drop = True,inplace = True)"
   ]
  },
  {
   "cell_type": "code",
   "execution_count": 23,
   "metadata": {},
   "outputs": [
    {
     "data": {
      "text/html": [
       "<div>\n",
       "<style scoped>\n",
       "    .dataframe tbody tr th:only-of-type {\n",
       "        vertical-align: middle;\n",
       "    }\n",
       "\n",
       "    .dataframe tbody tr th {\n",
       "        vertical-align: top;\n",
       "    }\n",
       "\n",
       "    .dataframe thead th {\n",
       "        text-align: right;\n",
       "    }\n",
       "</style>\n",
       "<table border=\"1\" class=\"dataframe\">\n",
       "  <thead>\n",
       "    <tr style=\"text-align: right;\">\n",
       "      <th></th>\n",
       "      <th>Date</th>\n",
       "      <th>Open</th>\n",
       "      <th>High</th>\n",
       "      <th>Low</th>\n",
       "      <th>Close*</th>\n",
       "      <th>Adj Close**</th>\n",
       "      <th>Volume</th>\n",
       "    </tr>\n",
       "  </thead>\n",
       "  <tbody>\n",
       "    <tr>\n",
       "      <td>0</td>\n",
       "      <td>Jul 23, 2019</td>\n",
       "      <td>1144.00</td>\n",
       "      <td>1146.90</td>\n",
       "      <td>1131.80</td>\n",
       "      <td>1146.21</td>\n",
       "      <td>1146.21</td>\n",
       "      <td>1093700</td>\n",
       "    </tr>\n",
       "    <tr>\n",
       "      <td>1</td>\n",
       "      <td>Jul 24, 2019</td>\n",
       "      <td>1131.90</td>\n",
       "      <td>1144.00</td>\n",
       "      <td>1126.99</td>\n",
       "      <td>1137.81</td>\n",
       "      <td>1137.81</td>\n",
       "      <td>1589800</td>\n",
       "    </tr>\n",
       "    <tr>\n",
       "      <td>2</td>\n",
       "      <td>Jul 25, 2019</td>\n",
       "      <td>1137.82</td>\n",
       "      <td>1141.70</td>\n",
       "      <td>1120.92</td>\n",
       "      <td>1132.12</td>\n",
       "      <td>1132.12</td>\n",
       "      <td>2209800</td>\n",
       "    </tr>\n",
       "    <tr>\n",
       "      <td>3</td>\n",
       "      <td>Jul 26, 2019</td>\n",
       "      <td>1224.04</td>\n",
       "      <td>1265.55</td>\n",
       "      <td>1224.00</td>\n",
       "      <td>1250.41</td>\n",
       "      <td>1250.41</td>\n",
       "      <td>4805800</td>\n",
       "    </tr>\n",
       "    <tr>\n",
       "      <td>4</td>\n",
       "      <td>Jul 29, 2019</td>\n",
       "      <td>1241.05</td>\n",
       "      <td>1247.37</td>\n",
       "      <td>1228.23</td>\n",
       "      <td>1239.41</td>\n",
       "      <td>1239.41</td>\n",
       "      <td>2223700</td>\n",
       "    </tr>\n",
       "    <tr>\n",
       "      <td>...</td>\n",
       "      <td>...</td>\n",
       "      <td>...</td>\n",
       "      <td>...</td>\n",
       "      <td>...</td>\n",
       "      <td>...</td>\n",
       "      <td>...</td>\n",
       "      <td>...</td>\n",
       "    </tr>\n",
       "    <tr>\n",
       "      <td>95</td>\n",
       "      <td>Dec 05, 2019</td>\n",
       "      <td>1328.00</td>\n",
       "      <td>1329.36</td>\n",
       "      <td>1316.44</td>\n",
       "      <td>1328.13</td>\n",
       "      <td>1328.13</td>\n",
       "      <td>1212700</td>\n",
       "    </tr>\n",
       "    <tr>\n",
       "      <td>96</td>\n",
       "      <td>Dec 06, 2019</td>\n",
       "      <td>1333.44</td>\n",
       "      <td>1344.00</td>\n",
       "      <td>1333.44</td>\n",
       "      <td>1340.62</td>\n",
       "      <td>1340.62</td>\n",
       "      <td>1314800</td>\n",
       "    </tr>\n",
       "    <tr>\n",
       "      <td>97</td>\n",
       "      <td>Dec 09, 2019</td>\n",
       "      <td>1338.04</td>\n",
       "      <td>1359.45</td>\n",
       "      <td>1337.84</td>\n",
       "      <td>1343.56</td>\n",
       "      <td>1343.56</td>\n",
       "      <td>1354300</td>\n",
       "    </tr>\n",
       "    <tr>\n",
       "      <td>98</td>\n",
       "      <td>Dec 10, 2019</td>\n",
       "      <td>1341.50</td>\n",
       "      <td>1349.97</td>\n",
       "      <td>1336.04</td>\n",
       "      <td>1344.66</td>\n",
       "      <td>1344.66</td>\n",
       "      <td>1094100</td>\n",
       "    </tr>\n",
       "    <tr>\n",
       "      <td>99</td>\n",
       "      <td>Dec 11, 2019</td>\n",
       "      <td>1350.84</td>\n",
       "      <td>1351.20</td>\n",
       "      <td>1342.67</td>\n",
       "      <td>1345.02</td>\n",
       "      <td>1345.02</td>\n",
       "      <td>850400</td>\n",
       "    </tr>\n",
       "  </tbody>\n",
       "</table>\n",
       "<p>100 rows × 7 columns</p>\n",
       "</div>"
      ],
      "text/plain": [
       "            Date     Open     High      Low   Close* Adj Close**   Volume\n",
       "0   Jul 23, 2019  1144.00  1146.90  1131.80  1146.21     1146.21  1093700\n",
       "1   Jul 24, 2019  1131.90  1144.00  1126.99  1137.81     1137.81  1589800\n",
       "2   Jul 25, 2019  1137.82  1141.70  1120.92  1132.12     1132.12  2209800\n",
       "3   Jul 26, 2019  1224.04  1265.55  1224.00  1250.41     1250.41  4805800\n",
       "4   Jul 29, 2019  1241.05  1247.37  1228.23  1239.41     1239.41  2223700\n",
       "..           ...      ...      ...      ...      ...         ...      ...\n",
       "95  Dec 05, 2019  1328.00  1329.36  1316.44  1328.13     1328.13  1212700\n",
       "96  Dec 06, 2019  1333.44  1344.00  1333.44  1340.62     1340.62  1314800\n",
       "97  Dec 09, 2019  1338.04  1359.45  1337.84  1343.56     1343.56  1354300\n",
       "98  Dec 10, 2019  1341.50  1349.97  1336.04  1344.66     1344.66  1094100\n",
       "99  Dec 11, 2019  1350.84  1351.20  1342.67  1345.02     1345.02   850400\n",
       "\n",
       "[100 rows x 7 columns]"
      ]
     },
     "execution_count": 23,
     "metadata": {},
     "output_type": "execute_result"
    }
   ],
   "source": [
    "dataset"
   ]
  },
  {
   "cell_type": "code",
   "execution_count": 24,
   "metadata": {},
   "outputs": [],
   "source": [
    "days = {}\n",
    "for i in range(len(dataset.index)):\n",
    "    days[dataset['Date'][i]] = i"
   ]
  },
  {
   "cell_type": "code",
   "execution_count": 25,
   "metadata": {},
   "outputs": [
    {
     "data": {
      "text/plain": [
       "{'Jul 23, 2019': 0,\n",
       " 'Jul 24, 2019': 1,\n",
       " 'Jul 25, 2019': 2,\n",
       " 'Jul 26, 2019': 3,\n",
       " 'Jul 29, 2019': 4,\n",
       " 'Jul 30, 2019': 5,\n",
       " 'Jul 31, 2019': 6,\n",
       " 'Aug 01, 2019': 7,\n",
       " 'Aug 02, 2019': 8,\n",
       " 'Aug 05, 2019': 9,\n",
       " 'Aug 06, 2019': 10,\n",
       " 'Aug 07, 2019': 11,\n",
       " 'Aug 08, 2019': 12,\n",
       " 'Aug 09, 2019': 13,\n",
       " 'Aug 12, 2019': 14,\n",
       " 'Aug 13, 2019': 15,\n",
       " 'Aug 14, 2019': 16,\n",
       " 'Aug 15, 2019': 17,\n",
       " 'Aug 16, 2019': 18,\n",
       " 'Aug 19, 2019': 19,\n",
       " 'Aug 20, 2019': 20,\n",
       " 'Aug 21, 2019': 21,\n",
       " 'Aug 22, 2019': 22,\n",
       " 'Aug 23, 2019': 23,\n",
       " 'Aug 26, 2019': 24,\n",
       " 'Aug 27, 2019': 25,\n",
       " 'Aug 28, 2019': 26,\n",
       " 'Aug 29, 2019': 27,\n",
       " 'Aug 30, 2019': 28,\n",
       " 'Sep 03, 2019': 29,\n",
       " 'Sep 04, 2019': 30,\n",
       " 'Sep 05, 2019': 31,\n",
       " 'Sep 06, 2019': 32,\n",
       " 'Sep 09, 2019': 33,\n",
       " 'Sep 10, 2019': 34,\n",
       " 'Sep 11, 2019': 35,\n",
       " 'Sep 12, 2019': 36,\n",
       " 'Sep 13, 2019': 37,\n",
       " 'Sep 16, 2019': 38,\n",
       " 'Sep 17, 2019': 39,\n",
       " 'Sep 18, 2019': 40,\n",
       " 'Sep 19, 2019': 41,\n",
       " 'Sep 20, 2019': 42,\n",
       " 'Sep 23, 2019': 43,\n",
       " 'Sep 24, 2019': 44,\n",
       " 'Sep 25, 2019': 45,\n",
       " 'Sep 26, 2019': 46,\n",
       " 'Sep 27, 2019': 47,\n",
       " 'Sep 30, 2019': 48,\n",
       " 'Oct 01, 2019': 49,\n",
       " 'Oct 02, 2019': 50,\n",
       " 'Oct 03, 2019': 51,\n",
       " 'Oct 04, 2019': 52,\n",
       " 'Oct 07, 2019': 53,\n",
       " 'Oct 08, 2019': 54,\n",
       " 'Oct 09, 2019': 55,\n",
       " 'Oct 10, 2019': 56,\n",
       " 'Oct 11, 2019': 57,\n",
       " 'Oct 14, 2019': 58,\n",
       " 'Oct 15, 2019': 59,\n",
       " 'Oct 16, 2019': 60,\n",
       " 'Oct 17, 2019': 61,\n",
       " 'Oct 18, 2019': 62,\n",
       " 'Oct 21, 2019': 63,\n",
       " 'Oct 22, 2019': 64,\n",
       " 'Oct 23, 2019': 65,\n",
       " 'Oct 24, 2019': 66,\n",
       " 'Oct 25, 2019': 67,\n",
       " 'Oct 28, 2019': 68,\n",
       " 'Oct 29, 2019': 69,\n",
       " 'Oct 30, 2019': 70,\n",
       " 'Oct 31, 2019': 71,\n",
       " 'Nov 01, 2019': 72,\n",
       " 'Nov 04, 2019': 73,\n",
       " 'Nov 05, 2019': 74,\n",
       " 'Nov 06, 2019': 75,\n",
       " 'Nov 07, 2019': 76,\n",
       " 'Nov 08, 2019': 77,\n",
       " 'Nov 11, 2019': 78,\n",
       " 'Nov 12, 2019': 79,\n",
       " 'Nov 13, 2019': 80,\n",
       " 'Nov 14, 2019': 81,\n",
       " 'Nov 15, 2019': 82,\n",
       " 'Nov 18, 2019': 83,\n",
       " 'Nov 19, 2019': 84,\n",
       " 'Nov 20, 2019': 85,\n",
       " 'Nov 21, 2019': 86,\n",
       " 'Nov 22, 2019': 87,\n",
       " 'Nov 25, 2019': 88,\n",
       " 'Nov 26, 2019': 89,\n",
       " 'Nov 27, 2019': 90,\n",
       " 'Nov 29, 2019': 91,\n",
       " 'Dec 02, 2019': 92,\n",
       " 'Dec 03, 2019': 93,\n",
       " 'Dec 04, 2019': 94,\n",
       " 'Dec 05, 2019': 95,\n",
       " 'Dec 06, 2019': 96,\n",
       " 'Dec 09, 2019': 97,\n",
       " 'Dec 10, 2019': 98,\n",
       " 'Dec 11, 2019': 99}"
      ]
     },
     "execution_count": 25,
     "metadata": {},
     "output_type": "execute_result"
    }
   ],
   "source": [
    "days"
   ]
  },
  {
   "cell_type": "code",
   "execution_count": 30,
   "metadata": {},
   "outputs": [
    {
     "data": {
      "text/plain": [
       "Date           object\n",
       "Open           object\n",
       "High           object\n",
       "Low            object\n",
       "Close*         object\n",
       "Adj Close**    object\n",
       "Volume         object\n",
       "dtype: object"
      ]
     },
     "execution_count": 30,
     "metadata": {},
     "output_type": "execute_result"
    }
   ],
   "source": [
    "dataset.dtypes"
   ]
  },
  {
   "cell_type": "code",
   "execution_count": 31,
   "metadata": {},
   "outputs": [],
   "source": [
    "x = dataset['Date'].values.astype(str)"
   ]
  },
  {
   "cell_type": "code",
   "execution_count": 33,
   "metadata": {},
   "outputs": [],
   "source": [
    "open_price = dataset['Open'].values.astype(float)\n",
    "high_price = dataset['High'].values.astype(float)\n",
    "low_price = dataset['Low'].values.astype(float)\n",
    "close_price = dataset['Adj Close**'].values.astype(float)"
   ]
  },
  {
   "cell_type": "code",
   "execution_count": 34,
   "metadata": {},
   "outputs": [
    {
     "data": {
      "text/plain": [
       "array([1144.  , 1131.9 , 1137.82, 1224.04, 1241.05, 1225.41, 1223.  ,\n",
       "       1214.03, 1200.74, 1170.04, 1163.31, 1156.  , 1182.83, 1197.99,\n",
       "       1179.21, 1171.46, 1176.31, 1163.5 , 1179.55, 1190.09, 1195.25,\n",
       "       1193.15, 1194.07, 1181.99, 1157.26, 1180.53, 1161.71, 1181.12,\n",
       "       1198.5 , 1177.03, 1176.71, 1191.53, 1208.13, 1204.  , 1195.15,\n",
       "       1203.41, 1224.3 , 1231.35, 1229.52, 1230.4 , 1227.51, 1232.06,\n",
       "       1233.12, 1226.  , 1240.  , 1215.82, 1241.96, 1243.01, 1220.97,\n",
       "       1219.  , 1196.98, 1180.  , 1191.89, 1204.4 , 1197.59, 1199.35,\n",
       "       1198.58, 1222.21, 1212.34, 1220.4 , 1241.17, 1250.93, 1253.46,\n",
       "       1252.26, 1247.85, 1242.36, 1260.9 , 1251.03, 1275.45, 1276.23,\n",
       "       1252.97, 1261.28, 1265.  , 1276.45, 1292.89, 1289.46, 1294.28,\n",
       "       1305.28, 1303.18, 1300.  , 1294.07, 1297.5 , 1318.94, 1332.22,\n",
       "       1327.7 , 1311.74, 1301.48, 1305.62, 1299.18, 1309.86, 1315.  ,\n",
       "       1307.12, 1301.  , 1279.57, 1307.01, 1328.  , 1333.44, 1338.04,\n",
       "       1341.5 , 1350.84])"
      ]
     },
     "execution_count": 34,
     "metadata": {},
     "output_type": "execute_result"
    }
   ],
   "source": [
    "open_price"
   ]
  },
  {
   "cell_type": "markdown",
   "metadata": {},
   "source": [
    "# Data Visualization"
   ]
  },
  {
   "cell_type": "code",
   "execution_count": 35,
   "metadata": {},
   "outputs": [
    {
     "data": {
      "text/plain": [
       "<matplotlib.legend.Legend at 0x11c3a4350>"
      ]
     },
     "execution_count": 35,
     "metadata": {},
     "output_type": "execute_result"
    },
    {
     "data": {
      "image/png": "[encoded data removed]",
      "text/plain": [
       "<Figure size 960x480 with 1 Axes>"
      ]
     },
     "metadata": {},
     "output_type": "display_data"
    }
   ],
   "source": [
    "from matplotlib.pyplot import figure\n",
    "figure(num=None, figsize=(12, 6), dpi=80, facecolor='w', edgecolor='k')\n",
    "plt.title('Time series plot for open and high price of Alphabet Inc.(Google)')\n",
    "plt.xlabel('Days')\n",
    "plt.ylabel('Price in USD')\n",
    "plt.plot(list(days.values()),open_price,linewidth=1)\n",
    "plt.plot(list(days.values()),high_price,linewidth=1)\n",
    "plt.legend(('Open','High'),loc='upper left')"
   ]
  },
  {
   "cell_type": "code",
   "execution_count": 36,
   "metadata": {},
   "outputs": [
    {
     "data": {
      "image/png": "[encoded data removed]",
      "text/plain": [
       "<Figure size 800x400 with 1 Axes>"
      ]
     },
     "metadata": {},
     "output_type": "display_data"
    }
   ],
   "source": [
    "from matplotlib.pyplot import figure\n",
    "figure(num=None, figsize=(10, 5), dpi=80, facecolor='w', edgecolor='k')\n",
    "plt.title('Scatter plot between open and high price of Alphabet Inc.(Google)')\n",
    "plt.xlabel('Open price in USD')\n",
    "plt.ylabel('High price in USD')\n",
    "plt.scatter(open_price,high_price)\n",
    "correlation = np.corrcoef(open_price,high_price)\n",
    "plt.show()"
   ]
  },
  {
   "cell_type": "code",
   "execution_count": 37,
   "metadata": {},
   "outputs": [
    {
     "data": {
      "text/plain": [
       "array([[1.        , 0.98902731],\n",
       "       [0.98902731, 1.        ]])"
      ]
     },
     "execution_count": 37,
     "metadata": {},
     "output_type": "execute_result"
    }
   ],
   "source": [
    "correlation"
   ]
  },
  {
   "cell_type": "code",
   "execution_count": 38,
   "metadata": {},
   "outputs": [
    {
     "data": {
      "text/plain": [
       "<matplotlib.legend.Legend at 0x11cbd3a90>"
      ]
     },
     "execution_count": 38,
     "metadata": {},
     "output_type": "execute_result"
    },
    {
     "data": {
      "image/png": "[encoded data removed]",
      "text/plain": [
       "<Figure size 960x480 with 1 Axes>"
      ]
     },
     "metadata": {},
     "output_type": "display_data"
    }
   ],
   "source": [
    "from matplotlib.pyplot import figure\n",
    "figure(num=None, figsize=(12, 6), dpi=80, facecolor='w', edgecolor='k')\n",
    "plt.title('Time series plot for close and high price of Alphabet Inc.(Google)')\n",
    "plt.xlabel('Days')\n",
    "plt.ylabel('Price in USD')\n",
    "plt.plot(list(days.values()),close_price,linewidth=1)\n",
    "plt.plot(list(days.values()),high_price,linewidth=1)\n",
    "plt.legend(('Close','High'),loc='upper left')"
   ]
  },
  {
   "cell_type": "code",
   "execution_count": 39,
   "metadata": {},
   "outputs": [
    {
     "data": {
      "image/png": "[encoded data removed]",
      "text/plain": [
       "<Figure size 800x400 with 1 Axes>"
      ]
     },
     "metadata": {},
     "output_type": "display_data"
    }
   ],
   "source": [
    "from matplotlib.pyplot import figure\n",
    "figure(num=None, figsize=(10, 5), dpi=80, facecolor='w', edgecolor='k')\n",
    "plt.title('Scatter plot between close and high price of Alphabet Inc.(Google)')\n",
    "plt.xlabel('Close price in USD')\n",
    "plt.ylabel('High price in USD')\n",
    "plt.scatter(close_price,high_price)\n",
    "correlation = np.corrcoef(close_price,high_price)\n",
    "plt.show()"
   ]
  },
  {
   "cell_type": "code",
   "execution_count": 40,
   "metadata": {},
   "outputs": [
    {
     "data": {
      "text/plain": [
       "array([[1.        , 0.99194565],\n",
       "       [0.99194565, 1.        ]])"
      ]
     },
     "execution_count": 40,
     "metadata": {},
     "output_type": "execute_result"
    }
   ],
   "source": [
    "correlation"
   ]
  },
  {
   "cell_type": "code",
   "execution_count": 41,
   "metadata": {},
   "outputs": [
    {
     "data": {
      "text/plain": [
       "<matplotlib.legend.Legend at 0x11cee4950>"
      ]
     },
     "execution_count": 41,
     "metadata": {},
     "output_type": "execute_result"
    },
    {
     "data": {
      "image/png": "[encoded data removed]",
      "text/plain": [
       "<Figure size 960x480 with 1 Axes>"
      ]
     },
     "metadata": {},
     "output_type": "display_data"
    }
   ],
   "source": [
    "from matplotlib.pyplot import figure\n",
    "figure(num=None, figsize=(12, 6), dpi=80, facecolor='w', edgecolor='k')\n",
    "plt.title('Time series plot for low and high price of Alphabet Inc.(Google)')\n",
    "plt.xlabel('Days')\n",
    "plt.ylabel('Price in USD')\n",
    "plt.plot(list(days.values()),low_price,linewidth=1)\n",
    "plt.plot(list(days.values()),high_price,linewidth=1)\n",
    "plt.legend(('Low','High'),loc='upper left')"
   ]
  },
  {
   "cell_type": "code",
   "execution_count": 42,
   "metadata": {},
   "outputs": [
    {
     "data": {
      "image/png": "[encoded data removed]",
      "text/plain": [
       "<Figure size 800x400 with 1 Axes>"
      ]
     },
     "metadata": {},
     "output_type": "display_data"
    }
   ],
   "source": [
    "from matplotlib.pyplot import figure\n",
    "figure(num=None, figsize=(10, 5), dpi=80, facecolor='w', edgecolor='k')\n",
    "plt.title('Scatter plot between low and high price of Alphabet Inc.(Google)')\n",
    "plt.xlabel('Low price in USD')\n",
    "plt.ylabel('High price in USD')\n",
    "plt.scatter(low_price,high_price)\n",
    "correlation = np.corrcoef(low_price,high_price)\n",
    "plt.show()"
   ]
  },
  {
   "cell_type": "code",
   "execution_count": 43,
   "metadata": {},
   "outputs": [
    {
     "data": {
      "text/plain": [
       "array([[1.        , 0.99108707],\n",
       "       [0.99108707, 1.        ]])"
      ]
     },
     "execution_count": 43,
     "metadata": {},
     "output_type": "execute_result"
    }
   ],
   "source": [
    "correlation"
   ]
  },
  {
   "cell_type": "code",
   "execution_count": 44,
   "metadata": {},
   "outputs": [],
   "source": [
    "import seaborn as sns\n",
    "sns.set(style=\"whitegrid\")"
   ]
  },
  {
   "cell_type": "code",
   "execution_count": 45,
   "metadata": {},
   "outputs": [
    {
     "data": {
      "text/plain": [
       "Text(0.5, 1.0, 'Open price in USD')"
      ]
     },
     "execution_count": 45,
     "metadata": {},
     "output_type": "execute_result"
    },
    {
     "data": {
      "image/png": "[encoded data removed]",
      "text/plain": [
       "<Figure size 432x288 with 1 Axes>"
      ]
     },
     "metadata": {},
     "output_type": "display_data"
    }
   ],
   "source": [
    "ax = sns.boxplot(x=open_price)\n",
    "ax.set_title('Open price in USD')"
   ]
  },
  {
   "cell_type": "code",
   "execution_count": 46,
   "metadata": {},
   "outputs": [
    {
     "data": {
      "text/plain": [
       "Text(0.5, 1.0, 'High price in USD')"
      ]
     },
     "execution_count": 46,
     "metadata": {},
     "output_type": "execute_result"
    },
    {
     "data": {
      "image/png": "[encoded data removed]",
      "text/plain": [
       "<Figure size 432x288 with 1 Axes>"
      ]
     },
     "metadata": {},
     "output_type": "display_data"
    }
   ],
   "source": [
    "ax = sns.boxplot(x=high_price)\n",
    "ax.set_title('High price in USD')"
   ]
  },
  {
   "cell_type": "code",
   "execution_count": 47,
   "metadata": {},
   "outputs": [
    {
     "data": {
      "text/plain": [
       "Text(0.5, 1.0, 'Low price in USD')"
      ]
     },
     "execution_count": 47,
     "metadata": {},
     "output_type": "execute_result"
    },
    {
     "data": {
      "image/png": "[encoded data removed]",
      "text/plain": [
       "<Figure size 432x288 with 1 Axes>"
      ]
     },
     "metadata": {},
     "output_type": "display_data"
    }
   ],
   "source": [
    "ax = sns.boxplot(x=low_price)\n",
    "ax.set_title('Low price in USD')"
   ]
  },
  {
   "cell_type": "code",
   "execution_count": 48,
   "metadata": {},
   "outputs": [
    {
     "data": {
      "text/plain": [
       "Text(0.5, 1.0, 'Close price in USD')"
      ]
     },
     "execution_count": 48,
     "metadata": {},
     "output_type": "execute_result"
    },
    {
     "data": {
      "image/png": "[encoded data removed]",
      "text/plain": [
       "<Figure size 432x288 with 1 Axes>"
      ]
     },
     "metadata": {},
     "output_type": "display_data"
    }
   ],
   "source": [
    "ax = sns.boxplot(x=close_price)\n",
    "ax.set_title('Close price in USD')"
   ]
  },
  {
   "cell_type": "code",
   "execution_count": 49,
   "metadata": {},
   "outputs": [
    {
     "data": {
      "text/plain": [
       "([<matplotlib.lines.Line2D at 0x1a1f644a90>,\n",
       "  <matplotlib.lines.Line2D at 0x1a1f667e10>,\n",
       "  <matplotlib.lines.Line2D at 0x1a1f6768d0>,\n",
       "  <matplotlib.lines.Line2D at 0x1a1f676f10>,\n",
       "  <matplotlib.lines.Line2D at 0x1a1f67da10>,\n",
       "  <matplotlib.lines.Line2D at 0x1a1f67db90>,\n",
       "  <matplotlib.lines.Line2D at 0x1a1f5cdc50>,\n",
       "  <matplotlib.lines.Line2D at 0x1a1f5cdd90>,\n",
       "  <matplotlib.lines.Line2D at 0x1a1f5d7d90>,\n",
       "  <matplotlib.lines.Line2D at 0x1a1f67db50>,\n",
       "  <matplotlib.lines.Line2D at 0x1a1f5e2dd0>,\n",
       "  <matplotlib.lines.Line2D at 0x1a1f5e2f50>,\n",
       "  <matplotlib.lines.Line2D at 0x1a1f5eff10>,\n",
       "  <matplotlib.lines.Line2D at 0x1a1f5efcd0>,\n",
       "  <matplotlib.lines.Line2D at 0x1a1f5f8e10>,\n",
       "  <matplotlib.lines.Line2D at 0x1a1f603910>,\n",
       "  <matplotlib.lines.Line2D at 0x1a1f603f50>,\n",
       "  <matplotlib.lines.Line2D at 0x1a1f6e2a50>,\n",
       "  <matplotlib.lines.Line2D at 0x1a1f6e2b90>,\n",
       "  <matplotlib.lines.Line2D at 0x1a1f6ebb90>,\n",
       "  <matplotlib.lines.Line2D at 0x1a1f6ebcd0>,\n",
       "  <matplotlib.lines.Line2D at 0x1a1f6f4cd0>,\n",
       "  <matplotlib.lines.Line2D at 0x1a1f6f4e50>,\n",
       "  <matplotlib.lines.Line2D at 0x1a1f700e10>,\n",
       "  <matplotlib.lines.Line2D at 0x1a1f700f90>,\n",
       "  <matplotlib.lines.Line2D at 0x1a1f709f50>,\n",
       "  <matplotlib.lines.Line2D at 0x1a1f709d10>,\n",
       "  <matplotlib.lines.Line2D at 0x1a1f714e50>,\n",
       "  <matplotlib.lines.Line2D at 0x1a1f71d950>,\n",
       "  <matplotlib.lines.Line2D at 0x1a1f71df90>,\n",
       "  <matplotlib.lines.Line2D at 0x1a1f728a90>,\n",
       "  <matplotlib.lines.Line2D at 0x1a1f728bd0>,\n",
       "  <matplotlib.lines.Line2D at 0x1a1f732bd0>,\n",
       "  <matplotlib.lines.Line2D at 0x1a1f732d10>,\n",
       "  <matplotlib.lines.Line2D at 0x1a1f73bd10>,\n",
       "  <matplotlib.lines.Line2D at 0x1a1f73be90>,\n",
       "  <matplotlib.lines.Line2D at 0x1a1f747e50>,\n",
       "  <matplotlib.lines.Line2D at 0x1a1f747fd0>,\n",
       "  <matplotlib.lines.Line2D at 0x1a1f751f90>,\n",
       "  <matplotlib.lines.Line2D at 0x1a1f751d50>,\n",
       "  <matplotlib.lines.Line2D at 0x1a1f75ce90>,\n",
       "  <matplotlib.lines.Line2D at 0x1a1f766990>,\n",
       "  <matplotlib.lines.Line2D at 0x1a1f766ad0>,\n",
       "  <matplotlib.lines.Line2D at 0x1a1f771ad0>,\n",
       "  <matplotlib.lines.Line2D at 0x1a1f771c10>,\n",
       "  <matplotlib.lines.Line2D at 0x1a1f779c10>,\n",
       "  <matplotlib.lines.Line2D at 0x1a1f779d50>,\n",
       "  <matplotlib.lines.Line2D at 0x1a1f784d50>,\n",
       "  <matplotlib.lines.Line2D at 0x1a1f784ed0>,\n",
       "  <matplotlib.lines.Line2D at 0x1a1f750e90>,\n",
       "  <matplotlib.lines.Line2D at 0x1a1f750fd0>,\n",
       "  <matplotlib.lines.Line2D at 0x1a1f798fd0>,\n",
       "  <matplotlib.lines.Line2D at 0x1a1f7a1390>,\n",
       "  <matplotlib.lines.Line2D at 0x1a1f7a1ed0>,\n",
       "  <matplotlib.lines.Line2D at 0x1a1f7ab9d0>,\n",
       "  <matplotlib.lines.Line2D at 0x1a1f7abb10>,\n",
       "  <matplotlib.lines.Line2D at 0x1a1f7b5b10>,\n",
       "  <matplotlib.lines.Line2D at 0x1a1f7b5c50>,\n",
       "  <matplotlib.lines.Line2D at 0x1a1f7c1c50>,\n",
       "  <matplotlib.lines.Line2D at 0x1a1f7c1d90>,\n",
       "  <matplotlib.lines.Line2D at 0x1a1f7cbd90>,\n",
       "  <matplotlib.lines.Line2D at 0x1a1f7cbf10>,\n",
       "  <matplotlib.lines.Line2D at 0x1a1f7d6ed0>,\n",
       "  <matplotlib.lines.Line2D at 0x1a1f7d6c90>,\n",
       "  <matplotlib.lines.Line2D at 0x1a1f7e0dd0>,\n",
       "  <matplotlib.lines.Line2D at 0x1a1f7eb8d0>,\n",
       "  <matplotlib.lines.Line2D at 0x1a1f7ebf10>,\n",
       "  <matplotlib.lines.Line2D at 0x1a1f7f3a10>,\n",
       "  <matplotlib.lines.Line2D at 0x1a1f7f3b50>,\n",
       "  <matplotlib.lines.Line2D at 0x1a1f7fdb50>,\n",
       "  <matplotlib.lines.Line2D at 0x1a1f7fdc90>,\n",
       "  <matplotlib.lines.Line2D at 0x1a1f806c90>,\n",
       "  <matplotlib.lines.Line2D at 0x1a1f806dd0>,\n",
       "  <matplotlib.lines.Line2D at 0x1a1f812dd0>,\n",
       "  <matplotlib.lines.Line2D at 0x1a1f812f50>,\n",
       "  <matplotlib.lines.Line2D at 0x1a1f81df10>,\n",
       "  <matplotlib.lines.Line2D at 0x1a1f81dcd0>,\n",
       "  <matplotlib.lines.Line2D at 0x1a1f827e10>,\n",
       "  <matplotlib.lines.Line2D at 0x1a1f831910>,\n",
       "  <matplotlib.lines.Line2D at 0x1a1f831f50>,\n",
       "  <matplotlib.lines.Line2D at 0x1a1f83da50>,\n",
       "  <matplotlib.lines.Line2D at 0x1a1f83db90>,\n",
       "  <matplotlib.lines.Line2D at 0x1a1f847b90>,\n",
       "  <matplotlib.lines.Line2D at 0x1a1f847cd0>,\n",
       "  <matplotlib.lines.Line2D at 0x1a1f84fcd0>,\n",
       "  <matplotlib.lines.Line2D at 0x1a1f84fe50>,\n",
       "  <matplotlib.lines.Line2D at 0x1a1f859e10>,\n",
       "  <matplotlib.lines.Line2D at 0x1a1f859f90>,\n",
       "  <matplotlib.lines.Line2D at 0x1a1f865f50>,\n",
       "  <matplotlib.lines.Line2D at 0x1a1f865d10>,\n",
       "  <matplotlib.lines.Line2D at 0x1a1f870e50>,\n",
       "  <matplotlib.lines.Line2D at 0x1a1f879950>,\n",
       "  <matplotlib.lines.Line2D at 0x1a1f879f90>,\n",
       "  <matplotlib.lines.Line2D at 0x1a1f884a90>,\n",
       "  <matplotlib.lines.Line2D at 0x1a1f884bd0>,\n",
       "  <matplotlib.lines.Line2D at 0x1a1f88dbd0>,\n",
       "  <matplotlib.lines.Line2D at 0x1a1f88dd10>,\n",
       "  <matplotlib.lines.Line2D at 0x1a1f897d10>,\n",
       "  <matplotlib.lines.Line2D at 0x1a1f897e90>,\n",
       "  <matplotlib.lines.Line2D at 0x1a1f8a1e50>],\n",
       " [<matplotlib.patches.Rectangle at 0x1a1f6679d0>,\n",
       "  <matplotlib.patches.Rectangle at 0x1a1f676310>,\n",
       "  <matplotlib.patches.Rectangle at 0x1a1f676b90>,\n",
       "  <matplotlib.patches.Rectangle at 0x1a1f67d450>,\n",
       "  <matplotlib.patches.Rectangle at 0x1a1f67dcd0>,\n",
       "  <matplotlib.patches.Rectangle at 0x1a1f5cd690>,\n",
       "  <matplotlib.patches.Rectangle at 0x1a1f5cdf10>,\n",
       "  <matplotlib.patches.Rectangle at 0x1a1f5d77d0>,\n",
       "  <matplotlib.patches.Rectangle at 0x1a1f5e2090>,\n",
       "  <matplotlib.patches.Rectangle at 0x1a1f5e2810>,\n",
       "  <matplotlib.patches.Rectangle at 0x1a1f5ef0d0>,\n",
       "  <matplotlib.patches.Rectangle at 0x1a1f5ef950>,\n",
       "  <matplotlib.patches.Rectangle at 0x1a1f5f8210>,\n",
       "  <matplotlib.patches.Rectangle at 0x1a1f5f8a90>,\n",
       "  <matplotlib.patches.Rectangle at 0x1a1f603350>,\n",
       "  <matplotlib.patches.Rectangle at 0x1a1f603bd0>,\n",
       "  <matplotlib.patches.Rectangle at 0x1a1f6e2490>,\n",
       "  <matplotlib.patches.Rectangle at 0x1a1f6e2d10>,\n",
       "  <matplotlib.patches.Rectangle at 0x1a1f6eb5d0>,\n",
       "  <matplotlib.patches.Rectangle at 0x1a1f6ebe50>,\n",
       "  <matplotlib.patches.Rectangle at 0x1a1f6f4710>,\n",
       "  <matplotlib.patches.Rectangle at 0x1a1f6f4f90>,\n",
       "  <matplotlib.patches.Rectangle at 0x1a1f700850>,\n",
       "  <matplotlib.patches.Rectangle at 0x1a1f709110>,\n",
       "  <matplotlib.patches.Rectangle at 0x1a1f709990>,\n",
       "  <matplotlib.patches.Rectangle at 0x1a1f714250>,\n",
       "  <matplotlib.patches.Rectangle at 0x1a1f714ad0>,\n",
       "  <matplotlib.patches.Rectangle at 0x1a1f71d390>,\n",
       "  <matplotlib.patches.Rectangle at 0x1a1f71dc10>,\n",
       "  <matplotlib.patches.Rectangle at 0x1a1f7284d0>,\n",
       "  <matplotlib.patches.Rectangle at 0x1a1f728d50>,\n",
       "  <matplotlib.patches.Rectangle at 0x1a1f732610>,\n",
       "  <matplotlib.patches.Rectangle at 0x1a1f732e90>,\n",
       "  <matplotlib.patches.Rectangle at 0x1a1f73b750>,\n",
       "  <matplotlib.patches.Rectangle at 0x1a1f73bfd0>,\n",
       "  <matplotlib.patches.Rectangle at 0x1a1f747890>,\n",
       "  <matplotlib.patches.Rectangle at 0x1a1f751150>,\n",
       "  <matplotlib.patches.Rectangle at 0x1a1f7519d0>,\n",
       "  <matplotlib.patches.Rectangle at 0x1a1f75c290>,\n",
       "  <matplotlib.patches.Rectangle at 0x1a1f75cb10>,\n",
       "  <matplotlib.patches.Rectangle at 0x1a1f7663d0>,\n",
       "  <matplotlib.patches.Rectangle at 0x1a1f766c50>,\n",
       "  <matplotlib.patches.Rectangle at 0x1a1f771510>,\n",
       "  <matplotlib.patches.Rectangle at 0x1a1f771d90>,\n",
       "  <matplotlib.patches.Rectangle at 0x1a1f779650>,\n",
       "  <matplotlib.patches.Rectangle at 0x1a1f779ed0>,\n",
       "  <matplotlib.patches.Rectangle at 0x1a1f784790>,\n",
       "  <matplotlib.patches.Rectangle at 0x1a1f784fd0>,\n",
       "  <matplotlib.patches.Rectangle at 0x1a1f7508d0>,\n",
       "  <matplotlib.patches.Rectangle at 0x1a1f798190>,\n",
       "  <matplotlib.patches.Rectangle at 0x1a1f798a10>,\n",
       "  <matplotlib.patches.Rectangle at 0x1a1f7a12d0>,\n",
       "  <matplotlib.patches.Rectangle at 0x1a1f7a1b50>,\n",
       "  <matplotlib.patches.Rectangle at 0x1a1f7ab410>,\n",
       "  <matplotlib.patches.Rectangle at 0x1a1f7abc90>,\n",
       "  <matplotlib.patches.Rectangle at 0x1a1f7b5550>,\n",
       "  <matplotlib.patches.Rectangle at 0x1a1f7b5dd0>,\n",
       "  <matplotlib.patches.Rectangle at 0x1a1f7c1690>,\n",
       "  <matplotlib.patches.Rectangle at 0x1a1f7c1f10>,\n",
       "  <matplotlib.patches.Rectangle at 0x1a1f7cb7d0>,\n",
       "  <matplotlib.patches.Rectangle at 0x1a1f7d6090>,\n",
       "  <matplotlib.patches.Rectangle at 0x1a1f7d6910>,\n",
       "  <matplotlib.patches.Rectangle at 0x1a1f7e01d0>,\n",
       "  <matplotlib.patches.Rectangle at 0x1a1f7e0a50>,\n",
       "  <matplotlib.patches.Rectangle at 0x1a1f7eb310>,\n",
       "  <matplotlib.patches.Rectangle at 0x1a1f7ebb90>,\n",
       "  <matplotlib.patches.Rectangle at 0x1a1f7f3450>,\n",
       "  <matplotlib.patches.Rectangle at 0x1a1f7f3cd0>,\n",
       "  <matplotlib.patches.Rectangle at 0x1a1f7fd590>,\n",
       "  <matplotlib.patches.Rectangle at 0x1a1f7fde10>,\n",
       "  <matplotlib.patches.Rectangle at 0x1a1f8066d0>,\n",
       "  <matplotlib.patches.Rectangle at 0x1a1f806f50>,\n",
       "  <matplotlib.patches.Rectangle at 0x1a1f812810>,\n",
       "  <matplotlib.patches.Rectangle at 0x1a1f81d0d0>,\n",
       "  <matplotlib.patches.Rectangle at 0x1a1f81d950>,\n",
       "  <matplotlib.patches.Rectangle at 0x1a1f827210>,\n",
       "  <matplotlib.patches.Rectangle at 0x1a1f827a90>,\n",
       "  <matplotlib.patches.Rectangle at 0x1a1f831350>,\n",
       "  <matplotlib.patches.Rectangle at 0x1a1f831bd0>,\n",
       "  <matplotlib.patches.Rectangle at 0x1a1f83d490>,\n",
       "  <matplotlib.patches.Rectangle at 0x1a1f83dd10>,\n",
       "  <matplotlib.patches.Rectangle at 0x1a1f8475d0>,\n",
       "  <matplotlib.patches.Rectangle at 0x1a1f847e50>,\n",
       "  <matplotlib.patches.Rectangle at 0x1a1f84f710>,\n",
       "  <matplotlib.patches.Rectangle at 0x1a1f84ff90>,\n",
       "  <matplotlib.patches.Rectangle at 0x1a1f859850>,\n",
       "  <matplotlib.patches.Rectangle at 0x1a1f865110>,\n",
       "  <matplotlib.patches.Rectangle at 0x1a1f865990>,\n",
       "  <matplotlib.patches.Rectangle at 0x1a1f870250>,\n",
       "  <matplotlib.patches.Rectangle at 0x1a1f870ad0>,\n",
       "  <matplotlib.patches.Rectangle at 0x1a1f879390>,\n",
       "  <matplotlib.patches.Rectangle at 0x1a1f879c10>,\n",
       "  <matplotlib.patches.Rectangle at 0x1a1f8844d0>,\n",
       "  <matplotlib.patches.Rectangle at 0x1a1f884d50>,\n",
       "  <matplotlib.patches.Rectangle at 0x1a1f88d610>,\n",
       "  <matplotlib.patches.Rectangle at 0x1a1f88de90>,\n",
       "  <matplotlib.patches.Rectangle at 0x1a1f897750>,\n",
       "  <matplotlib.patches.Rectangle at 0x1a1f897fd0>,\n",
       "  <matplotlib.patches.Rectangle at 0x1a1f8a1890>,\n",
       "  <matplotlib.patches.Rectangle at 0x1a1f8ad150>])"
      ]
     },
     "execution_count": 49,
     "metadata": {},
     "output_type": "execute_result"
    },
    {
     "data": {
      "image/png": "[encoded data removed]",
      "text/plain": [
       "<Figure size 960x480 with 1 Axes>"
      ]
     },
     "metadata": {},
     "output_type": "display_data"
    }
   ],
   "source": [
    "from matplotlib.pyplot import figure\n",
    "figure(num=None, figsize=(12, 6), dpi=80, facecolor='w', edgecolor='k')\n",
    "i = 0\n",
    "ohlc=[]\n",
    "axl = plt.subplot(1,1,1)\n",
    "axl.set_title('Candelstick - OHLC Graph')\n",
    "while(i<len(dataset.index)):\n",
    "    datapoint = i,open_price[i],high_price[i],low_price[i],close_price[i]\n",
    "    ohlc.append(datapoint)\n",
    "    i = i + 1\n",
    "candlestick_ohlc(axl,ohlc,width = 0.4,colorup = 'g',colordown = 'r')"
   ]
  },
  {
   "cell_type": "markdown",
   "metadata": {},
   "source": [
    "# Further Processing for Model Training"
   ]
  },
  {
   "cell_type": "code",
   "execution_count": 50,
   "metadata": {},
   "outputs": [
    {
     "data": {
      "text/html": [
       "<div>\n",
       "<style scoped>\n",
       "    .dataframe tbody tr th:only-of-type {\n",
       "        vertical-align: middle;\n",
       "    }\n",
       "\n",
       "    .dataframe tbody tr th {\n",
       "        vertical-align: top;\n",
       "    }\n",
       "\n",
       "    .dataframe thead th {\n",
       "        text-align: right;\n",
       "    }\n",
       "</style>\n",
       "<table border=\"1\" class=\"dataframe\">\n",
       "  <thead>\n",
       "    <tr style=\"text-align: right;\">\n",
       "      <th></th>\n",
       "      <th>Date</th>\n",
       "      <th>Open</th>\n",
       "      <th>High</th>\n",
       "      <th>Low</th>\n",
       "      <th>Close*</th>\n",
       "      <th>Adj Close**</th>\n",
       "      <th>Volume</th>\n",
       "    </tr>\n",
       "  </thead>\n",
       "  <tbody>\n",
       "    <tr>\n",
       "      <td>0</td>\n",
       "      <td>Jul 23, 2019</td>\n",
       "      <td>1144.00</td>\n",
       "      <td>1146.90</td>\n",
       "      <td>1131.80</td>\n",
       "      <td>1146.21</td>\n",
       "      <td>1146.21</td>\n",
       "      <td>1093700</td>\n",
       "    </tr>\n",
       "    <tr>\n",
       "      <td>1</td>\n",
       "      <td>Jul 24, 2019</td>\n",
       "      <td>1131.90</td>\n",
       "      <td>1144.00</td>\n",
       "      <td>1126.99</td>\n",
       "      <td>1137.81</td>\n",
       "      <td>1137.81</td>\n",
       "      <td>1589800</td>\n",
       "    </tr>\n",
       "    <tr>\n",
       "      <td>2</td>\n",
       "      <td>Jul 25, 2019</td>\n",
       "      <td>1137.82</td>\n",
       "      <td>1141.70</td>\n",
       "      <td>1120.92</td>\n",
       "      <td>1132.12</td>\n",
       "      <td>1132.12</td>\n",
       "      <td>2209800</td>\n",
       "    </tr>\n",
       "    <tr>\n",
       "      <td>3</td>\n",
       "      <td>Jul 26, 2019</td>\n",
       "      <td>1224.04</td>\n",
       "      <td>1265.55</td>\n",
       "      <td>1224.00</td>\n",
       "      <td>1250.41</td>\n",
       "      <td>1250.41</td>\n",
       "      <td>4805800</td>\n",
       "    </tr>\n",
       "    <tr>\n",
       "      <td>4</td>\n",
       "      <td>Jul 29, 2019</td>\n",
       "      <td>1241.05</td>\n",
       "      <td>1247.37</td>\n",
       "      <td>1228.23</td>\n",
       "      <td>1239.41</td>\n",
       "      <td>1239.41</td>\n",
       "      <td>2223700</td>\n",
       "    </tr>\n",
       "    <tr>\n",
       "      <td>...</td>\n",
       "      <td>...</td>\n",
       "      <td>...</td>\n",
       "      <td>...</td>\n",
       "      <td>...</td>\n",
       "      <td>...</td>\n",
       "      <td>...</td>\n",
       "      <td>...</td>\n",
       "    </tr>\n",
       "    <tr>\n",
       "      <td>95</td>\n",
       "      <td>Dec 05, 2019</td>\n",
       "      <td>1328.00</td>\n",
       "      <td>1329.36</td>\n",
       "      <td>1316.44</td>\n",
       "      <td>1328.13</td>\n",
       "      <td>1328.13</td>\n",
       "      <td>1212700</td>\n",
       "    </tr>\n",
       "    <tr>\n",
       "      <td>96</td>\n",
       "      <td>Dec 06, 2019</td>\n",
       "      <td>1333.44</td>\n",
       "      <td>1344.00</td>\n",
       "      <td>1333.44</td>\n",
       "      <td>1340.62</td>\n",
       "      <td>1340.62</td>\n",
       "      <td>1314800</td>\n",
       "    </tr>\n",
       "    <tr>\n",
       "      <td>97</td>\n",
       "      <td>Dec 09, 2019</td>\n",
       "      <td>1338.04</td>\n",
       "      <td>1359.45</td>\n",
       "      <td>1337.84</td>\n",
       "      <td>1343.56</td>\n",
       "      <td>1343.56</td>\n",
       "      <td>1354300</td>\n",
       "    </tr>\n",
       "    <tr>\n",
       "      <td>98</td>\n",
       "      <td>Dec 10, 2019</td>\n",
       "      <td>1341.50</td>\n",
       "      <td>1349.97</td>\n",
       "      <td>1336.04</td>\n",
       "      <td>1344.66</td>\n",
       "      <td>1344.66</td>\n",
       "      <td>1094100</td>\n",
       "    </tr>\n",
       "    <tr>\n",
       "      <td>99</td>\n",
       "      <td>Dec 11, 2019</td>\n",
       "      <td>1350.84</td>\n",
       "      <td>1351.20</td>\n",
       "      <td>1342.67</td>\n",
       "      <td>1345.02</td>\n",
       "      <td>1345.02</td>\n",
       "      <td>850400</td>\n",
       "    </tr>\n",
       "  </tbody>\n",
       "</table>\n",
       "<p>100 rows × 7 columns</p>\n",
       "</div>"
      ],
      "text/plain": [
       "            Date     Open     High      Low   Close* Adj Close**   Volume\n",
       "0   Jul 23, 2019  1144.00  1146.90  1131.80  1146.21     1146.21  1093700\n",
       "1   Jul 24, 2019  1131.90  1144.00  1126.99  1137.81     1137.81  1589800\n",
       "2   Jul 25, 2019  1137.82  1141.70  1120.92  1132.12     1132.12  2209800\n",
       "3   Jul 26, 2019  1224.04  1265.55  1224.00  1250.41     1250.41  4805800\n",
       "4   Jul 29, 2019  1241.05  1247.37  1228.23  1239.41     1239.41  2223700\n",
       "..           ...      ...      ...      ...      ...         ...      ...\n",
       "95  Dec 05, 2019  1328.00  1329.36  1316.44  1328.13     1328.13  1212700\n",
       "96  Dec 06, 2019  1333.44  1344.00  1333.44  1340.62     1340.62  1314800\n",
       "97  Dec 09, 2019  1338.04  1359.45  1337.84  1343.56     1343.56  1354300\n",
       "98  Dec 10, 2019  1341.50  1349.97  1336.04  1344.66     1344.66  1094100\n",
       "99  Dec 11, 2019  1350.84  1351.20  1342.67  1345.02     1345.02   850400\n",
       "\n",
       "[100 rows x 7 columns]"
      ]
     },
     "execution_count": 50,
     "metadata": {},
     "output_type": "execute_result"
    }
   ],
   "source": [
    "dataset"
   ]
  },
  {
   "cell_type": "code",
   "execution_count": 51,
   "metadata": {},
   "outputs": [],
   "source": [
    "df = dataset"
   ]
  },
  {
   "cell_type": "code",
   "execution_count": 52,
   "metadata": {},
   "outputs": [
    {
     "data": {
      "text/html": [
       "<div>\n",
       "<style scoped>\n",
       "    .dataframe tbody tr th:only-of-type {\n",
       "        vertical-align: middle;\n",
       "    }\n",
       "\n",
       "    .dataframe tbody tr th {\n",
       "        vertical-align: top;\n",
       "    }\n",
       "\n",
       "    .dataframe thead th {\n",
       "        text-align: right;\n",
       "    }\n",
       "</style>\n",
       "<table border=\"1\" class=\"dataframe\">\n",
       "  <thead>\n",
       "    <tr style=\"text-align: right;\">\n",
       "      <th></th>\n",
       "      <th>Date</th>\n",
       "      <th>Open</th>\n",
       "      <th>High</th>\n",
       "      <th>Low</th>\n",
       "      <th>Close*</th>\n",
       "      <th>Adj Close**</th>\n",
       "      <th>Volume</th>\n",
       "    </tr>\n",
       "  </thead>\n",
       "  <tbody>\n",
       "    <tr>\n",
       "      <td>0</td>\n",
       "      <td>Jul 23, 2019</td>\n",
       "      <td>1144.00</td>\n",
       "      <td>1146.90</td>\n",
       "      <td>1131.80</td>\n",
       "      <td>1146.21</td>\n",
       "      <td>1146.21</td>\n",
       "      <td>1093700</td>\n",
       "    </tr>\n",
       "    <tr>\n",
       "      <td>1</td>\n",
       "      <td>Jul 24, 2019</td>\n",
       "      <td>1131.90</td>\n",
       "      <td>1144.00</td>\n",
       "      <td>1126.99</td>\n",
       "      <td>1137.81</td>\n",
       "      <td>1137.81</td>\n",
       "      <td>1589800</td>\n",
       "    </tr>\n",
       "    <tr>\n",
       "      <td>2</td>\n",
       "      <td>Jul 25, 2019</td>\n",
       "      <td>1137.82</td>\n",
       "      <td>1141.70</td>\n",
       "      <td>1120.92</td>\n",
       "      <td>1132.12</td>\n",
       "      <td>1132.12</td>\n",
       "      <td>2209800</td>\n",
       "    </tr>\n",
       "    <tr>\n",
       "      <td>3</td>\n",
       "      <td>Jul 26, 2019</td>\n",
       "      <td>1224.04</td>\n",
       "      <td>1265.55</td>\n",
       "      <td>1224.00</td>\n",
       "      <td>1250.41</td>\n",
       "      <td>1250.41</td>\n",
       "      <td>4805800</td>\n",
       "    </tr>\n",
       "    <tr>\n",
       "      <td>4</td>\n",
       "      <td>Jul 29, 2019</td>\n",
       "      <td>1241.05</td>\n",
       "      <td>1247.37</td>\n",
       "      <td>1228.23</td>\n",
       "      <td>1239.41</td>\n",
       "      <td>1239.41</td>\n",
       "      <td>2223700</td>\n",
       "    </tr>\n",
       "    <tr>\n",
       "      <td>...</td>\n",
       "      <td>...</td>\n",
       "      <td>...</td>\n",
       "      <td>...</td>\n",
       "      <td>...</td>\n",
       "      <td>...</td>\n",
       "      <td>...</td>\n",
       "      <td>...</td>\n",
       "    </tr>\n",
       "    <tr>\n",
       "      <td>95</td>\n",
       "      <td>Dec 05, 2019</td>\n",
       "      <td>1328.00</td>\n",
       "      <td>1329.36</td>\n",
       "      <td>1316.44</td>\n",
       "      <td>1328.13</td>\n",
       "      <td>1328.13</td>\n",
       "      <td>1212700</td>\n",
       "    </tr>\n",
       "    <tr>\n",
       "      <td>96</td>\n",
       "      <td>Dec 06, 2019</td>\n",
       "      <td>1333.44</td>\n",
       "      <td>1344.00</td>\n",
       "      <td>1333.44</td>\n",
       "      <td>1340.62</td>\n",
       "      <td>1340.62</td>\n",
       "      <td>1314800</td>\n",
       "    </tr>\n",
       "    <tr>\n",
       "      <td>97</td>\n",
       "      <td>Dec 09, 2019</td>\n",
       "      <td>1338.04</td>\n",
       "      <td>1359.45</td>\n",
       "      <td>1337.84</td>\n",
       "      <td>1343.56</td>\n",
       "      <td>1343.56</td>\n",
       "      <td>1354300</td>\n",
       "    </tr>\n",
       "    <tr>\n",
       "      <td>98</td>\n",
       "      <td>Dec 10, 2019</td>\n",
       "      <td>1341.50</td>\n",
       "      <td>1349.97</td>\n",
       "      <td>1336.04</td>\n",
       "      <td>1344.66</td>\n",
       "      <td>1344.66</td>\n",
       "      <td>1094100</td>\n",
       "    </tr>\n",
       "    <tr>\n",
       "      <td>99</td>\n",
       "      <td>Dec 11, 2019</td>\n",
       "      <td>1350.84</td>\n",
       "      <td>1351.20</td>\n",
       "      <td>1342.67</td>\n",
       "      <td>1345.02</td>\n",
       "      <td>1345.02</td>\n",
       "      <td>850400</td>\n",
       "    </tr>\n",
       "  </tbody>\n",
       "</table>\n",
       "<p>100 rows × 7 columns</p>\n",
       "</div>"
      ],
      "text/plain": [
       "            Date     Open     High      Low   Close* Adj Close**   Volume\n",
       "0   Jul 23, 2019  1144.00  1146.90  1131.80  1146.21     1146.21  1093700\n",
       "1   Jul 24, 2019  1131.90  1144.00  1126.99  1137.81     1137.81  1589800\n",
       "2   Jul 25, 2019  1137.82  1141.70  1120.92  1132.12     1132.12  2209800\n",
       "3   Jul 26, 2019  1224.04  1265.55  1224.00  1250.41     1250.41  4805800\n",
       "4   Jul 29, 2019  1241.05  1247.37  1228.23  1239.41     1239.41  2223700\n",
       "..           ...      ...      ...      ...      ...         ...      ...\n",
       "95  Dec 05, 2019  1328.00  1329.36  1316.44  1328.13     1328.13  1212700\n",
       "96  Dec 06, 2019  1333.44  1344.00  1333.44  1340.62     1340.62  1314800\n",
       "97  Dec 09, 2019  1338.04  1359.45  1337.84  1343.56     1343.56  1354300\n",
       "98  Dec 10, 2019  1341.50  1349.97  1336.04  1344.66     1344.66  1094100\n",
       "99  Dec 11, 2019  1350.84  1351.20  1342.67  1345.02     1345.02   850400\n",
       "\n",
       "[100 rows x 7 columns]"
      ]
     },
     "execution_count": 52,
     "metadata": {},
     "output_type": "execute_result"
    }
   ],
   "source": [
    "df"
   ]
  },
  {
   "cell_type": "code",
   "execution_count": 53,
   "metadata": {},
   "outputs": [],
   "source": [
    "datetime.datetime.strptime(df['Date'][0],'%b %d, %Y')\n",
    "df.loc[:, 'Date'] = pd.to_datetime(df['Date'],format='%b %d, %Y')"
   ]
  },
  {
   "cell_type": "code",
   "execution_count": 54,
   "metadata": {},
   "outputs": [
    {
     "data": {
      "text/html": [
       "<div>\n",
       "<style scoped>\n",
       "    .dataframe tbody tr th:only-of-type {\n",
       "        vertical-align: middle;\n",
       "    }\n",
       "\n",
       "    .dataframe tbody tr th {\n",
       "        vertical-align: top;\n",
       "    }\n",
       "\n",
       "    .dataframe thead th {\n",
       "        text-align: right;\n",
       "    }\n",
       "</style>\n",
       "<table border=\"1\" class=\"dataframe\">\n",
       "  <thead>\n",
       "    <tr style=\"text-align: right;\">\n",
       "      <th></th>\n",
       "      <th>Date</th>\n",
       "      <th>Open</th>\n",
       "      <th>High</th>\n",
       "      <th>Low</th>\n",
       "      <th>Close*</th>\n",
       "      <th>Adj Close**</th>\n",
       "      <th>Volume</th>\n",
       "    </tr>\n",
       "  </thead>\n",
       "  <tbody>\n",
       "    <tr>\n",
       "      <td>0</td>\n",
       "      <td>2019-07-23</td>\n",
       "      <td>1144.00</td>\n",
       "      <td>1146.90</td>\n",
       "      <td>1131.80</td>\n",
       "      <td>1146.21</td>\n",
       "      <td>1146.21</td>\n",
       "      <td>1093700</td>\n",
       "    </tr>\n",
       "    <tr>\n",
       "      <td>1</td>\n",
       "      <td>2019-07-24</td>\n",
       "      <td>1131.90</td>\n",
       "      <td>1144.00</td>\n",
       "      <td>1126.99</td>\n",
       "      <td>1137.81</td>\n",
       "      <td>1137.81</td>\n",
       "      <td>1589800</td>\n",
       "    </tr>\n",
       "    <tr>\n",
       "      <td>2</td>\n",
       "      <td>2019-07-25</td>\n",
       "      <td>1137.82</td>\n",
       "      <td>1141.70</td>\n",
       "      <td>1120.92</td>\n",
       "      <td>1132.12</td>\n",
       "      <td>1132.12</td>\n",
       "      <td>2209800</td>\n",
       "    </tr>\n",
       "    <tr>\n",
       "      <td>3</td>\n",
       "      <td>2019-07-26</td>\n",
       "      <td>1224.04</td>\n",
       "      <td>1265.55</td>\n",
       "      <td>1224.00</td>\n",
       "      <td>1250.41</td>\n",
       "      <td>1250.41</td>\n",
       "      <td>4805800</td>\n",
       "    </tr>\n",
       "    <tr>\n",
       "      <td>4</td>\n",
       "      <td>2019-07-29</td>\n",
       "      <td>1241.05</td>\n",
       "      <td>1247.37</td>\n",
       "      <td>1228.23</td>\n",
       "      <td>1239.41</td>\n",
       "      <td>1239.41</td>\n",
       "      <td>2223700</td>\n",
       "    </tr>\n",
       "    <tr>\n",
       "      <td>...</td>\n",
       "      <td>...</td>\n",
       "      <td>...</td>\n",
       "      <td>...</td>\n",
       "      <td>...</td>\n",
       "      <td>...</td>\n",
       "      <td>...</td>\n",
       "      <td>...</td>\n",
       "    </tr>\n",
       "    <tr>\n",
       "      <td>95</td>\n",
       "      <td>2019-12-05</td>\n",
       "      <td>1328.00</td>\n",
       "      <td>1329.36</td>\n",
       "      <td>1316.44</td>\n",
       "      <td>1328.13</td>\n",
       "      <td>1328.13</td>\n",
       "      <td>1212700</td>\n",
       "    </tr>\n",
       "    <tr>\n",
       "      <td>96</td>\n",
       "      <td>2019-12-06</td>\n",
       "      <td>1333.44</td>\n",
       "      <td>1344.00</td>\n",
       "      <td>1333.44</td>\n",
       "      <td>1340.62</td>\n",
       "      <td>1340.62</td>\n",
       "      <td>1314800</td>\n",
       "    </tr>\n",
       "    <tr>\n",
       "      <td>97</td>\n",
       "      <td>2019-12-09</td>\n",
       "      <td>1338.04</td>\n",
       "      <td>1359.45</td>\n",
       "      <td>1337.84</td>\n",
       "      <td>1343.56</td>\n",
       "      <td>1343.56</td>\n",
       "      <td>1354300</td>\n",
       "    </tr>\n",
       "    <tr>\n",
       "      <td>98</td>\n",
       "      <td>2019-12-10</td>\n",
       "      <td>1341.50</td>\n",
       "      <td>1349.97</td>\n",
       "      <td>1336.04</td>\n",
       "      <td>1344.66</td>\n",
       "      <td>1344.66</td>\n",
       "      <td>1094100</td>\n",
       "    </tr>\n",
       "    <tr>\n",
       "      <td>99</td>\n",
       "      <td>2019-12-11</td>\n",
       "      <td>1350.84</td>\n",
       "      <td>1351.20</td>\n",
       "      <td>1342.67</td>\n",
       "      <td>1345.02</td>\n",
       "      <td>1345.02</td>\n",
       "      <td>850400</td>\n",
       "    </tr>\n",
       "  </tbody>\n",
       "</table>\n",
       "<p>100 rows × 7 columns</p>\n",
       "</div>"
      ],
      "text/plain": [
       "         Date     Open     High      Low   Close* Adj Close**   Volume\n",
       "0  2019-07-23  1144.00  1146.90  1131.80  1146.21     1146.21  1093700\n",
       "1  2019-07-24  1131.90  1144.00  1126.99  1137.81     1137.81  1589800\n",
       "2  2019-07-25  1137.82  1141.70  1120.92  1132.12     1132.12  2209800\n",
       "3  2019-07-26  1224.04  1265.55  1224.00  1250.41     1250.41  4805800\n",
       "4  2019-07-29  1241.05  1247.37  1228.23  1239.41     1239.41  2223700\n",
       "..        ...      ...      ...      ...      ...         ...      ...\n",
       "95 2019-12-05  1328.00  1329.36  1316.44  1328.13     1328.13  1212700\n",
       "96 2019-12-06  1333.44  1344.00  1333.44  1340.62     1340.62  1314800\n",
       "97 2019-12-09  1338.04  1359.45  1337.84  1343.56     1343.56  1354300\n",
       "98 2019-12-10  1341.50  1349.97  1336.04  1344.66     1344.66  1094100\n",
       "99 2019-12-11  1350.84  1351.20  1342.67  1345.02     1345.02   850400\n",
       "\n",
       "[100 rows x 7 columns]"
      ]
     },
     "execution_count": 54,
     "metadata": {},
     "output_type": "execute_result"
    }
   ],
   "source": [
    "df"
   ]
  },
  {
   "cell_type": "code",
   "execution_count": 55,
   "metadata": {},
   "outputs": [],
   "source": [
    "df.columns = [str(x).lower().replace(' ', '_') for x in df.columns]"
   ]
  },
  {
   "cell_type": "code",
   "execution_count": 56,
   "metadata": {},
   "outputs": [
    {
     "data": {
      "text/html": [
       "<div>\n",
       "<style scoped>\n",
       "    .dataframe tbody tr th:only-of-type {\n",
       "        vertical-align: middle;\n",
       "    }\n",
       "\n",
       "    .dataframe tbody tr th {\n",
       "        vertical-align: top;\n",
       "    }\n",
       "\n",
       "    .dataframe thead th {\n",
       "        text-align: right;\n",
       "    }\n",
       "</style>\n",
       "<table border=\"1\" class=\"dataframe\">\n",
       "  <thead>\n",
       "    <tr style=\"text-align: right;\">\n",
       "      <th></th>\n",
       "      <th>date</th>\n",
       "      <th>open</th>\n",
       "      <th>high</th>\n",
       "      <th>low</th>\n",
       "      <th>close*</th>\n",
       "      <th>adj_close**</th>\n",
       "      <th>volume</th>\n",
       "    </tr>\n",
       "  </thead>\n",
       "  <tbody>\n",
       "    <tr>\n",
       "      <td>0</td>\n",
       "      <td>2019-07-23</td>\n",
       "      <td>1144.00</td>\n",
       "      <td>1146.90</td>\n",
       "      <td>1131.80</td>\n",
       "      <td>1146.21</td>\n",
       "      <td>1146.21</td>\n",
       "      <td>1093700</td>\n",
       "    </tr>\n",
       "    <tr>\n",
       "      <td>1</td>\n",
       "      <td>2019-07-24</td>\n",
       "      <td>1131.90</td>\n",
       "      <td>1144.00</td>\n",
       "      <td>1126.99</td>\n",
       "      <td>1137.81</td>\n",
       "      <td>1137.81</td>\n",
       "      <td>1589800</td>\n",
       "    </tr>\n",
       "    <tr>\n",
       "      <td>2</td>\n",
       "      <td>2019-07-25</td>\n",
       "      <td>1137.82</td>\n",
       "      <td>1141.70</td>\n",
       "      <td>1120.92</td>\n",
       "      <td>1132.12</td>\n",
       "      <td>1132.12</td>\n",
       "      <td>2209800</td>\n",
       "    </tr>\n",
       "    <tr>\n",
       "      <td>3</td>\n",
       "      <td>2019-07-26</td>\n",
       "      <td>1224.04</td>\n",
       "      <td>1265.55</td>\n",
       "      <td>1224.00</td>\n",
       "      <td>1250.41</td>\n",
       "      <td>1250.41</td>\n",
       "      <td>4805800</td>\n",
       "    </tr>\n",
       "    <tr>\n",
       "      <td>4</td>\n",
       "      <td>2019-07-29</td>\n",
       "      <td>1241.05</td>\n",
       "      <td>1247.37</td>\n",
       "      <td>1228.23</td>\n",
       "      <td>1239.41</td>\n",
       "      <td>1239.41</td>\n",
       "      <td>2223700</td>\n",
       "    </tr>\n",
       "    <tr>\n",
       "      <td>...</td>\n",
       "      <td>...</td>\n",
       "      <td>...</td>\n",
       "      <td>...</td>\n",
       "      <td>...</td>\n",
       "      <td>...</td>\n",
       "      <td>...</td>\n",
       "      <td>...</td>\n",
       "    </tr>\n",
       "    <tr>\n",
       "      <td>95</td>\n",
       "      <td>2019-12-05</td>\n",
       "      <td>1328.00</td>\n",
       "      <td>1329.36</td>\n",
       "      <td>1316.44</td>\n",
       "      <td>1328.13</td>\n",
       "      <td>1328.13</td>\n",
       "      <td>1212700</td>\n",
       "    </tr>\n",
       "    <tr>\n",
       "      <td>96</td>\n",
       "      <td>2019-12-06</td>\n",
       "      <td>1333.44</td>\n",
       "      <td>1344.00</td>\n",
       "      <td>1333.44</td>\n",
       "      <td>1340.62</td>\n",
       "      <td>1340.62</td>\n",
       "      <td>1314800</td>\n",
       "    </tr>\n",
       "    <tr>\n",
       "      <td>97</td>\n",
       "      <td>2019-12-09</td>\n",
       "      <td>1338.04</td>\n",
       "      <td>1359.45</td>\n",
       "      <td>1337.84</td>\n",
       "      <td>1343.56</td>\n",
       "      <td>1343.56</td>\n",
       "      <td>1354300</td>\n",
       "    </tr>\n",
       "    <tr>\n",
       "      <td>98</td>\n",
       "      <td>2019-12-10</td>\n",
       "      <td>1341.50</td>\n",
       "      <td>1349.97</td>\n",
       "      <td>1336.04</td>\n",
       "      <td>1344.66</td>\n",
       "      <td>1344.66</td>\n",
       "      <td>1094100</td>\n",
       "    </tr>\n",
       "    <tr>\n",
       "      <td>99</td>\n",
       "      <td>2019-12-11</td>\n",
       "      <td>1350.84</td>\n",
       "      <td>1351.20</td>\n",
       "      <td>1342.67</td>\n",
       "      <td>1345.02</td>\n",
       "      <td>1345.02</td>\n",
       "      <td>850400</td>\n",
       "    </tr>\n",
       "  </tbody>\n",
       "</table>\n",
       "<p>100 rows × 7 columns</p>\n",
       "</div>"
      ],
      "text/plain": [
       "         date     open     high      low   close* adj_close**   volume\n",
       "0  2019-07-23  1144.00  1146.90  1131.80  1146.21     1146.21  1093700\n",
       "1  2019-07-24  1131.90  1144.00  1126.99  1137.81     1137.81  1589800\n",
       "2  2019-07-25  1137.82  1141.70  1120.92  1132.12     1132.12  2209800\n",
       "3  2019-07-26  1224.04  1265.55  1224.00  1250.41     1250.41  4805800\n",
       "4  2019-07-29  1241.05  1247.37  1228.23  1239.41     1239.41  2223700\n",
       "..        ...      ...      ...      ...      ...         ...      ...\n",
       "95 2019-12-05  1328.00  1329.36  1316.44  1328.13     1328.13  1212700\n",
       "96 2019-12-06  1333.44  1344.00  1333.44  1340.62     1340.62  1314800\n",
       "97 2019-12-09  1338.04  1359.45  1337.84  1343.56     1343.56  1354300\n",
       "98 2019-12-10  1341.50  1349.97  1336.04  1344.66     1344.66  1094100\n",
       "99 2019-12-11  1350.84  1351.20  1342.67  1345.02     1345.02   850400\n",
       "\n",
       "[100 rows x 7 columns]"
      ]
     },
     "execution_count": 56,
     "metadata": {},
     "output_type": "execute_result"
    }
   ],
   "source": [
    "df"
   ]
  },
  {
   "cell_type": "code",
   "execution_count": 57,
   "metadata": {},
   "outputs": [],
   "source": [
    "df.sort_values(by='date', inplace=True, ascending=True)"
   ]
  },
  {
   "cell_type": "code",
   "execution_count": 58,
   "metadata": {},
   "outputs": [
    {
     "data": {
      "text/html": [
       "<div>\n",
       "<style scoped>\n",
       "    .dataframe tbody tr th:only-of-type {\n",
       "        vertical-align: middle;\n",
       "    }\n",
       "\n",
       "    .dataframe tbody tr th {\n",
       "        vertical-align: top;\n",
       "    }\n",
       "\n",
       "    .dataframe thead th {\n",
       "        text-align: right;\n",
       "    }\n",
       "</style>\n",
       "<table border=\"1\" class=\"dataframe\">\n",
       "  <thead>\n",
       "    <tr style=\"text-align: right;\">\n",
       "      <th></th>\n",
       "      <th>date</th>\n",
       "      <th>open</th>\n",
       "      <th>high</th>\n",
       "      <th>low</th>\n",
       "      <th>close*</th>\n",
       "      <th>adj_close**</th>\n",
       "      <th>volume</th>\n",
       "    </tr>\n",
       "  </thead>\n",
       "  <tbody>\n",
       "    <tr>\n",
       "      <td>0</td>\n",
       "      <td>2019-07-23</td>\n",
       "      <td>1144.00</td>\n",
       "      <td>1146.90</td>\n",
       "      <td>1131.80</td>\n",
       "      <td>1146.21</td>\n",
       "      <td>1146.21</td>\n",
       "      <td>1093700</td>\n",
       "    </tr>\n",
       "    <tr>\n",
       "      <td>1</td>\n",
       "      <td>2019-07-24</td>\n",
       "      <td>1131.90</td>\n",
       "      <td>1144.00</td>\n",
       "      <td>1126.99</td>\n",
       "      <td>1137.81</td>\n",
       "      <td>1137.81</td>\n",
       "      <td>1589800</td>\n",
       "    </tr>\n",
       "    <tr>\n",
       "      <td>2</td>\n",
       "      <td>2019-07-25</td>\n",
       "      <td>1137.82</td>\n",
       "      <td>1141.70</td>\n",
       "      <td>1120.92</td>\n",
       "      <td>1132.12</td>\n",
       "      <td>1132.12</td>\n",
       "      <td>2209800</td>\n",
       "    </tr>\n",
       "    <tr>\n",
       "      <td>3</td>\n",
       "      <td>2019-07-26</td>\n",
       "      <td>1224.04</td>\n",
       "      <td>1265.55</td>\n",
       "      <td>1224.00</td>\n",
       "      <td>1250.41</td>\n",
       "      <td>1250.41</td>\n",
       "      <td>4805800</td>\n",
       "    </tr>\n",
       "    <tr>\n",
       "      <td>4</td>\n",
       "      <td>2019-07-29</td>\n",
       "      <td>1241.05</td>\n",
       "      <td>1247.37</td>\n",
       "      <td>1228.23</td>\n",
       "      <td>1239.41</td>\n",
       "      <td>1239.41</td>\n",
       "      <td>2223700</td>\n",
       "    </tr>\n",
       "    <tr>\n",
       "      <td>...</td>\n",
       "      <td>...</td>\n",
       "      <td>...</td>\n",
       "      <td>...</td>\n",
       "      <td>...</td>\n",
       "      <td>...</td>\n",
       "      <td>...</td>\n",
       "      <td>...</td>\n",
       "    </tr>\n",
       "    <tr>\n",
       "      <td>95</td>\n",
       "      <td>2019-12-05</td>\n",
       "      <td>1328.00</td>\n",
       "      <td>1329.36</td>\n",
       "      <td>1316.44</td>\n",
       "      <td>1328.13</td>\n",
       "      <td>1328.13</td>\n",
       "      <td>1212700</td>\n",
       "    </tr>\n",
       "    <tr>\n",
       "      <td>96</td>\n",
       "      <td>2019-12-06</td>\n",
       "      <td>1333.44</td>\n",
       "      <td>1344.00</td>\n",
       "      <td>1333.44</td>\n",
       "      <td>1340.62</td>\n",
       "      <td>1340.62</td>\n",
       "      <td>1314800</td>\n",
       "    </tr>\n",
       "    <tr>\n",
       "      <td>97</td>\n",
       "      <td>2019-12-09</td>\n",
       "      <td>1338.04</td>\n",
       "      <td>1359.45</td>\n",
       "      <td>1337.84</td>\n",
       "      <td>1343.56</td>\n",
       "      <td>1343.56</td>\n",
       "      <td>1354300</td>\n",
       "    </tr>\n",
       "    <tr>\n",
       "      <td>98</td>\n",
       "      <td>2019-12-10</td>\n",
       "      <td>1341.50</td>\n",
       "      <td>1349.97</td>\n",
       "      <td>1336.04</td>\n",
       "      <td>1344.66</td>\n",
       "      <td>1344.66</td>\n",
       "      <td>1094100</td>\n",
       "    </tr>\n",
       "    <tr>\n",
       "      <td>99</td>\n",
       "      <td>2019-12-11</td>\n",
       "      <td>1350.84</td>\n",
       "      <td>1351.20</td>\n",
       "      <td>1342.67</td>\n",
       "      <td>1345.02</td>\n",
       "      <td>1345.02</td>\n",
       "      <td>850400</td>\n",
       "    </tr>\n",
       "  </tbody>\n",
       "</table>\n",
       "<p>100 rows × 7 columns</p>\n",
       "</div>"
      ],
      "text/plain": [
       "         date     open     high      low   close* adj_close**   volume\n",
       "0  2019-07-23  1144.00  1146.90  1131.80  1146.21     1146.21  1093700\n",
       "1  2019-07-24  1131.90  1144.00  1126.99  1137.81     1137.81  1589800\n",
       "2  2019-07-25  1137.82  1141.70  1120.92  1132.12     1132.12  2209800\n",
       "3  2019-07-26  1224.04  1265.55  1224.00  1250.41     1250.41  4805800\n",
       "4  2019-07-29  1241.05  1247.37  1228.23  1239.41     1239.41  2223700\n",
       "..        ...      ...      ...      ...      ...         ...      ...\n",
       "95 2019-12-05  1328.00  1329.36  1316.44  1328.13     1328.13  1212700\n",
       "96 2019-12-06  1333.44  1344.00  1333.44  1340.62     1340.62  1314800\n",
       "97 2019-12-09  1338.04  1359.45  1337.84  1343.56     1343.56  1354300\n",
       "98 2019-12-10  1341.50  1349.97  1336.04  1344.66     1344.66  1094100\n",
       "99 2019-12-11  1350.84  1351.20  1342.67  1345.02     1345.02   850400\n",
       "\n",
       "[100 rows x 7 columns]"
      ]
     },
     "execution_count": 58,
     "metadata": {},
     "output_type": "execute_result"
    }
   ],
   "source": [
    "df"
   ]
  },
  {
   "cell_type": "code",
   "execution_count": 59,
   "metadata": {},
   "outputs": [
    {
     "data": {
      "text/plain": [
       "date           datetime64[ns]\n",
       "open                   object\n",
       "high                   object\n",
       "low                    object\n",
       "close*                 object\n",
       "adj_close**            object\n",
       "volume                 object\n",
       "dtype: object"
      ]
     },
     "execution_count": 59,
     "metadata": {},
     "output_type": "execute_result"
    }
   ],
   "source": [
    "df.dtypes"
   ]
  },
  {
   "cell_type": "code",
   "execution_count": 60,
   "metadata": {},
   "outputs": [],
   "source": [
    "df['low'] = df['low'].astype(float)\n",
    "df['open'] = df['open'].astype(float)\n",
    "df['high'] = df['high'].astype(float)\n",
    "df['adj_close**'] = df['adj_close**'].astype(float)"
   ]
  },
  {
   "cell_type": "code",
   "execution_count": 61,
   "metadata": {},
   "outputs": [
    {
     "data": {
      "text/plain": [
       "date           datetime64[ns]\n",
       "open                  float64\n",
       "high                  float64\n",
       "low                   float64\n",
       "close*                 object\n",
       "adj_close**           float64\n",
       "volume                 object\n",
       "dtype: object"
      ]
     },
     "execution_count": 61,
     "metadata": {},
     "output_type": "execute_result"
    }
   ],
   "source": [
    "df.dtypes"
   ]
  },
  {
   "cell_type": "code",
   "execution_count": 62,
   "metadata": {},
   "outputs": [],
   "source": [
    "df.drop(['close*'],axis = 1,inplace = True)\n",
    "df.drop(['volume'],axis = 1, inplace = True)"
   ]
  },
  {
   "cell_type": "code",
   "execution_count": 63,
   "metadata": {},
   "outputs": [
    {
     "data": {
      "text/html": [
       "<div>\n",
       "<style scoped>\n",
       "    .dataframe tbody tr th:only-of-type {\n",
       "        vertical-align: middle;\n",
       "    }\n",
       "\n",
       "    .dataframe tbody tr th {\n",
       "        vertical-align: top;\n",
       "    }\n",
       "\n",
       "    .dataframe thead th {\n",
       "        text-align: right;\n",
       "    }\n",
       "</style>\n",
       "<table border=\"1\" class=\"dataframe\">\n",
       "  <thead>\n",
       "    <tr style=\"text-align: right;\">\n",
       "      <th></th>\n",
       "      <th>date</th>\n",
       "      <th>open</th>\n",
       "      <th>high</th>\n",
       "      <th>low</th>\n",
       "      <th>adj_close**</th>\n",
       "    </tr>\n",
       "  </thead>\n",
       "  <tbody>\n",
       "    <tr>\n",
       "      <td>0</td>\n",
       "      <td>2019-07-23</td>\n",
       "      <td>1144.00</td>\n",
       "      <td>1146.90</td>\n",
       "      <td>1131.80</td>\n",
       "      <td>1146.21</td>\n",
       "    </tr>\n",
       "    <tr>\n",
       "      <td>1</td>\n",
       "      <td>2019-07-24</td>\n",
       "      <td>1131.90</td>\n",
       "      <td>1144.00</td>\n",
       "      <td>1126.99</td>\n",
       "      <td>1137.81</td>\n",
       "    </tr>\n",
       "    <tr>\n",
       "      <td>2</td>\n",
       "      <td>2019-07-25</td>\n",
       "      <td>1137.82</td>\n",
       "      <td>1141.70</td>\n",
       "      <td>1120.92</td>\n",
       "      <td>1132.12</td>\n",
       "    </tr>\n",
       "    <tr>\n",
       "      <td>3</td>\n",
       "      <td>2019-07-26</td>\n",
       "      <td>1224.04</td>\n",
       "      <td>1265.55</td>\n",
       "      <td>1224.00</td>\n",
       "      <td>1250.41</td>\n",
       "    </tr>\n",
       "    <tr>\n",
       "      <td>4</td>\n",
       "      <td>2019-07-29</td>\n",
       "      <td>1241.05</td>\n",
       "      <td>1247.37</td>\n",
       "      <td>1228.23</td>\n",
       "      <td>1239.41</td>\n",
       "    </tr>\n",
       "    <tr>\n",
       "      <td>...</td>\n",
       "      <td>...</td>\n",
       "      <td>...</td>\n",
       "      <td>...</td>\n",
       "      <td>...</td>\n",
       "      <td>...</td>\n",
       "    </tr>\n",
       "    <tr>\n",
       "      <td>95</td>\n",
       "      <td>2019-12-05</td>\n",
       "      <td>1328.00</td>\n",
       "      <td>1329.36</td>\n",
       "      <td>1316.44</td>\n",
       "      <td>1328.13</td>\n",
       "    </tr>\n",
       "    <tr>\n",
       "      <td>96</td>\n",
       "      <td>2019-12-06</td>\n",
       "      <td>1333.44</td>\n",
       "      <td>1344.00</td>\n",
       "      <td>1333.44</td>\n",
       "      <td>1340.62</td>\n",
       "    </tr>\n",
       "    <tr>\n",
       "      <td>97</td>\n",
       "      <td>2019-12-09</td>\n",
       "      <td>1338.04</td>\n",
       "      <td>1359.45</td>\n",
       "      <td>1337.84</td>\n",
       "      <td>1343.56</td>\n",
       "    </tr>\n",
       "    <tr>\n",
       "      <td>98</td>\n",
       "      <td>2019-12-10</td>\n",
       "      <td>1341.50</td>\n",
       "      <td>1349.97</td>\n",
       "      <td>1336.04</td>\n",
       "      <td>1344.66</td>\n",
       "    </tr>\n",
       "    <tr>\n",
       "      <td>99</td>\n",
       "      <td>2019-12-11</td>\n",
       "      <td>1350.84</td>\n",
       "      <td>1351.20</td>\n",
       "      <td>1342.67</td>\n",
       "      <td>1345.02</td>\n",
       "    </tr>\n",
       "  </tbody>\n",
       "</table>\n",
       "<p>100 rows × 5 columns</p>\n",
       "</div>"
      ],
      "text/plain": [
       "         date     open     high      low  adj_close**\n",
       "0  2019-07-23  1144.00  1146.90  1131.80      1146.21\n",
       "1  2019-07-24  1131.90  1144.00  1126.99      1137.81\n",
       "2  2019-07-25  1137.82  1141.70  1120.92      1132.12\n",
       "3  2019-07-26  1224.04  1265.55  1224.00      1250.41\n",
       "4  2019-07-29  1241.05  1247.37  1228.23      1239.41\n",
       "..        ...      ...      ...      ...          ...\n",
       "95 2019-12-05  1328.00  1329.36  1316.44      1328.13\n",
       "96 2019-12-06  1333.44  1344.00  1333.44      1340.62\n",
       "97 2019-12-09  1338.04  1359.45  1337.84      1343.56\n",
       "98 2019-12-10  1341.50  1349.97  1336.04      1344.66\n",
       "99 2019-12-11  1350.84  1351.20  1342.67      1345.02\n",
       "\n",
       "[100 rows x 5 columns]"
      ]
     },
     "execution_count": 63,
     "metadata": {},
     "output_type": "execute_result"
    }
   ],
   "source": [
    "df"
   ]
  },
  {
   "cell_type": "code",
   "execution_count": 64,
   "metadata": {},
   "outputs": [
    {
     "data": {
      "text/plain": [
       "date           datetime64[ns]\n",
       "open                  float64\n",
       "high                  float64\n",
       "low                   float64\n",
       "adj_close**           float64\n",
       "dtype: object"
      ]
     },
     "execution_count": 64,
     "metadata": {},
     "output_type": "execute_result"
    }
   ],
   "source": [
    "df.dtypes"
   ]
  },
  {
   "cell_type": "markdown",
   "metadata": {},
   "source": [
    "# Vanilla Linear Regression"
   ]
  },
  {
   "cell_type": "code",
   "execution_count": 65,
   "metadata": {},
   "outputs": [],
   "source": [
    "df_LR = df"
   ]
  },
  {
   "cell_type": "code",
   "execution_count": 66,
   "metadata": {},
   "outputs": [],
   "source": [
    "from sklearn.preprocessing import StandardScaler\n",
    "sc = StandardScaler()"
   ]
  },
  {
   "cell_type": "code",
   "execution_count": 67,
   "metadata": {},
   "outputs": [],
   "source": [
    "df_LR = sc.fit_transform(np.array(df[['open','high','low','adj_close**']]))"
   ]
  },
  {
   "cell_type": "code",
   "execution_count": 68,
   "metadata": {},
   "outputs": [
    {
     "data": {
      "text/plain": [
       "array([[-1.70722809e+00, -1.87027723e+00, -1.73896647e+00,\n",
       "        -1.67554845e+00],\n",
       "       [-1.93169641e+00, -1.92451847e+00, -1.82570929e+00,\n",
       "        -1.82912826e+00],\n",
       "       [-1.82187390e+00, -1.96753739e+00, -1.93517478e+00,\n",
       "        -1.93316030e+00],\n",
       "       [-2.22398013e-01,  3.48937638e-01, -7.62453224e-02,\n",
       "         2.29572568e-01],\n",
       "       [ 9.31562061e-02,  8.90117452e-03,  3.78710890e-05,\n",
       "         2.84561454e-02],\n",
       "       [-1.96983005e-01, -2.24897274e-01, -8.88690187e-02,\n",
       "        -2.32446704e-01],\n",
       "       [-2.41691157e-01, -2.41169646e-01, -3.69115077e-01,\n",
       "        -3.87123516e-01],\n",
       "       [-4.08094529e-01, -2.39112219e-01, -4.05904135e-01,\n",
       "        -5.27356512e-01],\n",
       "       [-6.54638654e-01, -7.48044682e-01, -7.08512170e-01,\n",
       "        -8.01971845e-01],\n",
       "       [-1.22415744e+00, -1.34020939e+00, -1.58856414e+00,\n",
       "        -1.56383742e+00],\n",
       "       [-1.34900634e+00, -1.25192710e+00, -1.23041184e+00,\n",
       "        -1.24150264e+00],\n",
       "       [-1.48461489e+00, -1.28035699e+00, -1.41760323e+00,\n",
       "        -1.16763807e+00],\n",
       "       [-9.86888863e-01, -7.83395007e-01, -9.95611092e-01,\n",
       "        -6.04329252e-01],\n",
       "       [-7.05654180e-01, -8.04530387e-01, -8.04812939e-01,\n",
       "        -9.11306045e-01],\n",
       "       [-1.05404385e+00, -1.15840772e+00, -1.09209220e+00,\n",
       "        -1.15447408e+00],\n",
       "       [-1.19781488e+00, -7.87696898e-01, -1.02374390e+00,\n",
       "        -7.42002584e-01],\n",
       "       [-1.10784204e+00, -1.20816003e+00, -1.22067356e+00,\n",
       "        -1.34498618e+00],\n",
       "       [-1.34548164e+00, -1.32898707e+00, -1.19236042e+00,\n",
       "        -1.29068475e+00],\n",
       "       [-1.04773647e+00, -1.20030440e+00, -1.01743205e+00,\n",
       "        -1.10163531e+00],\n",
       "       [-8.52207874e-01, -7.46361333e-01, -6.87773240e-01,\n",
       "        -7.20428277e-01],\n",
       "       [-7.56484195e-01, -9.50794696e-01, -8.31683378e-01,\n",
       "        -1.00857326e+00],\n",
       "       [-7.95441506e-01, -8.95805301e-01, -7.35743286e-01,\n",
       "        -8.52068117e-01],\n",
       "       [-7.78374494e-01, -9.14322138e-01, -8.95342875e-01,\n",
       "        -8.83515412e-01],\n",
       "       [-1.00247179e+00, -9.87828370e-01, -1.45132653e+00,\n",
       "        -1.58266923e+00],\n",
       "       [-1.46124050e+00, -1.44813076e+00, -1.35737016e+00,\n",
       "        -1.26088295e+00],\n",
       "       [-1.02955639e+00, -1.20628964e+00, -1.20426276e+00,\n",
       "        -1.28008043e+00],\n",
       "       [-1.37868811e+00, -1.31813882e+00, -1.27910324e+00,\n",
       "        -1.22193950e+00],\n",
       "       [-1.01861125e+00, -9.50794696e-01, -8.49536891e-01,\n",
       "        -8.22814820e-01],\n",
       "       [-6.96193119e-01, -9.05157239e-01, -8.01206168e-01,\n",
       "        -9.09660547e-01],\n",
       "       [-1.09448525e+00, -1.12230924e+00, -1.17270352e+00,\n",
       "        -1.27002461e+00],\n",
       "       [-1.10042160e+00, -1.18608945e+00, -1.03203947e+00,\n",
       "        -1.03197590e+00],\n",
       "       [-8.25494289e-01, -6.33202884e-01, -6.61804493e-01,\n",
       "        -4.84025065e-01],\n",
       "       [-5.17546021e-01, -6.52280837e-01, -4.63612461e-01,\n",
       "        -6.01952421e-01],\n",
       "       [-5.94162066e-01, -5.03023908e-01, -6.42147595e-01,\n",
       "        -6.11459743e-01],\n",
       "       [-7.58339306e-01, -6.90062666e-01, -6.06801245e-01,\n",
       "        -5.82389279e-01],\n",
       "       [-6.05107216e-01, -4.54393831e-01, -4.69383294e-01,\n",
       "        -3.23314760e-01],\n",
       "       [-2.17574727e-01, -9.41571815e-02, -9.39184973e-02,\n",
       "        -6.58857399e-02],\n",
       "       [-8.67894684e-02, -1.12486980e-01, -2.19634282e-02,\n",
       "         3.11986421e-02],\n",
       "       [-1.20737982e-01, -1.37176096e-01, -4.72108209e-02,\n",
       "        -1.19821508e-01],\n",
       "       [-1.04413014e-01, -2.22465770e-01, -8.18358165e-02,\n",
       "        -1.59130627e-01],\n",
       "       [-1.58025694e-01, -2.11056406e-01, -2.10958196e-01,\n",
       "        -9.95270323e-02],\n",
       "       [-7.36181871e-02, -4.59011818e-02,  6.83861697e-02,\n",
       "         1.56578276e-02],\n",
       "       [-5.39540206e-02, -6.68495227e-02, -9.28364661e-02,\n",
       "        -1.44869644e-01],\n",
       "       [-1.86037856e-01, -1.45966918e-01, -7.31795676e-02,\n",
       "        -6.99080683e-02],\n",
       "       [ 7.36775506e-02, -2.88226727e-03, -3.16456230e-01,\n",
       "        -3.49094229e-01],\n",
       "       [-3.74888059e-01,  2.62957791e-02, -3.27096202e-01,\n",
       "         1.58450487e-01],\n",
       "       [ 1.10037708e-01, -3.54270113e-02,  7.28946327e-02,\n",
       "         6.46571014e-02],\n",
       "       [ 1.29516363e-01, -5.37568096e-02, -2.48468608e-01,\n",
       "        -2.33360870e-01],\n",
       "       [-2.79349891e-01, -3.90800653e-01, -2.87241390e-01,\n",
       "        -3.44706234e-01],\n",
       "       [-3.15895559e-01, -2.92979382e-01, -4.44496578e-01,\n",
       "        -5.98844259e-01],\n",
       "       [-7.24390792e-01, -9.33587130e-01, -1.02680966e+00,\n",
       "        -1.11937013e+00],\n",
       "       [-1.03938848e+00, -1.08172183e+00, -1.18658958e+00,\n",
       "        -9.14597041e-01],\n",
       "       [-8.18815893e-01, -6.63129085e-01, -7.04364384e-01,\n",
       "        -5.27539345e-01],\n",
       "       [-5.86741626e-01, -5.36690884e-01, -4.41430823e-01,\n",
       "        -5.51673316e-01],\n",
       "       [-7.13074620e-01, -7.63381860e-01, -7.07249800e-01,\n",
       "        -8.90828737e-01],\n",
       "       [-6.80424684e-01, -7.20924062e-01, -5.51797997e-01,\n",
       "        -6.49854697e-01],\n",
       "       [-6.94709031e-01, -5.96543287e-01, -5.57027814e-01,\n",
       "        -5.33572838e-01],\n",
       "       [-2.56346527e-01, -3.46098389e-01, -2.61272643e-01,\n",
       "        -4.09611989e-01],\n",
       "       [-4.39445888e-01, -3.84628374e-01, -2.96979670e-01,\n",
       "        -3.78713193e-01],\n",
       "       [-2.89924019e-01,  8.15301949e-03, -1.41167189e-01,\n",
       "         9.42760654e-02],\n",
       "       [ 9.53823382e-02,  1.46748740e-01,  1.84343837e-01,\n",
       "         1.05794551e-01],\n",
       "       [ 2.76441079e-01,  3.07227995e-01,  3.91552796e-01,\n",
       "         2.78206175e-01],\n",
       "       [ 3.23375363e-01,  2.24369824e-01,  2.31772868e-01,\n",
       "         1.39618677e-01],\n",
       "       [ 3.01114042e-01,  1.44691313e-01,  2.23116619e-01,\n",
       "         1.51685662e-01],\n",
       "       [ 2.19303689e-01,  6.93146936e-02,  2.37183023e-01,\n",
       "         9.04365700e-02],\n",
       "       [ 1.17458148e-01,  2.43073700e-01,  2.54856198e-01,\n",
       "         3.89003040e-01],\n",
       "       [ 4.61395550e-01,  3.19946630e-01,  4.59540417e-01,\n",
       "         4.23009999e-01],\n",
       "       [ 2.78296189e-01,  4.24688335e-01,  3.92815165e-01,\n",
       "         4.98702907e-01],\n",
       "       [ 7.31314062e-01,  9.80380487e-01,  7.99117848e-01,\n",
       "         9.53408854e-01],\n",
       "       [ 7.45783921e-01,  6.48947806e-01,  5.22658899e-01,\n",
       "         4.52811796e-01],\n",
       "       [ 3.14285324e-01,  4.20199405e-01,  4.28702530e-01,\n",
       "         4.28494992e-01],\n",
       "       [ 4.68444969e-01,  3.88589854e-01,  4.07783262e-01,\n",
       "         4.06920685e-01],\n",
       "       [ 5.37455062e-01,  5.18581792e-01,  5.81990272e-01,\n",
       "         6.56122216e-01],\n",
       "       [ 7.49865163e-01,  8.83494410e-01,  8.67826824e-01,\n",
       "         9.78456990e-01],\n",
       "       [ 1.05484525e+00,  9.73273014e-01,  1.13617054e+00,\n",
       "         9.90523976e-01],\n",
       "       [ 9.91214980e-01,  8.76012859e-01,  9.78735013e-01,\n",
       "         9.86318814e-01],\n",
       "       [ 1.08063128e+00,  1.43731617e+00,  1.19045243e+00,\n",
       "         1.29823210e+00],\n",
       "       [ 1.28469339e+00,  1.32995593e+00,  1.37295502e+00,\n",
       "         1.34412321e+00],\n",
       "       [ 1.24573608e+00,  1.11355208e+00,  1.24761974e+00,\n",
       "         1.12143248e+00],\n",
       "       [ 1.18674358e+00,  1.18032492e+00,  1.21804423e+00,\n",
       "         1.11430199e+00],\n",
       "       [ 1.07673555e+00,  1.07371283e+00,  1.17728772e+00,\n",
       "         1.09967534e+00],\n",
       "       [ 1.14036583e+00,  1.31125205e+00,  1.21588017e+00,\n",
       "         1.34576871e+00],\n",
       "       [ 1.53810142e+00,  1.64567735e+00,  1.55185083e+00,\n",
       "         1.77378102e+00],\n",
       "       [ 1.78446004e+00,  1.65783487e+00,  1.60991983e+00,\n",
       "         1.51470650e+00],\n",
       "       [ 1.70060906e+00,  1.51138352e+00,  1.52516073e+00,\n",
       "         1.41890195e+00],\n",
       "       [ 1.40453350e+00,  1.27384430e+00,  1.13472783e+00,\n",
       "         1.19200606e+00],\n",
       "       [ 1.21419921e+00,  1.22876796e+00,  1.16809046e+00,\n",
       "         1.16092444e+00],\n",
       "       [ 1.29100076e+00,  1.15657100e+00,  1.13941663e+00,\n",
       "         1.05104174e+00],\n",
       "       [ 1.17153168e+00,  1.20482700e+00,  1.26060412e+00,\n",
       "         1.25855732e+00],\n",
       "       [ 1.36965743e+00,  1.27010352e+00,  1.38611973e+00,\n",
       "         1.38398083e+00],\n",
       "       [ 1.46501009e+00,  1.33668932e+00,  1.46799341e+00,\n",
       "         1.37374218e+00],\n",
       "       [ 1.31882741e+00,  1.18406569e+00,  1.36592181e+00,\n",
       "         1.22692719e+00],\n",
       "       [ 1.20529468e+00,  1.10232976e+00,  9.51684235e-01,\n",
       "         9.51946189e-01],\n",
       "       [ 8.07744596e-01,  9.64482192e-01,  9.15616532e-01,\n",
       "         1.04994474e+00],\n",
       "       [ 1.31678679e+00,  1.47584616e+00,  1.38215228e+00,\n",
       "         1.51178118e+00],\n",
       "       [ 1.70617439e+00,  1.54243196e+00,  1.59080395e+00,\n",
       "         1.65055151e+00],\n",
       "       [ 1.80709238e+00,  1.81625670e+00,  1.89737943e+00,\n",
       "         1.87891006e+00],\n",
       "       [ 1.89242744e+00,  2.10523158e+00,  1.97672838e+00,\n",
       "         1.93266300e+00],\n",
       "       [ 1.95661425e+00,  1.92791884e+00,  1.94426744e+00,\n",
       "         1.95277464e+00],\n",
       "       [ 2.12988153e+00,  1.95092461e+00,  2.06383188e+00,\n",
       "         1.95935663e+00]])"
      ]
     },
     "execution_count": 68,
     "metadata": {},
     "output_type": "execute_result"
    }
   ],
   "source": [
    "df_LR"
   ]
  },
  {
   "cell_type": "code",
   "execution_count": 69,
   "metadata": {},
   "outputs": [],
   "source": [
    "test_size = 0.2"
   ]
  },
  {
   "cell_type": "code",
   "execution_count": 70,
   "metadata": {},
   "outputs": [],
   "source": [
    "num_test_linear = int(len(df_LR) * test_size)\n",
    "num_train_linear = len(df_LR) - num_test_linear"
   ]
  },
  {
   "cell_type": "code",
   "execution_count": 71,
   "metadata": {},
   "outputs": [
    {
     "data": {
      "text/plain": [
       "20"
      ]
     },
     "execution_count": 71,
     "metadata": {},
     "output_type": "execute_result"
    }
   ],
   "source": [
    "num_test_linear"
   ]
  },
  {
   "cell_type": "code",
   "execution_count": 72,
   "metadata": {},
   "outputs": [
    {
     "data": {
      "text/plain": [
       "80"
      ]
     },
     "execution_count": 72,
     "metadata": {},
     "output_type": "execute_result"
    }
   ],
   "source": [
    "num_train_linear"
   ]
  },
  {
   "cell_type": "code",
   "execution_count": 73,
   "metadata": {},
   "outputs": [],
   "source": [
    "x_linear_train = df_LR[:num_train_linear,:]"
   ]
  },
  {
   "cell_type": "code",
   "execution_count": 74,
   "metadata": {},
   "outputs": [
    {
     "data": {
      "text/plain": [
       "(80, 4)"
      ]
     },
     "execution_count": 74,
     "metadata": {},
     "output_type": "execute_result"
    }
   ],
   "source": [
    "x_linear_train.shape"
   ]
  },
  {
   "cell_type": "code",
   "execution_count": 75,
   "metadata": {},
   "outputs": [],
   "source": [
    "y_linear = df_LR[1:num_train_linear+1,1]"
   ]
  },
  {
   "cell_type": "code",
   "execution_count": 76,
   "metadata": {},
   "outputs": [
    {
     "data": {
      "text/plain": [
       "(80,)"
      ]
     },
     "execution_count": 76,
     "metadata": {},
     "output_type": "execute_result"
    }
   ],
   "source": [
    "y_linear.shape"
   ]
  },
  {
   "cell_type": "code",
   "execution_count": 77,
   "metadata": {},
   "outputs": [],
   "source": [
    "x_linear_test = df_LR[num_train_linear:-1,:]"
   ]
  },
  {
   "cell_type": "code",
   "execution_count": 78,
   "metadata": {},
   "outputs": [
    {
     "data": {
      "text/plain": [
       "(19, 4)"
      ]
     },
     "execution_count": 78,
     "metadata": {},
     "output_type": "execute_result"
    }
   ],
   "source": [
    "x_linear_test.shape"
   ]
  },
  {
   "cell_type": "code",
   "execution_count": 79,
   "metadata": {},
   "outputs": [],
   "source": [
    "y_linear_test = df_LR[num_train_linear+1:,1]"
   ]
  },
  {
   "cell_type": "code",
   "execution_count": 80,
   "metadata": {},
   "outputs": [
    {
     "data": {
      "text/plain": [
       "(19,)"
      ]
     },
     "execution_count": 80,
     "metadata": {},
     "output_type": "execute_result"
    }
   ],
   "source": [
    "y_linear_test.shape"
   ]
  },
  {
   "cell_type": "code",
   "execution_count": 81,
   "metadata": {},
   "outputs": [],
   "source": [
    "from sklearn.linear_model import LinearRegression\n",
    "regressor = LinearRegression()"
   ]
  },
  {
   "cell_type": "code",
   "execution_count": 82,
   "metadata": {},
   "outputs": [
    {
     "data": {
      "text/plain": [
       "LinearRegression(copy_X=True, fit_intercept=True, n_jobs=None, normalize=False)"
      ]
     },
     "execution_count": 82,
     "metadata": {},
     "output_type": "execute_result"
    }
   ],
   "source": [
    "regressor.fit(x_linear_train, y_linear)"
   ]
  },
  {
   "cell_type": "code",
   "execution_count": 83,
   "metadata": {},
   "outputs": [],
   "source": [
    "y_linear_pred = regressor.predict(x_linear_test)"
   ]
  },
  {
   "cell_type": "code",
   "execution_count": 84,
   "metadata": {},
   "outputs": [
    {
     "data": {
      "text/plain": [
       "array([1.00358371, 1.20599535, 1.67773544, 1.43663165, 1.38424924,\n",
       "       1.2004522 , 1.06720877, 1.01872921, 1.15870641, 1.35526594,\n",
       "       1.32301782, 1.17577565, 0.93703695, 0.94689624, 1.36599274,\n",
       "       1.65941354, 1.73995529, 1.64452001, 1.83612098])"
      ]
     },
     "execution_count": 84,
     "metadata": {},
     "output_type": "execute_result"
    }
   ],
   "source": [
    "y_linear_pred"
   ]
  },
  {
   "cell_type": "code",
   "execution_count": 85,
   "metadata": {},
   "outputs": [
    {
     "data": {
      "text/plain": [
       "(19,)"
      ]
     },
     "execution_count": 85,
     "metadata": {},
     "output_type": "execute_result"
    }
   ],
   "source": [
    "y_linear_pred.shape"
   ]
  },
  {
   "cell_type": "code",
   "execution_count": 86,
   "metadata": {},
   "outputs": [
    {
     "data": {
      "text/plain": [
       "(19,)"
      ]
     },
     "execution_count": 86,
     "metadata": {},
     "output_type": "execute_result"
    }
   ],
   "source": [
    "y_linear_test.shape"
   ]
  },
  {
   "cell_type": "code",
   "execution_count": 87,
   "metadata": {},
   "outputs": [],
   "source": [
    "dataset = pd.DataFrame({'date': df[num_train_linear+1:]['date'], 'high':  y_linear_test})\n",
    "est_linear_df = pd.DataFrame({'est': y_linear_pred.reshape(-1), \n",
    "                       'date': df[num_train_linear+1:]['date']})"
   ]
  },
  {
   "cell_type": "code",
   "execution_count": 88,
   "metadata": {},
   "outputs": [
    {
     "data": {
      "text/plain": [
       "Text(0, 0.5, 'USD')"
      ]
     },
     "execution_count": 88,
     "metadata": {},
     "output_type": "execute_result"
    },
    {
     "data": {
      "image/png": "[encoded data removed]",
      "text/plain": [
       "<Figure size 432x288 with 1 Axes>"
      ]
     },
     "metadata": {},
     "output_type": "display_data"
    }
   ],
   "source": [
    "ax = dataset.plot(x='date', y='high', style='g-', grid=True)\n",
    "ax = est_linear_df.plot(x='date', y='est', style='r-', grid=True, ax=ax)\n",
    "ax.legend(['test', 'predictions'])\n",
    "ax.set_xlabel(\"date\")\n",
    "ax.set_ylabel(\"USD\")"
   ]
  },
  {
   "cell_type": "code",
   "execution_count": 89,
   "metadata": {},
   "outputs": [
    {
     "name": "stdout",
     "output_type": "stream",
     "text": [
      "0.05001172277474031\n"
     ]
    }
   ],
   "source": [
    "from sklearn.metrics import mean_squared_error\n",
    "error_LR = mean_squared_error(y_linear_test,y_linear_pred)\n",
    "print(error_LR)"
   ]
  },
  {
   "cell_type": "markdown",
   "metadata": {},
   "source": [
    "# Recurrent Neural Network"
   ]
  },
  {
   "cell_type": "code",
   "execution_count": 90,
   "metadata": {},
   "outputs": [
    {
     "data": {
      "text/html": [
       "<div>\n",
       "<style scoped>\n",
       "    .dataframe tbody tr th:only-of-type {\n",
       "        vertical-align: middle;\n",
       "    }\n",
       "\n",
       "    .dataframe tbody tr th {\n",
       "        vertical-align: top;\n",
       "    }\n",
       "\n",
       "    .dataframe thead th {\n",
       "        text-align: right;\n",
       "    }\n",
       "</style>\n",
       "<table border=\"1\" class=\"dataframe\">\n",
       "  <thead>\n",
       "    <tr style=\"text-align: right;\">\n",
       "      <th></th>\n",
       "      <th>date</th>\n",
       "      <th>open</th>\n",
       "      <th>high</th>\n",
       "      <th>low</th>\n",
       "      <th>adj_close**</th>\n",
       "    </tr>\n",
       "  </thead>\n",
       "  <tbody>\n",
       "    <tr>\n",
       "      <td>0</td>\n",
       "      <td>2019-07-23</td>\n",
       "      <td>1144.00</td>\n",
       "      <td>1146.90</td>\n",
       "      <td>1131.80</td>\n",
       "      <td>1146.21</td>\n",
       "    </tr>\n",
       "    <tr>\n",
       "      <td>1</td>\n",
       "      <td>2019-07-24</td>\n",
       "      <td>1131.90</td>\n",
       "      <td>1144.00</td>\n",
       "      <td>1126.99</td>\n",
       "      <td>1137.81</td>\n",
       "    </tr>\n",
       "    <tr>\n",
       "      <td>2</td>\n",
       "      <td>2019-07-25</td>\n",
       "      <td>1137.82</td>\n",
       "      <td>1141.70</td>\n",
       "      <td>1120.92</td>\n",
       "      <td>1132.12</td>\n",
       "    </tr>\n",
       "    <tr>\n",
       "      <td>3</td>\n",
       "      <td>2019-07-26</td>\n",
       "      <td>1224.04</td>\n",
       "      <td>1265.55</td>\n",
       "      <td>1224.00</td>\n",
       "      <td>1250.41</td>\n",
       "    </tr>\n",
       "    <tr>\n",
       "      <td>4</td>\n",
       "      <td>2019-07-29</td>\n",
       "      <td>1241.05</td>\n",
       "      <td>1247.37</td>\n",
       "      <td>1228.23</td>\n",
       "      <td>1239.41</td>\n",
       "    </tr>\n",
       "    <tr>\n",
       "      <td>...</td>\n",
       "      <td>...</td>\n",
       "      <td>...</td>\n",
       "      <td>...</td>\n",
       "      <td>...</td>\n",
       "      <td>...</td>\n",
       "    </tr>\n",
       "    <tr>\n",
       "      <td>95</td>\n",
       "      <td>2019-12-05</td>\n",
       "      <td>1328.00</td>\n",
       "      <td>1329.36</td>\n",
       "      <td>1316.44</td>\n",
       "      <td>1328.13</td>\n",
       "    </tr>\n",
       "    <tr>\n",
       "      <td>96</td>\n",
       "      <td>2019-12-06</td>\n",
       "      <td>1333.44</td>\n",
       "      <td>1344.00</td>\n",
       "      <td>1333.44</td>\n",
       "      <td>1340.62</td>\n",
       "    </tr>\n",
       "    <tr>\n",
       "      <td>97</td>\n",
       "      <td>2019-12-09</td>\n",
       "      <td>1338.04</td>\n",
       "      <td>1359.45</td>\n",
       "      <td>1337.84</td>\n",
       "      <td>1343.56</td>\n",
       "    </tr>\n",
       "    <tr>\n",
       "      <td>98</td>\n",
       "      <td>2019-12-10</td>\n",
       "      <td>1341.50</td>\n",
       "      <td>1349.97</td>\n",
       "      <td>1336.04</td>\n",
       "      <td>1344.66</td>\n",
       "    </tr>\n",
       "    <tr>\n",
       "      <td>99</td>\n",
       "      <td>2019-12-11</td>\n",
       "      <td>1350.84</td>\n",
       "      <td>1351.20</td>\n",
       "      <td>1342.67</td>\n",
       "      <td>1345.02</td>\n",
       "    </tr>\n",
       "  </tbody>\n",
       "</table>\n",
       "<p>100 rows × 5 columns</p>\n",
       "</div>"
      ],
      "text/plain": [
       "         date     open     high      low  adj_close**\n",
       "0  2019-07-23  1144.00  1146.90  1131.80      1146.21\n",
       "1  2019-07-24  1131.90  1144.00  1126.99      1137.81\n",
       "2  2019-07-25  1137.82  1141.70  1120.92      1132.12\n",
       "3  2019-07-26  1224.04  1265.55  1224.00      1250.41\n",
       "4  2019-07-29  1241.05  1247.37  1228.23      1239.41\n",
       "..        ...      ...      ...      ...          ...\n",
       "95 2019-12-05  1328.00  1329.36  1316.44      1328.13\n",
       "96 2019-12-06  1333.44  1344.00  1333.44      1340.62\n",
       "97 2019-12-09  1338.04  1359.45  1337.84      1343.56\n",
       "98 2019-12-10  1341.50  1349.97  1336.04      1344.66\n",
       "99 2019-12-11  1350.84  1351.20  1342.67      1345.02\n",
       "\n",
       "[100 rows x 5 columns]"
      ]
     },
     "execution_count": 90,
     "metadata": {},
     "output_type": "execute_result"
    }
   ],
   "source": [
    "df"
   ]
  },
  {
   "cell_type": "code",
   "execution_count": 115,
   "metadata": {},
   "outputs": [],
   "source": [
    "df_RNN = df"
   ]
  },
  {
   "cell_type": "code",
   "execution_count": 116,
   "metadata": {},
   "outputs": [],
   "source": [
    "scaler = StandardScaler()"
   ]
  },
  {
   "cell_type": "code",
   "execution_count": 117,
   "metadata": {},
   "outputs": [],
   "source": [
    "df_RNN = scaler.fit_transform(np.array(df_RNN[['open','high','low','adj_close**']]))"
   ]
  },
  {
   "cell_type": "code",
   "execution_count": 118,
   "metadata": {},
   "outputs": [],
   "source": [
    "def get_x_y(data, N, offset):\n",
    "    X, y = [], []\n",
    "    for i in range(offset, len(data)):\n",
    "        X.append(data[i-N:i])\n",
    "        y.append(data[i,1])\n",
    "    X = np.array(X)\n",
    "    y = np.array(y)\n",
    "        \n",
    "    return X, y"
   ]
  },
  {
   "cell_type": "code",
   "execution_count": 119,
   "metadata": {},
   "outputs": [],
   "source": [
    "X, y = get_x_y(df_RNN, 9, 9)"
   ]
  },
  {
   "cell_type": "code",
   "execution_count": 120,
   "metadata": {},
   "outputs": [],
   "source": [
    "X_train = []\n",
    "for i in range(70):\n",
    "    X_train.append(X[i])"
   ]
  },
  {
   "cell_type": "code",
   "execution_count": 121,
   "metadata": {},
   "outputs": [],
   "source": [
    "y_train = y[:70]"
   ]
  },
  {
   "cell_type": "code",
   "execution_count": 122,
   "metadata": {},
   "outputs": [],
   "source": [
    "X_test = []\n",
    "for i in range(70, len(X)):\n",
    "    X_test.append(X[i])"
   ]
  },
  {
   "cell_type": "code",
   "execution_count": 123,
   "metadata": {},
   "outputs": [],
   "source": [
    "y_test = y[70:]"
   ]
  },
  {
   "cell_type": "code",
   "execution_count": 124,
   "metadata": {},
   "outputs": [],
   "source": [
    "X_train = np.array(X_train)\n",
    "X_test = np.array(X_test)"
   ]
  },
  {
   "cell_type": "code",
   "execution_count": 125,
   "metadata": {},
   "outputs": [
    {
     "data": {
      "text/plain": [
       "(70, 9, 4)"
      ]
     },
     "execution_count": 125,
     "metadata": {},
     "output_type": "execute_result"
    }
   ],
   "source": [
    "X_train.shape"
   ]
  },
  {
   "cell_type": "code",
   "execution_count": 126,
   "metadata": {},
   "outputs": [
    {
     "data": {
      "text/plain": [
       "(70,)"
      ]
     },
     "execution_count": 126,
     "metadata": {},
     "output_type": "execute_result"
    }
   ],
   "source": [
    "y_train.shape"
   ]
  },
  {
   "cell_type": "code",
   "execution_count": 127,
   "metadata": {},
   "outputs": [
    {
     "data": {
      "text/plain": [
       "(21, 9, 4)"
      ]
     },
     "execution_count": 127,
     "metadata": {},
     "output_type": "execute_result"
    }
   ],
   "source": [
    "X_test.shape"
   ]
  },
  {
   "cell_type": "code",
   "execution_count": 128,
   "metadata": {},
   "outputs": [
    {
     "data": {
      "text/plain": [
       "(21,)"
      ]
     },
     "execution_count": 128,
     "metadata": {},
     "output_type": "execute_result"
    }
   ],
   "source": [
    "y_test.shape"
   ]
  },
  {
   "cell_type": "code",
   "execution_count": 129,
   "metadata": {},
   "outputs": [],
   "source": [
    "from keras.models import Sequential\n",
    "from keras.layers import Dense, Dropout, LSTM"
   ]
  },
  {
   "cell_type": "code",
   "execution_count": 130,
   "metadata": {},
   "outputs": [],
   "source": [
    "model = Sequential()\n",
    "model.add(LSTM(units=128, return_sequences=True, input_shape=(X_train.shape[1],4)))\n",
    "model.add(Dropout(0.5)) # Add dropout with a probability of 0.5\n",
    "model.add(LSTM(units=64))\n",
    "model.add(Dropout(0.5)) # Add dropout with a probability of 0.5\n",
    "model.add(Dense(1))"
   ]
  },
  {
   "cell_type": "code",
   "execution_count": 131,
   "metadata": {},
   "outputs": [],
   "source": [
    "model.compile(loss='mean_squared_error', optimizer='RMSprop')"
   ]
  },
  {
   "cell_type": "code",
   "execution_count": 132,
   "metadata": {},
   "outputs": [
    {
     "name": "stdout",
     "output_type": "stream",
     "text": [
      "Epoch 1/75\n",
      " - 5s - loss: 0.2844\n",
      "Epoch 2/75\n",
      " - 1s - loss: 0.1973\n",
      "Epoch 3/75\n",
      " - 0s - loss: 0.1719\n",
      "Epoch 4/75\n",
      " - 0s - loss: 0.1457\n",
      "Epoch 5/75\n",
      " - 0s - loss: 0.1611\n",
      "Epoch 6/75\n",
      " - 0s - loss: 0.1170\n",
      "Epoch 7/75\n",
      " - 0s - loss: 0.1233\n",
      "Epoch 8/75\n",
      " - 0s - loss: 0.1257\n",
      "Epoch 9/75\n",
      " - 0s - loss: 0.1430\n",
      "Epoch 10/75\n",
      " - 0s - loss: 0.1165\n",
      "Epoch 11/75\n",
      " - 0s - loss: 0.1246\n",
      "Epoch 12/75\n",
      " - 0s - loss: 0.1199\n",
      "Epoch 13/75\n",
      " - 0s - loss: 0.1167\n",
      "Epoch 14/75\n",
      " - 0s - loss: 0.1229\n",
      "Epoch 15/75\n",
      " - 0s - loss: 0.0908\n",
      "Epoch 16/75\n",
      " - 0s - loss: 0.1452\n",
      "Epoch 17/75\n",
      " - 0s - loss: 0.1019\n",
      "Epoch 18/75\n",
      " - 0s - loss: 0.0986\n",
      "Epoch 19/75\n",
      " - 0s - loss: 0.0979\n",
      "Epoch 20/75\n",
      " - 0s - loss: 0.1172\n",
      "Epoch 21/75\n",
      " - 0s - loss: 0.1228\n",
      "Epoch 22/75\n",
      " - 0s - loss: 0.1067\n",
      "Epoch 23/75\n",
      " - 0s - loss: 0.0981\n",
      "Epoch 24/75\n",
      " - 0s - loss: 0.0806\n",
      "Epoch 25/75\n",
      " - 0s - loss: 0.0701\n",
      "Epoch 26/75\n",
      " - 0s - loss: 0.0861\n",
      "Epoch 27/75\n",
      " - 0s - loss: 0.0929\n",
      "Epoch 28/75\n",
      " - 0s - loss: 0.0991\n",
      "Epoch 29/75\n",
      " - 0s - loss: 0.0945\n",
      "Epoch 30/75\n",
      " - 0s - loss: 0.0958\n",
      "Epoch 31/75\n",
      " - 0s - loss: 0.0798\n",
      "Epoch 32/75\n",
      " - 0s - loss: 0.0685\n",
      "Epoch 33/75\n",
      " - 0s - loss: 0.1222\n",
      "Epoch 34/75\n",
      " - 0s - loss: 0.0746\n",
      "Epoch 35/75\n",
      " - 0s - loss: 0.0708\n",
      "Epoch 36/75\n",
      " - 0s - loss: 0.0777\n",
      "Epoch 37/75\n",
      " - 0s - loss: 0.0839\n",
      "Epoch 38/75\n",
      " - 0s - loss: 0.0877\n",
      "Epoch 39/75\n",
      " - 0s - loss: 0.1091\n",
      "Epoch 40/75\n",
      " - 0s - loss: 0.0754\n",
      "Epoch 41/75\n",
      " - 0s - loss: 0.0919\n",
      "Epoch 42/75\n",
      " - 0s - loss: 0.0801\n",
      "Epoch 43/75\n",
      " - 0s - loss: 0.0764\n",
      "Epoch 44/75\n",
      " - 0s - loss: 0.0928\n",
      "Epoch 45/75\n",
      " - 0s - loss: 0.0641\n",
      "Epoch 46/75\n",
      " - 0s - loss: 0.0871\n",
      "Epoch 47/75\n",
      " - 0s - loss: 0.0743\n",
      "Epoch 48/75\n",
      " - 0s - loss: 0.0743\n",
      "Epoch 49/75\n",
      " - 0s - loss: 0.1034\n",
      "Epoch 50/75\n",
      " - 0s - loss: 0.0660\n",
      "Epoch 51/75\n",
      " - 0s - loss: 0.0838\n",
      "Epoch 52/75\n",
      " - 0s - loss: 0.0697\n",
      "Epoch 53/75\n",
      " - 0s - loss: 0.0719\n",
      "Epoch 54/75\n",
      " - 0s - loss: 0.0718\n",
      "Epoch 55/75\n",
      " - 0s - loss: 0.0522\n",
      "Epoch 56/75\n",
      " - 1s - loss: 0.0764\n",
      "Epoch 57/75\n",
      " - 1s - loss: 0.0726\n",
      "Epoch 58/75\n",
      " - 0s - loss: 0.0686\n",
      "Epoch 59/75\n",
      " - 0s - loss: 0.0813\n",
      "Epoch 60/75\n",
      " - 0s - loss: 0.0704\n",
      "Epoch 61/75\n",
      " - 0s - loss: 0.0701\n",
      "Epoch 62/75\n",
      " - 0s - loss: 0.0760\n",
      "Epoch 63/75\n",
      " - 0s - loss: 0.0567\n",
      "Epoch 64/75\n",
      " - 0s - loss: 0.0533\n",
      "Epoch 65/75\n",
      " - 0s - loss: 0.0638\n",
      "Epoch 66/75\n",
      " - 0s - loss: 0.0720\n",
      "Epoch 67/75\n",
      " - 0s - loss: 0.0855\n",
      "Epoch 68/75\n",
      " - 0s - loss: 0.0626\n",
      "Epoch 69/75\n",
      " - 0s - loss: 0.0760\n",
      "Epoch 70/75\n",
      " - 0s - loss: 0.0679\n",
      "Epoch 71/75\n",
      " - 0s - loss: 0.0614\n",
      "Epoch 72/75\n",
      " - 0s - loss: 0.0685\n",
      "Epoch 73/75\n",
      " - 0s - loss: 0.0628\n",
      "Epoch 74/75\n",
      " - 0s - loss: 0.0658\n",
      "Epoch 75/75\n",
      " - 0s - loss: 0.0776\n"
     ]
    },
    {
     "data": {
      "text/plain": [
       "<keras.callbacks.callbacks.History at 0x1a5223abd0>"
      ]
     },
     "execution_count": 132,
     "metadata": {},
     "output_type": "execute_result"
    }
   ],
   "source": [
    "model.fit(X_train, y_train, epochs=75, batch_size=8, verbose=2)"
   ]
  },
  {
   "cell_type": "code",
   "execution_count": 133,
   "metadata": {},
   "outputs": [],
   "source": [
    "est = model.predict(X_test)"
   ]
  },
  {
   "cell_type": "code",
   "execution_count": 135,
   "metadata": {},
   "outputs": [],
   "source": [
    "est_df = pd.DataFrame({'est': est.reshape(-1), \n",
    "                       'date': df[-21:]['date']})"
   ]
  },
  {
   "cell_type": "code",
   "execution_count": 136,
   "metadata": {},
   "outputs": [],
   "source": [
    "test = pd.DataFrame(columns=['date','high'])"
   ]
  },
  {
   "cell_type": "code",
   "execution_count": 137,
   "metadata": {},
   "outputs": [],
   "source": [
    "test['date'] = df['date'][-21:]\n",
    "test['high'] = y_test"
   ]
  },
  {
   "cell_type": "code",
   "execution_count": 138,
   "metadata": {},
   "outputs": [
    {
     "data": {
      "text/plain": [
       "Text(0, 0.5, 'USD')"
      ]
     },
     "execution_count": 138,
     "metadata": {},
     "output_type": "execute_result"
    },
    {
     "data": {
      "image/png": "[encoded data removed]",
      "text/plain": [
       "<Figure size 432x288 with 1 Axes>"
      ]
     },
     "metadata": {},
     "output_type": "display_data"
    }
   ],
   "source": [
    "ax = test.plot(x='date', y='high', style='g-', grid=True)\n",
    "ax = est_df.plot(x='date', y='est', style='r-', grid=True, ax=ax)\n",
    "ax.legend(['test', 'predictions'])\n",
    "ax.set_xlabel(\"date\")\n",
    "ax.set_ylabel(\"USD\")"
   ]
  },
  {
   "cell_type": "code",
   "execution_count": 139,
   "metadata": {},
   "outputs": [
    {
     "name": "stdout",
     "output_type": "stream",
     "text": [
      "0.1273308712912534\n"
     ]
    }
   ],
   "source": [
    "from sklearn.metrics import mean_squared_error\n",
    "error_LR = mean_squared_error(y_test,est)\n",
    "print(error_LR)"
   ]
  },
  {
   "cell_type": "markdown",
   "metadata": {},
   "source": [
    "# Adding Sentiments to the Dataset"
   ]
  },
  {
   "cell_type": "code",
   "execution_count": 144,
   "metadata": {},
   "outputs": [],
   "source": [
    "df_sa = pd.read_csv('FinalScores.csv',index_col=[0])"
   ]
  },
  {
   "cell_type": "code",
   "execution_count": 145,
   "metadata": {},
   "outputs": [],
   "source": [
    "final_scores = df_sa.iloc[:,0].values"
   ]
  },
  {
   "cell_type": "code",
   "execution_count": 146,
   "metadata": {},
   "outputs": [],
   "source": [
    "df_linear = df"
   ]
  },
  {
   "cell_type": "code",
   "execution_count": 147,
   "metadata": {},
   "outputs": [
    {
     "data": {
      "text/html": [
       "<div>\n",
       "<style scoped>\n",
       "    .dataframe tbody tr th:only-of-type {\n",
       "        vertical-align: middle;\n",
       "    }\n",
       "\n",
       "    .dataframe tbody tr th {\n",
       "        vertical-align: top;\n",
       "    }\n",
       "\n",
       "    .dataframe thead th {\n",
       "        text-align: right;\n",
       "    }\n",
       "</style>\n",
       "<table border=\"1\" class=\"dataframe\">\n",
       "  <thead>\n",
       "    <tr style=\"text-align: right;\">\n",
       "      <th></th>\n",
       "      <th>date</th>\n",
       "      <th>open</th>\n",
       "      <th>high</th>\n",
       "      <th>low</th>\n",
       "      <th>adj_close**</th>\n",
       "    </tr>\n",
       "  </thead>\n",
       "  <tbody>\n",
       "    <tr>\n",
       "      <td>0</td>\n",
       "      <td>2019-07-23</td>\n",
       "      <td>1144.00</td>\n",
       "      <td>1146.90</td>\n",
       "      <td>1131.80</td>\n",
       "      <td>1146.21</td>\n",
       "    </tr>\n",
       "    <tr>\n",
       "      <td>1</td>\n",
       "      <td>2019-07-24</td>\n",
       "      <td>1131.90</td>\n",
       "      <td>1144.00</td>\n",
       "      <td>1126.99</td>\n",
       "      <td>1137.81</td>\n",
       "    </tr>\n",
       "    <tr>\n",
       "      <td>2</td>\n",
       "      <td>2019-07-25</td>\n",
       "      <td>1137.82</td>\n",
       "      <td>1141.70</td>\n",
       "      <td>1120.92</td>\n",
       "      <td>1132.12</td>\n",
       "    </tr>\n",
       "    <tr>\n",
       "      <td>3</td>\n",
       "      <td>2019-07-26</td>\n",
       "      <td>1224.04</td>\n",
       "      <td>1265.55</td>\n",
       "      <td>1224.00</td>\n",
       "      <td>1250.41</td>\n",
       "    </tr>\n",
       "    <tr>\n",
       "      <td>4</td>\n",
       "      <td>2019-07-29</td>\n",
       "      <td>1241.05</td>\n",
       "      <td>1247.37</td>\n",
       "      <td>1228.23</td>\n",
       "      <td>1239.41</td>\n",
       "    </tr>\n",
       "    <tr>\n",
       "      <td>...</td>\n",
       "      <td>...</td>\n",
       "      <td>...</td>\n",
       "      <td>...</td>\n",
       "      <td>...</td>\n",
       "      <td>...</td>\n",
       "    </tr>\n",
       "    <tr>\n",
       "      <td>95</td>\n",
       "      <td>2019-12-05</td>\n",
       "      <td>1328.00</td>\n",
       "      <td>1329.36</td>\n",
       "      <td>1316.44</td>\n",
       "      <td>1328.13</td>\n",
       "    </tr>\n",
       "    <tr>\n",
       "      <td>96</td>\n",
       "      <td>2019-12-06</td>\n",
       "      <td>1333.44</td>\n",
       "      <td>1344.00</td>\n",
       "      <td>1333.44</td>\n",
       "      <td>1340.62</td>\n",
       "    </tr>\n",
       "    <tr>\n",
       "      <td>97</td>\n",
       "      <td>2019-12-09</td>\n",
       "      <td>1338.04</td>\n",
       "      <td>1359.45</td>\n",
       "      <td>1337.84</td>\n",
       "      <td>1343.56</td>\n",
       "    </tr>\n",
       "    <tr>\n",
       "      <td>98</td>\n",
       "      <td>2019-12-10</td>\n",
       "      <td>1341.50</td>\n",
       "      <td>1349.97</td>\n",
       "      <td>1336.04</td>\n",
       "      <td>1344.66</td>\n",
       "    </tr>\n",
       "    <tr>\n",
       "      <td>99</td>\n",
       "      <td>2019-12-11</td>\n",
       "      <td>1350.84</td>\n",
       "      <td>1351.20</td>\n",
       "      <td>1342.67</td>\n",
       "      <td>1345.02</td>\n",
       "    </tr>\n",
       "  </tbody>\n",
       "</table>\n",
       "<p>100 rows × 5 columns</p>\n",
       "</div>"
      ],
      "text/plain": [
       "         date     open     high      low  adj_close**\n",
       "0  2019-07-23  1144.00  1146.90  1131.80      1146.21\n",
       "1  2019-07-24  1131.90  1144.00  1126.99      1137.81\n",
       "2  2019-07-25  1137.82  1141.70  1120.92      1132.12\n",
       "3  2019-07-26  1224.04  1265.55  1224.00      1250.41\n",
       "4  2019-07-29  1241.05  1247.37  1228.23      1239.41\n",
       "..        ...      ...      ...      ...          ...\n",
       "95 2019-12-05  1328.00  1329.36  1316.44      1328.13\n",
       "96 2019-12-06  1333.44  1344.00  1333.44      1340.62\n",
       "97 2019-12-09  1338.04  1359.45  1337.84      1343.56\n",
       "98 2019-12-10  1341.50  1349.97  1336.04      1344.66\n",
       "99 2019-12-11  1350.84  1351.20  1342.67      1345.02\n",
       "\n",
       "[100 rows x 5 columns]"
      ]
     },
     "execution_count": 147,
     "metadata": {},
     "output_type": "execute_result"
    }
   ],
   "source": [
    "df_linear"
   ]
  },
  {
   "cell_type": "code",
   "execution_count": 148,
   "metadata": {},
   "outputs": [],
   "source": [
    "df_linear['sentiments'] = final_scores"
   ]
  },
  {
   "cell_type": "code",
   "execution_count": 149,
   "metadata": {},
   "outputs": [
    {
     "data": {
      "text/html": [
       "<div>\n",
       "<style scoped>\n",
       "    .dataframe tbody tr th:only-of-type {\n",
       "        vertical-align: middle;\n",
       "    }\n",
       "\n",
       "    .dataframe tbody tr th {\n",
       "        vertical-align: top;\n",
       "    }\n",
       "\n",
       "    .dataframe thead th {\n",
       "        text-align: right;\n",
       "    }\n",
       "</style>\n",
       "<table border=\"1\" class=\"dataframe\">\n",
       "  <thead>\n",
       "    <tr style=\"text-align: right;\">\n",
       "      <th></th>\n",
       "      <th>date</th>\n",
       "      <th>open</th>\n",
       "      <th>high</th>\n",
       "      <th>low</th>\n",
       "      <th>adj_close**</th>\n",
       "      <th>sentiments</th>\n",
       "    </tr>\n",
       "  </thead>\n",
       "  <tbody>\n",
       "    <tr>\n",
       "      <td>0</td>\n",
       "      <td>2019-07-23</td>\n",
       "      <td>1144.00</td>\n",
       "      <td>1146.90</td>\n",
       "      <td>1131.80</td>\n",
       "      <td>1146.21</td>\n",
       "      <td>0.582987</td>\n",
       "    </tr>\n",
       "    <tr>\n",
       "      <td>1</td>\n",
       "      <td>2019-07-24</td>\n",
       "      <td>1131.90</td>\n",
       "      <td>1144.00</td>\n",
       "      <td>1126.99</td>\n",
       "      <td>1137.81</td>\n",
       "      <td>0.451675</td>\n",
       "    </tr>\n",
       "    <tr>\n",
       "      <td>2</td>\n",
       "      <td>2019-07-25</td>\n",
       "      <td>1137.82</td>\n",
       "      <td>1141.70</td>\n",
       "      <td>1120.92</td>\n",
       "      <td>1132.12</td>\n",
       "      <td>0.601238</td>\n",
       "    </tr>\n",
       "    <tr>\n",
       "      <td>3</td>\n",
       "      <td>2019-07-26</td>\n",
       "      <td>1224.04</td>\n",
       "      <td>1265.55</td>\n",
       "      <td>1224.00</td>\n",
       "      <td>1250.41</td>\n",
       "      <td>0.368675</td>\n",
       "    </tr>\n",
       "    <tr>\n",
       "      <td>4</td>\n",
       "      <td>2019-07-29</td>\n",
       "      <td>1241.05</td>\n",
       "      <td>1247.37</td>\n",
       "      <td>1228.23</td>\n",
       "      <td>1239.41</td>\n",
       "      <td>0.054550</td>\n",
       "    </tr>\n",
       "    <tr>\n",
       "      <td>...</td>\n",
       "      <td>...</td>\n",
       "      <td>...</td>\n",
       "      <td>...</td>\n",
       "      <td>...</td>\n",
       "      <td>...</td>\n",
       "      <td>...</td>\n",
       "    </tr>\n",
       "    <tr>\n",
       "      <td>95</td>\n",
       "      <td>2019-12-05</td>\n",
       "      <td>1328.00</td>\n",
       "      <td>1329.36</td>\n",
       "      <td>1316.44</td>\n",
       "      <td>1328.13</td>\n",
       "      <td>0.596413</td>\n",
       "    </tr>\n",
       "    <tr>\n",
       "      <td>96</td>\n",
       "      <td>2019-12-06</td>\n",
       "      <td>1333.44</td>\n",
       "      <td>1344.00</td>\n",
       "      <td>1333.44</td>\n",
       "      <td>1340.62</td>\n",
       "      <td>0.702612</td>\n",
       "    </tr>\n",
       "    <tr>\n",
       "      <td>97</td>\n",
       "      <td>2019-12-09</td>\n",
       "      <td>1338.04</td>\n",
       "      <td>1359.45</td>\n",
       "      <td>1337.84</td>\n",
       "      <td>1343.56</td>\n",
       "      <td>0.640525</td>\n",
       "    </tr>\n",
       "    <tr>\n",
       "      <td>98</td>\n",
       "      <td>2019-12-10</td>\n",
       "      <td>1341.50</td>\n",
       "      <td>1349.97</td>\n",
       "      <td>1336.04</td>\n",
       "      <td>1344.66</td>\n",
       "      <td>0.610025</td>\n",
       "    </tr>\n",
       "    <tr>\n",
       "      <td>99</td>\n",
       "      <td>2019-12-11</td>\n",
       "      <td>1350.84</td>\n",
       "      <td>1351.20</td>\n",
       "      <td>1342.67</td>\n",
       "      <td>1345.02</td>\n",
       "      <td>0.814450</td>\n",
       "    </tr>\n",
       "  </tbody>\n",
       "</table>\n",
       "<p>100 rows × 6 columns</p>\n",
       "</div>"
      ],
      "text/plain": [
       "         date     open     high      low  adj_close**  sentiments\n",
       "0  2019-07-23  1144.00  1146.90  1131.80      1146.21    0.582987\n",
       "1  2019-07-24  1131.90  1144.00  1126.99      1137.81    0.451675\n",
       "2  2019-07-25  1137.82  1141.70  1120.92      1132.12    0.601238\n",
       "3  2019-07-26  1224.04  1265.55  1224.00      1250.41    0.368675\n",
       "4  2019-07-29  1241.05  1247.37  1228.23      1239.41    0.054550\n",
       "..        ...      ...      ...      ...          ...         ...\n",
       "95 2019-12-05  1328.00  1329.36  1316.44      1328.13    0.596413\n",
       "96 2019-12-06  1333.44  1344.00  1333.44      1340.62    0.702612\n",
       "97 2019-12-09  1338.04  1359.45  1337.84      1343.56    0.640525\n",
       "98 2019-12-10  1341.50  1349.97  1336.04      1344.66    0.610025\n",
       "99 2019-12-11  1350.84  1351.20  1342.67      1345.02    0.814450\n",
       "\n",
       "[100 rows x 6 columns]"
      ]
     },
     "execution_count": 149,
     "metadata": {},
     "output_type": "execute_result"
    }
   ],
   "source": [
    "df_linear"
   ]
  },
  {
   "cell_type": "code",
   "execution_count": 150,
   "metadata": {},
   "outputs": [],
   "source": [
    "df_final = df_linear"
   ]
  },
  {
   "cell_type": "code",
   "execution_count": 151,
   "metadata": {},
   "outputs": [
    {
     "data": {
      "text/plain": [
       "(100, 6)"
      ]
     },
     "execution_count": 151,
     "metadata": {},
     "output_type": "execute_result"
    }
   ],
   "source": [
    "df_final.shape"
   ]
  },
  {
   "cell_type": "markdown",
   "metadata": {},
   "source": [
    "# Linear Regression with Sentiments"
   ]
  },
  {
   "cell_type": "code",
   "execution_count": 152,
   "metadata": {},
   "outputs": [],
   "source": [
    "test_size = 0.2"
   ]
  },
  {
   "cell_type": "code",
   "execution_count": 153,
   "metadata": {},
   "outputs": [],
   "source": [
    "num_test_linear = int(len(df_linear) * test_size)"
   ]
  },
  {
   "cell_type": "code",
   "execution_count": 154,
   "metadata": {},
   "outputs": [],
   "source": [
    "num_train_linear = len(df_linear) - num_test_linear"
   ]
  },
  {
   "cell_type": "code",
   "execution_count": 155,
   "metadata": {},
   "outputs": [],
   "source": [
    "scaler = StandardScaler()"
   ]
  },
  {
   "cell_type": "code",
   "execution_count": 156,
   "metadata": {},
   "outputs": [],
   "source": [
    "df_linear = scaler.fit_transform(np.array(df_linear[['open','high','low','adj_close**','sentiments']]))"
   ]
  },
  {
   "cell_type": "code",
   "execution_count": 157,
   "metadata": {},
   "outputs": [],
   "source": [
    "x_linear_train = df_linear[:num_train_linear,:]"
   ]
  },
  {
   "cell_type": "code",
   "execution_count": 158,
   "metadata": {},
   "outputs": [],
   "source": [
    "x_linear_test = df_linear[num_train_linear:-1,:]"
   ]
  },
  {
   "cell_type": "code",
   "execution_count": 159,
   "metadata": {},
   "outputs": [],
   "source": [
    "y_linear_test = df_linear[num_train_linear+1:, 1]"
   ]
  },
  {
   "cell_type": "code",
   "execution_count": 160,
   "metadata": {},
   "outputs": [],
   "source": [
    "y_linear = df_linear[1:num_train_linear+1,1]"
   ]
  },
  {
   "cell_type": "code",
   "execution_count": 161,
   "metadata": {},
   "outputs": [],
   "source": [
    "ds = pd.DataFrame({'date': df[num_train_linear+1:]['date'], 'high':  df_linear[num_train_linear+1:,1]})"
   ]
  },
  {
   "cell_type": "code",
   "execution_count": 162,
   "metadata": {},
   "outputs": [],
   "source": [
    "from sklearn.linear_model import LinearRegression\n",
    "regressor = LinearRegression()"
   ]
  },
  {
   "cell_type": "code",
   "execution_count": 163,
   "metadata": {},
   "outputs": [
    {
     "data": {
      "text/plain": [
       "LinearRegression(copy_X=True, fit_intercept=True, n_jobs=None, normalize=False)"
      ]
     },
     "execution_count": 163,
     "metadata": {},
     "output_type": "execute_result"
    }
   ],
   "source": [
    "regressor.fit(x_linear_train, y_linear)"
   ]
  },
  {
   "cell_type": "code",
   "execution_count": 164,
   "metadata": {},
   "outputs": [],
   "source": [
    "y_linear_pred = regressor.predict(x_linear_test)"
   ]
  },
  {
   "cell_type": "code",
   "execution_count": 165,
   "metadata": {},
   "outputs": [],
   "source": [
    "est_linear_df = pd.DataFrame({'est': y_linear_pred.reshape(-1), \n",
    "                       'date': df[num_train_linear+1:]['date']})"
   ]
  },
  {
   "cell_type": "code",
   "execution_count": 293,
   "metadata": {},
   "outputs": [
    {
     "data": {
      "text/plain": [
       "Text(0, 0.5, 'USD')"
      ]
     },
     "execution_count": 293,
     "metadata": {},
     "output_type": "execute_result"
    },
    {
     "data": {
      "image/png": "[encoded data removed]",
      "text/plain": [
       "<Figure size 432x288 with 1 Axes>"
      ]
     },
     "metadata": {},
     "output_type": "display_data"
    }
   ],
   "source": [
    "ax = test.plot(x='date', y='high', style='g-', grid=True)\n",
    "ax = est_df.plot(x='date', y='est', style='r-', grid=True, ax=ax)\n",
    "ax.legend(['test', 'predictions'])\n",
    "ax.set_xlabel(\"date\")\n",
    "ax.set_ylabel(\"USD\")"
   ]
  },
  {
   "cell_type": "code",
   "execution_count": 167,
   "metadata": {},
   "outputs": [
    {
     "data": {
      "text/plain": [
       "0.05280657631378999"
      ]
     },
     "execution_count": 167,
     "metadata": {},
     "output_type": "execute_result"
    }
   ],
   "source": [
    "mean_squared_error(y_linear_test,y_linear_pred)"
   ]
  },
  {
   "cell_type": "markdown",
   "metadata": {},
   "source": [
    "# Recurrent Neural Network with Sentiments"
   ]
  },
  {
   "cell_type": "code",
   "execution_count": 168,
   "metadata": {},
   "outputs": [],
   "source": [
    "dfl = df_final"
   ]
  },
  {
   "cell_type": "code",
   "execution_count": 169,
   "metadata": {},
   "outputs": [
    {
     "data": {
      "text/html": [
       "<div>\n",
       "<style scoped>\n",
       "    .dataframe tbody tr th:only-of-type {\n",
       "        vertical-align: middle;\n",
       "    }\n",
       "\n",
       "    .dataframe tbody tr th {\n",
       "        vertical-align: top;\n",
       "    }\n",
       "\n",
       "    .dataframe thead th {\n",
       "        text-align: right;\n",
       "    }\n",
       "</style>\n",
       "<table border=\"1\" class=\"dataframe\">\n",
       "  <thead>\n",
       "    <tr style=\"text-align: right;\">\n",
       "      <th></th>\n",
       "      <th>date</th>\n",
       "      <th>open</th>\n",
       "      <th>high</th>\n",
       "      <th>low</th>\n",
       "      <th>adj_close**</th>\n",
       "      <th>sentiments</th>\n",
       "    </tr>\n",
       "  </thead>\n",
       "  <tbody>\n",
       "    <tr>\n",
       "      <td>0</td>\n",
       "      <td>2019-07-23</td>\n",
       "      <td>1144.00</td>\n",
       "      <td>1146.90</td>\n",
       "      <td>1131.80</td>\n",
       "      <td>1146.21</td>\n",
       "      <td>0.582987</td>\n",
       "    </tr>\n",
       "    <tr>\n",
       "      <td>1</td>\n",
       "      <td>2019-07-24</td>\n",
       "      <td>1131.90</td>\n",
       "      <td>1144.00</td>\n",
       "      <td>1126.99</td>\n",
       "      <td>1137.81</td>\n",
       "      <td>0.451675</td>\n",
       "    </tr>\n",
       "    <tr>\n",
       "      <td>2</td>\n",
       "      <td>2019-07-25</td>\n",
       "      <td>1137.82</td>\n",
       "      <td>1141.70</td>\n",
       "      <td>1120.92</td>\n",
       "      <td>1132.12</td>\n",
       "      <td>0.601238</td>\n",
       "    </tr>\n",
       "    <tr>\n",
       "      <td>3</td>\n",
       "      <td>2019-07-26</td>\n",
       "      <td>1224.04</td>\n",
       "      <td>1265.55</td>\n",
       "      <td>1224.00</td>\n",
       "      <td>1250.41</td>\n",
       "      <td>0.368675</td>\n",
       "    </tr>\n",
       "    <tr>\n",
       "      <td>4</td>\n",
       "      <td>2019-07-29</td>\n",
       "      <td>1241.05</td>\n",
       "      <td>1247.37</td>\n",
       "      <td>1228.23</td>\n",
       "      <td>1239.41</td>\n",
       "      <td>0.054550</td>\n",
       "    </tr>\n",
       "    <tr>\n",
       "      <td>...</td>\n",
       "      <td>...</td>\n",
       "      <td>...</td>\n",
       "      <td>...</td>\n",
       "      <td>...</td>\n",
       "      <td>...</td>\n",
       "      <td>...</td>\n",
       "    </tr>\n",
       "    <tr>\n",
       "      <td>95</td>\n",
       "      <td>2019-12-05</td>\n",
       "      <td>1328.00</td>\n",
       "      <td>1329.36</td>\n",
       "      <td>1316.44</td>\n",
       "      <td>1328.13</td>\n",
       "      <td>0.596413</td>\n",
       "    </tr>\n",
       "    <tr>\n",
       "      <td>96</td>\n",
       "      <td>2019-12-06</td>\n",
       "      <td>1333.44</td>\n",
       "      <td>1344.00</td>\n",
       "      <td>1333.44</td>\n",
       "      <td>1340.62</td>\n",
       "      <td>0.702612</td>\n",
       "    </tr>\n",
       "    <tr>\n",
       "      <td>97</td>\n",
       "      <td>2019-12-09</td>\n",
       "      <td>1338.04</td>\n",
       "      <td>1359.45</td>\n",
       "      <td>1337.84</td>\n",
       "      <td>1343.56</td>\n",
       "      <td>0.640525</td>\n",
       "    </tr>\n",
       "    <tr>\n",
       "      <td>98</td>\n",
       "      <td>2019-12-10</td>\n",
       "      <td>1341.50</td>\n",
       "      <td>1349.97</td>\n",
       "      <td>1336.04</td>\n",
       "      <td>1344.66</td>\n",
       "      <td>0.610025</td>\n",
       "    </tr>\n",
       "    <tr>\n",
       "      <td>99</td>\n",
       "      <td>2019-12-11</td>\n",
       "      <td>1350.84</td>\n",
       "      <td>1351.20</td>\n",
       "      <td>1342.67</td>\n",
       "      <td>1345.02</td>\n",
       "      <td>0.814450</td>\n",
       "    </tr>\n",
       "  </tbody>\n",
       "</table>\n",
       "<p>100 rows × 6 columns</p>\n",
       "</div>"
      ],
      "text/plain": [
       "         date     open     high      low  adj_close**  sentiments\n",
       "0  2019-07-23  1144.00  1146.90  1131.80      1146.21    0.582987\n",
       "1  2019-07-24  1131.90  1144.00  1126.99      1137.81    0.451675\n",
       "2  2019-07-25  1137.82  1141.70  1120.92      1132.12    0.601238\n",
       "3  2019-07-26  1224.04  1265.55  1224.00      1250.41    0.368675\n",
       "4  2019-07-29  1241.05  1247.37  1228.23      1239.41    0.054550\n",
       "..        ...      ...      ...      ...          ...         ...\n",
       "95 2019-12-05  1328.00  1329.36  1316.44      1328.13    0.596413\n",
       "96 2019-12-06  1333.44  1344.00  1333.44      1340.62    0.702612\n",
       "97 2019-12-09  1338.04  1359.45  1337.84      1343.56    0.640525\n",
       "98 2019-12-10  1341.50  1349.97  1336.04      1344.66    0.610025\n",
       "99 2019-12-11  1350.84  1351.20  1342.67      1345.02    0.814450\n",
       "\n",
       "[100 rows x 6 columns]"
      ]
     },
     "execution_count": 169,
     "metadata": {},
     "output_type": "execute_result"
    }
   ],
   "source": [
    "dfl"
   ]
  },
  {
   "cell_type": "code",
   "execution_count": 170,
   "metadata": {},
   "outputs": [],
   "source": [
    "scaler = StandardScaler()"
   ]
  },
  {
   "cell_type": "code",
   "execution_count": 251,
   "metadata": {},
   "outputs": [],
   "source": [
    "df1 = dfl.loc[:, ['open','high','low','adj_close**','sentiments']]"
   ]
  },
  {
   "cell_type": "code",
   "execution_count": 253,
   "metadata": {},
   "outputs": [],
   "source": [
    "df1 = scaler.fit_transform(df1)\n",
    "df1 = np.array(df1)"
   ]
  },
  {
   "cell_type": "code",
   "execution_count": 254,
   "metadata": {},
   "outputs": [
    {
     "data": {
      "text/plain": [
       "array([[-1.70722809e+00, -1.87027723e+00, -1.73896647e+00,\n",
       "        -1.67554845e+00,  5.19683841e-01],\n",
       "       [-1.93169641e+00, -1.92451847e+00, -1.82570929e+00,\n",
       "        -1.82912826e+00, -1.08404648e-01],\n",
       "       [-1.82187390e+00, -1.96753739e+00, -1.93517478e+00,\n",
       "        -1.93316030e+00,  6.06976482e-01],\n",
       "       [-2.22398013e-01,  3.48937638e-01, -7.62453224e-02,\n",
       "         2.29572568e-01, -5.05406796e-01],\n",
       "       [ 9.31562061e-02,  8.90117452e-03,  3.78710890e-05,\n",
       "         2.84561454e-02, -2.00791643e+00],\n",
       "       [-1.96983005e-01, -2.24897274e-01, -8.88690187e-02,\n",
       "        -2.32446704e-01, -7.10960125e-02],\n",
       "       [-2.41691157e-01, -2.41169646e-01, -3.69115077e-01,\n",
       "        -3.87123516e-01, -1.19405912e-01],\n",
       "       [-4.08094529e-01, -2.39112219e-01, -4.05904135e-01,\n",
       "        -5.27356512e-01, -4.68576476e-01],\n",
       "       [-6.54638654e-01, -7.48044682e-01, -7.08512170e-01,\n",
       "        -8.01971845e-01, -2.58595822e-01],\n",
       "       [-1.22415744e+00, -1.34020939e+00, -1.58856414e+00,\n",
       "        -1.56383742e+00, -5.31591684e-02],\n",
       "       [-1.34900634e+00, -1.25192710e+00, -1.23041184e+00,\n",
       "        -1.24150264e+00,  1.36953151e+00],\n",
       "       [-1.48461489e+00, -1.28035699e+00, -1.41760323e+00,\n",
       "        -1.16763807e+00,  4.52181518e-01],\n",
       "       [-9.86888863e-01, -7.83395007e-01, -9.95611092e-01,\n",
       "        -6.04329252e-01,  1.25790746e-01],\n",
       "       [-7.05654180e-01, -8.04530387e-01, -8.04812939e-01,\n",
       "        -9.11306045e-01,  1.26687588e-01],\n",
       "       [-1.05404385e+00, -1.15840772e+00, -1.09209220e+00,\n",
       "        -1.15447408e+00, -4.56259843e-01],\n",
       "       [-1.19781488e+00, -7.87696898e-01, -1.02374390e+00,\n",
       "        -7.42002584e-01,  2.31080020e-01],\n",
       "       [-1.10784204e+00, -1.20816003e+00, -1.22067356e+00,\n",
       "        -1.34498618e+00, -1.06563422e+00],\n",
       "       [-1.34548164e+00, -1.32898707e+00, -1.19236042e+00,\n",
       "        -1.29068475e+00,  1.47081489e+00],\n",
       "       [-1.04773647e+00, -1.20030440e+00, -1.01743205e+00,\n",
       "        -1.10163531e+00, -1.00632306e+00],\n",
       "       [-8.52207874e-01, -7.46361333e-01, -6.87773240e-01,\n",
       "        -7.20428277e-01,  9.29663210e-02],\n",
       "       [-7.56484195e-01, -9.50794696e-01, -8.31683378e-01,\n",
       "        -1.00857326e+00,  7.51248497e-01],\n",
       "       [-7.95441506e-01, -8.95805301e-01, -7.35743286e-01,\n",
       "        -8.52068117e-01, -2.00839184e-01],\n",
       "       [-7.78374494e-01, -9.14322138e-01, -8.95342875e-01,\n",
       "        -8.83515412e-01,  9.26132727e-01],\n",
       "       [-1.00247179e+00, -9.87828370e-01, -1.45132653e+00,\n",
       "        -1.58266923e+00,  1.08648811e+00],\n",
       "       [-1.46124050e+00, -1.44813076e+00, -1.35737016e+00,\n",
       "        -1.26088295e+00,  6.90442596e-01],\n",
       "       [-1.02955639e+00, -1.20628964e+00, -1.20426276e+00,\n",
       "        -1.28008043e+00, -1.00775801e+00],\n",
       "       [-1.37868811e+00, -1.31813882e+00, -1.27910324e+00,\n",
       "        -1.22193950e+00,  1.16941612e+00],\n",
       "       [-1.01861125e+00, -9.50794696e-01, -8.49536891e-01,\n",
       "        -8.22814820e-01,  1.37586920e+00],\n",
       "       [-6.96193119e-01, -9.05157239e-01, -8.01206168e-01,\n",
       "        -9.09660547e-01, -5.06602586e-01],\n",
       "       [-1.09448525e+00, -1.12230924e+00, -1.17270352e+00,\n",
       "        -1.27002461e+00, -8.36700306e-01],\n",
       "       [-1.10042160e+00, -1.18608945e+00, -1.03203947e+00,\n",
       "        -1.03197590e+00, -3.87382362e-01],\n",
       "       [-8.25494289e-01, -6.33202884e-01, -6.61804493e-01,\n",
       "        -4.84025065e-01,  1.23309192e+00],\n",
       "       [-5.17546021e-01, -6.52280837e-01, -4.63612461e-01,\n",
       "        -6.01952421e-01,  1.61120059e+00],\n",
       "       [-5.94162066e-01, -5.03023908e-01, -6.42147595e-01,\n",
       "        -6.11459743e-01, -5.06423217e-01],\n",
       "       [-7.58339306e-01, -6.90062666e-01, -6.06801245e-01,\n",
       "        -5.82389279e-01, -1.90454042e+00],\n",
       "       [-6.05107216e-01, -4.54393831e-01, -4.69383294e-01,\n",
       "        -3.23314760e-01, -2.44587437e+00],\n",
       "       [-2.17574727e-01, -9.41571815e-02, -9.39184973e-02,\n",
       "        -6.58857399e-02, -1.52774712e+00],\n",
       "       [-8.67894684e-02, -1.12486980e-01, -2.19634282e-02,\n",
       "         3.11986421e-02,  1.35320898e+00],\n",
       "       [-1.20737982e-01, -1.37176096e-01, -4.72108209e-02,\n",
       "        -1.19821508e-01,  7.19500283e-01],\n",
       "       [-1.04413014e-01, -2.22465770e-01, -8.18358165e-02,\n",
       "        -1.59130627e-01, -9.91315901e-01],\n",
       "       [-1.58025694e-01, -2.11056406e-01, -2.10958196e-01,\n",
       "        -9.95270323e-02,  7.41323444e-01],\n",
       "       [-7.36181871e-02, -4.59011818e-02,  6.83861697e-02,\n",
       "         1.56578276e-02,  9.19974410e-01],\n",
       "       [-5.39540206e-02, -6.68495227e-02, -9.28364661e-02,\n",
       "        -1.44869644e-01, -2.47474979e-01],\n",
       "       [-1.86037856e-01, -1.45966918e-01, -7.31795676e-02,\n",
       "        -6.99080683e-02,  1.86656436e-01],\n",
       "       [ 7.36775506e-02, -2.88226727e-03, -3.16456230e-01,\n",
       "        -3.49094229e-01, -9.83842216e-01],\n",
       "       [-3.74888059e-01,  2.62957791e-02, -3.27096202e-01,\n",
       "         1.58450487e-01, -7.94548722e-01],\n",
       "       [ 1.10037708e-01, -3.54270113e-02,  7.28946327e-02,\n",
       "         6.46571014e-02, -5.38171431e-01],\n",
       "       [ 1.29516363e-01, -5.37568096e-02, -2.48468608e-01,\n",
       "        -2.33360870e-01, -3.19282435e+00],\n",
       "       [-2.79349891e-01, -3.90800653e-01, -2.87241390e-01,\n",
       "        -3.44706234e-01,  2.18168396e-02],\n",
       "       [-3.15895559e-01, -2.92979382e-01, -4.44496578e-01,\n",
       "        -5.98844259e-01,  2.15295597e-01],\n",
       "       [-7.24390792e-01, -9.33587130e-01, -1.02680966e+00,\n",
       "        -1.11937013e+00,  9.95431638e-02],\n",
       "       [-1.03938848e+00, -1.08172183e+00, -1.18658958e+00,\n",
       "        -9.14597041e-01,  3.87848037e-01],\n",
       "       [-8.18815893e-01, -6.63129085e-01, -7.04364384e-01,\n",
       "        -5.27539345e-01, -1.30903720e+00],\n",
       "       [-5.86741626e-01, -5.36690884e-01, -4.41430823e-01,\n",
       "        -5.51673316e-01,  1.66841912e+00],\n",
       "       [-7.13074620e-01, -7.63381860e-01, -7.07249800e-01,\n",
       "        -8.90828737e-01, -2.19990045e+00],\n",
       "       [-6.80424684e-01, -7.20924062e-01, -5.51797997e-01,\n",
       "        -6.49854697e-01, -7.75176930e-01],\n",
       "       [-6.94709031e-01, -5.96543287e-01, -5.57027814e-01,\n",
       "        -5.33572838e-01, -5.87762534e-01],\n",
       "       [-2.56346527e-01, -3.46098389e-01, -2.61272643e-01,\n",
       "        -4.09611989e-01,  1.28484176e-02],\n",
       "       [-4.39445888e-01, -3.84628374e-01, -2.96979670e-01,\n",
       "        -3.78713193e-01, -6.72096963e-02],\n",
       "       [-2.89924019e-01,  8.15301949e-03, -1.41167189e-01,\n",
       "         9.42760654e-02, -7.67703245e-01],\n",
       "       [ 9.53823382e-02,  1.46748740e-01,  1.84343837e-01,\n",
       "         1.05794551e-01,  1.37784225e+00],\n",
       "       [ 2.76441079e-01,  3.07227995e-01,  3.91552796e-01,\n",
       "         2.78206175e-01, -2.69483777e+00],\n",
       "       [ 3.23375363e-01,  2.24369824e-01,  2.31772868e-01,\n",
       "         1.39618677e-01,  9.66789573e-01],\n",
       "       [ 3.01114042e-01,  1.44691313e-01,  2.23116619e-01,\n",
       "         1.51685662e-01, -6.99064922e-01],\n",
       "       [ 2.19303689e-01,  6.93146936e-02,  2.37183023e-01,\n",
       "         9.04365700e-02, -1.01014959e+00],\n",
       "       [ 1.17458148e-01,  2.43073700e-01,  2.54856198e-01,\n",
       "         3.89003040e-01,  1.20690413e+00],\n",
       "       [ 4.61395550e-01,  3.19946630e-01,  4.59540417e-01,\n",
       "         4.23009999e-01, -7.50543665e-01],\n",
       "       [ 2.78296189e-01,  4.24688335e-01,  3.92815165e-01,\n",
       "         4.98702907e-01, -1.46712058e+00],\n",
       "       [ 7.31314062e-01,  9.80380487e-01,  7.99117848e-01,\n",
       "         9.53408854e-01,  3.33678768e-01],\n",
       "       [ 7.45783921e-01,  6.48947806e-01,  5.22658899e-01,\n",
       "         4.52811796e-01, -6.25703230e-01],\n",
       "       [ 3.14285324e-01,  4.20199405e-01,  4.28702530e-01,\n",
       "         4.28494992e-01, -1.30706124e-01],\n",
       "       [ 4.68444969e-01,  3.88589854e-01,  4.07783262e-01,\n",
       "         4.06920685e-01,  3.66144456e-01],\n",
       "       [ 5.37455062e-01,  5.18581792e-01,  5.81990272e-01,\n",
       "         6.56122216e-01,  5.25782368e-01],\n",
       "       [ 7.49865163e-01,  8.83494410e-01,  8.67826824e-01,\n",
       "         9.78456990e-01, -6.48722180e-01],\n",
       "       [ 1.05484525e+00,  9.73273014e-01,  1.13617054e+00,\n",
       "         9.90523976e-01,  7.57466603e-01],\n",
       "       [ 9.91214980e-01,  8.76012859e-01,  9.78735013e-01,\n",
       "         9.86318814e-01, -7.53413560e-01],\n",
       "       [ 1.08063128e+00,  1.43731617e+00,  1.19045243e+00,\n",
       "         1.29823210e+00, -6.86628710e-01],\n",
       "       [ 1.28469339e+00,  1.32995593e+00,  1.37295502e+00,\n",
       "         1.34412321e+00, -1.06371806e-01],\n",
       "       [ 1.24573608e+00,  1.11355208e+00,  1.24761974e+00,\n",
       "         1.12143248e+00, -9.68177372e-01],\n",
       "       [ 1.18674358e+00,  1.18032492e+00,  1.21804423e+00,\n",
       "         1.11430199e+00,  1.00864221e+00],\n",
       "       [ 1.07673555e+00,  1.07371283e+00,  1.17728772e+00,\n",
       "         1.09967534e+00, -1.76442172e-02],\n",
       "       [ 1.14036583e+00,  1.31125205e+00,  1.21588017e+00,\n",
       "         1.34576871e+00,  1.11704054e+00],\n",
       "       [ 1.53810142e+00,  1.64567735e+00,  1.55185083e+00,\n",
       "         1.77378102e+00, -9.70987478e-01],\n",
       "       [ 1.78446004e+00,  1.65783487e+00,  1.60991983e+00,\n",
       "         1.51470650e+00, -3.81520089e-02],\n",
       "       [ 1.70060906e+00,  1.51138352e+00,  1.52516073e+00,\n",
       "         1.41890195e+00,  8.59168509e-01],\n",
       "       [ 1.40453350e+00,  1.27384430e+00,  1.13472783e+00,\n",
       "         1.19200606e+00,  4.78668257e-01],\n",
       "       [ 1.21419921e+00,  1.22876796e+00,  1.16809046e+00,\n",
       "         1.16092444e+00,  2.03636649e-01],\n",
       "       [ 1.29100076e+00,  1.15657100e+00,  1.13941663e+00,\n",
       "         1.05104174e+00,  5.99801744e-01],\n",
       "       [ 1.17153168e+00,  1.20482700e+00,  1.26060412e+00,\n",
       "         1.25855732e+00,  5.01507839e-01],\n",
       "       [ 1.36965743e+00,  1.27010352e+00,  1.38611973e+00,\n",
       "         1.38398083e+00,  1.38848478e+00],\n",
       "       [ 1.46501009e+00,  1.33668932e+00,  1.46799341e+00,\n",
       "         1.37374218e+00,  9.23501989e-01],\n",
       "       [ 1.31882741e+00,  1.18406569e+00,  1.36592181e+00,\n",
       "         1.22692719e+00, -3.34050146e-01],\n",
       "       [ 1.20529468e+00,  1.10232976e+00,  9.51684235e-01,\n",
       "         9.51946189e-01,  1.14639717e+00],\n",
       "       [ 8.07744596e-01,  9.64482192e-01,  9.15616532e-01,\n",
       "         1.04994474e+00, -8.61600574e-03],\n",
       "       [ 1.31678679e+00,  1.47584616e+00,  1.38215228e+00,\n",
       "         1.51178118e+00,  1.13653191e+00],\n",
       "       [ 1.70617439e+00,  1.54243196e+00,  1.59080395e+00,\n",
       "         1.65055151e+00,  5.83897742e-01],\n",
       "       [ 1.80709238e+00,  1.81625670e+00,  1.89737943e+00,\n",
       "         1.87891006e+00,  1.09186917e+00],\n",
       "       [ 1.89242744e+00,  2.10523158e+00,  1.97672838e+00,\n",
       "         1.93266300e+00,  7.94894818e-01],\n",
       "       [ 1.95661425e+00,  1.92791884e+00,  1.94426744e+00,\n",
       "         1.95277464e+00,  6.49008486e-01],\n",
       "       [ 2.12988153e+00,  1.95092461e+00,  2.06383188e+00,\n",
       "         1.95935663e+00,  1.62680564e+00]])"
      ]
     },
     "execution_count": 254,
     "metadata": {},
     "output_type": "execute_result"
    }
   ],
   "source": [
    "df1"
   ]
  },
  {
   "cell_type": "code",
   "execution_count": 255,
   "metadata": {},
   "outputs": [],
   "source": [
    "def get_x_y(data, N, offset):\n",
    "    X, y = [], []\n",
    "    for i in range(offset, len(data)):\n",
    "        X.append(data[i-N:i])\n",
    "        y.append(data[i,1])\n",
    "    X = np.array(X)\n",
    "    y = np.array(y)\n",
    "\n",
    "    return X, y"
   ]
  },
  {
   "cell_type": "code",
   "execution_count": 279,
   "metadata": {},
   "outputs": [],
   "source": [
    "X, y = get_x_y(df1, 13, 13)"
   ]
  },
  {
   "cell_type": "code",
   "execution_count": 280,
   "metadata": {},
   "outputs": [
    {
     "data": {
      "text/plain": [
       "(87, 13, 5)"
      ]
     },
     "execution_count": 280,
     "metadata": {},
     "output_type": "execute_result"
    }
   ],
   "source": [
    "X.shape"
   ]
  },
  {
   "cell_type": "code",
   "execution_count": 281,
   "metadata": {},
   "outputs": [],
   "source": [
    "X_train = []\n",
    "for i in range(70):\n",
    "    X_train.append(X[i])"
   ]
  },
  {
   "cell_type": "code",
   "execution_count": 282,
   "metadata": {},
   "outputs": [],
   "source": [
    "y_train = y[:70]"
   ]
  },
  {
   "cell_type": "code",
   "execution_count": 283,
   "metadata": {},
   "outputs": [],
   "source": [
    "X_test = []\n",
    "for i in range(70, len(X)):\n",
    "    X_test.append(X[i])"
   ]
  },
  {
   "cell_type": "code",
   "execution_count": 284,
   "metadata": {},
   "outputs": [],
   "source": [
    "y_test = y[70:]"
   ]
  },
  {
   "cell_type": "code",
   "execution_count": 285,
   "metadata": {},
   "outputs": [],
   "source": [
    "X_train = np.array(X_train)\n",
    "X_test = np.array(X_test)"
   ]
  },
  {
   "cell_type": "code",
   "execution_count": 286,
   "metadata": {},
   "outputs": [],
   "source": [
    "model = Sequential()\n",
    "model.add(LSTM(units=128, return_sequences=True, input_shape=(X_train.shape[1],5)))\n",
    "model.add(Dropout(0.5)) # Add dropout with a probability of 0.5\n",
    "model.add(LSTM(units=64))\n",
    "model.add(Dropout(0.5)) # Add dropout with a probability of 0.5\n",
    "model.add(Dense(1))"
   ]
  },
  {
   "cell_type": "code",
   "execution_count": 287,
   "metadata": {},
   "outputs": [],
   "source": [
    "model.compile(loss='mean_squared_error', optimizer='RMSprop')"
   ]
  },
  {
   "cell_type": "code",
   "execution_count": 288,
   "metadata": {},
   "outputs": [
    {
     "name": "stdout",
     "output_type": "stream",
     "text": [
      "Epoch 1/75\n",
      " - 7s - loss: 0.2657\n",
      "Epoch 2/75\n",
      " - 1s - loss: 0.1449\n",
      "Epoch 3/75\n",
      " - 1s - loss: 0.1374\n",
      "Epoch 4/75\n",
      " - 1s - loss: 0.1375\n",
      "Epoch 5/75\n",
      " - 1s - loss: 0.1179\n",
      "Epoch 6/75\n",
      " - 1s - loss: 0.1070\n",
      "Epoch 7/75\n",
      " - 1s - loss: 0.1190\n",
      "Epoch 8/75\n",
      " - 1s - loss: 0.1156\n",
      "Epoch 9/75\n",
      " - 1s - loss: 0.0837\n",
      "Epoch 10/75\n",
      " - 1s - loss: 0.1153\n",
      "Epoch 11/75\n",
      " - 1s - loss: 0.1167\n",
      "Epoch 12/75\n",
      " - 1s - loss: 0.0854\n",
      "Epoch 13/75\n",
      " - 1s - loss: 0.1225\n",
      "Epoch 14/75\n",
      " - 1s - loss: 0.0807\n",
      "Epoch 15/75\n",
      " - 1s - loss: 0.0967\n",
      "Epoch 16/75\n",
      " - 1s - loss: 0.1092\n",
      "Epoch 17/75\n",
      " - 1s - loss: 0.0944\n",
      "Epoch 18/75\n",
      " - 1s - loss: 0.0935\n",
      "Epoch 19/75\n",
      " - 1s - loss: 0.1003\n",
      "Epoch 20/75\n",
      " - 1s - loss: 0.0651\n",
      "Epoch 21/75\n",
      " - 1s - loss: 0.1049\n",
      "Epoch 22/75\n",
      " - 1s - loss: 0.0852\n",
      "Epoch 23/75\n",
      " - 1s - loss: 0.0759\n",
      "Epoch 24/75\n",
      " - 1s - loss: 0.0915\n",
      "Epoch 25/75\n",
      " - 1s - loss: 0.0847\n",
      "Epoch 26/75\n",
      " - 1s - loss: 0.0756\n",
      "Epoch 27/75\n",
      " - 1s - loss: 0.0744\n",
      "Epoch 28/75\n",
      " - 1s - loss: 0.0810\n",
      "Epoch 29/75\n",
      " - 1s - loss: 0.0921\n",
      "Epoch 30/75\n",
      " - 1s - loss: 0.0868\n",
      "Epoch 31/75\n",
      " - 1s - loss: 0.1012\n",
      "Epoch 32/75\n",
      " - 1s - loss: 0.0660\n",
      "Epoch 33/75\n",
      " - 1s - loss: 0.0851\n",
      "Epoch 34/75\n",
      " - 1s - loss: 0.0847\n",
      "Epoch 35/75\n",
      " - 1s - loss: 0.0813\n",
      "Epoch 36/75\n",
      " - 1s - loss: 0.0784\n",
      "Epoch 37/75\n",
      " - 1s - loss: 0.0528\n",
      "Epoch 38/75\n",
      " - 1s - loss: 0.0924\n",
      "Epoch 39/75\n",
      " - 1s - loss: 0.0845\n",
      "Epoch 40/75\n",
      " - 1s - loss: 0.0687\n",
      "Epoch 41/75\n",
      " - 1s - loss: 0.0699\n",
      "Epoch 42/75\n",
      " - 1s - loss: 0.0773\n",
      "Epoch 43/75\n",
      " - 1s - loss: 0.0824\n",
      "Epoch 44/75\n",
      " - 1s - loss: 0.0790\n",
      "Epoch 45/75\n",
      " - 1s - loss: 0.0570\n",
      "Epoch 46/75\n",
      " - 1s - loss: 0.0707\n",
      "Epoch 47/75\n",
      " - 1s - loss: 0.0600\n",
      "Epoch 48/75\n",
      " - 1s - loss: 0.0538\n",
      "Epoch 49/75\n",
      " - 1s - loss: 0.0937\n",
      "Epoch 50/75\n",
      " - 1s - loss: 0.0752\n",
      "Epoch 51/75\n",
      " - 1s - loss: 0.0704\n",
      "Epoch 52/75\n",
      " - 1s - loss: 0.0775\n",
      "Epoch 53/75\n",
      " - 1s - loss: 0.0586\n",
      "Epoch 54/75\n",
      " - 1s - loss: 0.0638\n",
      "Epoch 55/75\n",
      " - 1s - loss: 0.0721\n",
      "Epoch 56/75\n",
      " - 1s - loss: 0.0798\n",
      "Epoch 57/75\n",
      " - 1s - loss: 0.0643\n",
      "Epoch 58/75\n",
      " - 1s - loss: 0.0843\n",
      "Epoch 59/75\n",
      " - 1s - loss: 0.0584\n",
      "Epoch 60/75\n",
      " - 1s - loss: 0.0655\n",
      "Epoch 61/75\n",
      " - 1s - loss: 0.0668\n",
      "Epoch 62/75\n",
      " - 1s - loss: 0.0512\n",
      "Epoch 63/75\n",
      " - 1s - loss: 0.0529\n",
      "Epoch 64/75\n",
      " - 1s - loss: 0.0602\n",
      "Epoch 65/75\n",
      " - 1s - loss: 0.0722\n",
      "Epoch 66/75\n",
      " - 1s - loss: 0.0601\n",
      "Epoch 67/75\n",
      " - 1s - loss: 0.0668\n",
      "Epoch 68/75\n",
      " - 1s - loss: 0.0635\n",
      "Epoch 69/75\n",
      " - 1s - loss: 0.0686\n",
      "Epoch 70/75\n",
      " - 1s - loss: 0.0603\n",
      "Epoch 71/75\n",
      " - 1s - loss: 0.0586\n",
      "Epoch 72/75\n",
      " - 1s - loss: 0.0767\n",
      "Epoch 73/75\n",
      " - 1s - loss: 0.0523\n",
      "Epoch 74/75\n",
      " - 1s - loss: 0.0615\n",
      "Epoch 75/75\n",
      " - 1s - loss: 0.0515\n"
     ]
    },
    {
     "data": {
      "text/plain": [
       "<keras.callbacks.callbacks.History at 0x1c5d5041d0>"
      ]
     },
     "execution_count": 288,
     "metadata": {},
     "output_type": "execute_result"
    }
   ],
   "source": [
    "model.fit(X_train, y_train, epochs=75, batch_size=8, verbose=2)"
   ]
  },
  {
   "cell_type": "code",
   "execution_count": 289,
   "metadata": {},
   "outputs": [],
   "source": [
    "est = model.predict(X_test)"
   ]
  },
  {
   "cell_type": "code",
   "execution_count": 290,
   "metadata": {},
   "outputs": [],
   "source": [
    "est_df = pd.DataFrame({'est': est.reshape(-1), \n",
    "                       'date': df[-17:]['date']})"
   ]
  },
  {
   "cell_type": "code",
   "execution_count": 291,
   "metadata": {},
   "outputs": [],
   "source": [
    "test = pd.DataFrame(columns=['date','high'])"
   ]
  },
  {
   "cell_type": "code",
   "execution_count": 292,
   "metadata": {},
   "outputs": [],
   "source": [
    "test['date'] = df['date'][-17:]\n",
    "test['high'] = y_test"
   ]
  },
  {
   "cell_type": "code",
   "execution_count": 294,
   "metadata": {},
   "outputs": [
    {
     "data": {
      "text/plain": [
       "Text(0, 0.5, 'USD')"
      ]
     },
     "execution_count": 294,
     "metadata": {},
     "output_type": "execute_result"
    },
    {
     "data": {
      "image/png": "[encoded data removed]",
      "text/plain": [
       "<Figure size 432x288 with 1 Axes>"
      ]
     },
     "metadata": {},
     "output_type": "display_data"
    }
   ],
   "source": [
    "ax = ds.plot(x='date', y='high', style='g-', grid=True)\n",
    "ax = est_linear_df.plot(x='date', y='est', style='r-', grid=True, ax=ax)\n",
    "ax.legend(['test', 'predictions'])\n",
    "ax.set_xlabel(\"date\")\n",
    "ax.set_ylabel(\"USD\")"
   ]
  },
  {
   "cell_type": "code",
   "execution_count": null,
   "metadata": {},
   "outputs": [],
   "source": []
  }
 ],
 "metadata": {
  "kernelspec": {
   "display_name": "Python 3",
   "language": "python",
   "name": "python3"
  },
  "language_info": {
   "codemirror_mode": {
    "name": "ipython",
    "version": 3
   },
   "file_extension": ".py",
   "mimetype": "text/x-python",
   "name": "python",
   "nbconvert_exporter": "python",
   "pygments_lexer": "ipython3",
   "version": "3.7.4"
  }
 },
 "nbformat": 4,
 "nbformat_minor": 2
}
