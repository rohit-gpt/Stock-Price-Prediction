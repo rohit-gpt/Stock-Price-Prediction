{
 "cells": [
  {
   "cell_type": "code",
   "execution_count": 1,
   "metadata": {},
   "outputs": [],
   "source": [
    "import pandas as pd"
   ]
  },
  {
   "cell_type": "code",
   "execution_count": 85,
   "metadata": {},
   "outputs": [],
   "source": [
    "dataset = pd.read_csv(\"google.csv\", index_col=[0])"
   ]
  },
  {
   "cell_type": "code",
   "execution_count": 3,
   "metadata": {},
   "outputs": [
    {
     "data": {
      "text/html": [
       "<div>\n",
       "<style scoped>\n",
       "    .dataframe tbody tr th:only-of-type {\n",
       "        vertical-align: middle;\n",
       "    }\n",
       "\n",
       "    .dataframe tbody tr th {\n",
       "        vertical-align: top;\n",
       "    }\n",
       "\n",
       "    .dataframe thead th {\n",
       "        text-align: right;\n",
       "    }\n",
       "</style>\n",
       "<table border=\"1\" class=\"dataframe\">\n",
       "  <thead>\n",
       "    <tr style=\"text-align: right;\">\n",
       "      <th></th>\n",
       "      <th>Date</th>\n",
       "      <th>Open</th>\n",
       "      <th>High</th>\n",
       "      <th>Low</th>\n",
       "      <th>Close</th>\n",
       "      <th>Adj Close</th>\n",
       "      <th>Volume</th>\n",
       "    </tr>\n",
       "  </thead>\n",
       "  <tbody>\n",
       "    <tr>\n",
       "      <th>0</th>\n",
       "      <td>2015-11-24</td>\n",
       "      <td>106.570000</td>\n",
       "      <td>107.589996</td>\n",
       "      <td>106.309998</td>\n",
       "      <td>107.389999</td>\n",
       "      <td>99.459969</td>\n",
       "      <td>2032600</td>\n",
       "    </tr>\n",
       "    <tr>\n",
       "      <th>1</th>\n",
       "      <td>2015-11-25</td>\n",
       "      <td>107.510002</td>\n",
       "      <td>107.660004</td>\n",
       "      <td>107.250000</td>\n",
       "      <td>107.470001</td>\n",
       "      <td>99.534058</td>\n",
       "      <td>1820300</td>\n",
       "    </tr>\n",
       "    <tr>\n",
       "      <th>2</th>\n",
       "      <td>2015-11-27</td>\n",
       "      <td>107.589996</td>\n",
       "      <td>107.760002</td>\n",
       "      <td>107.220001</td>\n",
       "      <td>107.629997</td>\n",
       "      <td>99.682251</td>\n",
       "      <td>552400</td>\n",
       "    </tr>\n",
       "    <tr>\n",
       "      <th>3</th>\n",
       "      <td>2015-11-30</td>\n",
       "      <td>107.779999</td>\n",
       "      <td>107.849998</td>\n",
       "      <td>107.110001</td>\n",
       "      <td>107.169998</td>\n",
       "      <td>99.256210</td>\n",
       "      <td>3618100</td>\n",
       "    </tr>\n",
       "    <tr>\n",
       "      <th>4</th>\n",
       "      <td>2015-12-01</td>\n",
       "      <td>107.589996</td>\n",
       "      <td>108.209999</td>\n",
       "      <td>107.370003</td>\n",
       "      <td>108.180000</td>\n",
       "      <td>100.191628</td>\n",
       "      <td>2443600</td>\n",
       "    </tr>\n",
       "  </tbody>\n",
       "</table>\n",
       "</div>"
      ],
      "text/plain": [
       "         Date        Open        High         Low       Close   Adj Close  \\\n",
       "0  2015-11-24  106.570000  107.589996  106.309998  107.389999   99.459969   \n",
       "1  2015-11-25  107.510002  107.660004  107.250000  107.470001   99.534058   \n",
       "2  2015-11-27  107.589996  107.760002  107.220001  107.629997   99.682251   \n",
       "3  2015-11-30  107.779999  107.849998  107.110001  107.169998   99.256210   \n",
       "4  2015-12-01  107.589996  108.209999  107.370003  108.180000  100.191628   \n",
       "\n",
       "    Volume  \n",
       "0  2032600  \n",
       "1  1820300  \n",
       "2   552400  \n",
       "3  3618100  \n",
       "4  2443600  "
      ]
     },
     "execution_count": 3,
     "metadata": {},
     "output_type": "execute_result"
    }
   ],
   "source": [
    "dataset.head()"
   ]
  },
  {
   "cell_type": "code",
   "execution_count": 86,
   "metadata": {},
   "outputs": [
    {
     "data": {
      "text/html": [
       "<div>\n",
       "<style scoped>\n",
       "    .dataframe tbody tr th:only-of-type {\n",
       "        vertical-align: middle;\n",
       "    }\n",
       "\n",
       "    .dataframe tbody tr th {\n",
       "        vertical-align: top;\n",
       "    }\n",
       "\n",
       "    .dataframe thead th {\n",
       "        text-align: right;\n",
       "    }\n",
       "</style>\n",
       "<table border=\"1\" class=\"dataframe\">\n",
       "  <thead>\n",
       "    <tr style=\"text-align: right;\">\n",
       "      <th></th>\n",
       "      <th>Date</th>\n",
       "      <th>Open</th>\n",
       "      <th>High</th>\n",
       "      <th>Low</th>\n",
       "      <th>Close*</th>\n",
       "      <th>Adj Close**</th>\n",
       "      <th>Volume</th>\n",
       "    </tr>\n",
       "  </thead>\n",
       "  <tbody>\n",
       "    <tr>\n",
       "      <th>99</th>\n",
       "      <td>May 10, 2019</td>\n",
       "      <td>1163.59</td>\n",
       "      <td>1172.60</td>\n",
       "      <td>1142.50</td>\n",
       "      <td>1164.27</td>\n",
       "      <td>1164.27</td>\n",
       "      <td>1314500.0</td>\n",
       "    </tr>\n",
       "    <tr>\n",
       "      <th>98</th>\n",
       "      <td>May 13, 2019</td>\n",
       "      <td>1141.96</td>\n",
       "      <td>1147.94</td>\n",
       "      <td>1122.11</td>\n",
       "      <td>1132.03</td>\n",
       "      <td>1132.03</td>\n",
       "      <td>1860600.0</td>\n",
       "    </tr>\n",
       "    <tr>\n",
       "      <th>97</th>\n",
       "      <td>May 14, 2019</td>\n",
       "      <td>1137.21</td>\n",
       "      <td>1140.42</td>\n",
       "      <td>1119.55</td>\n",
       "      <td>1120.44</td>\n",
       "      <td>1120.44</td>\n",
       "      <td>1836600.0</td>\n",
       "    </tr>\n",
       "    <tr>\n",
       "      <th>96</th>\n",
       "      <td>May 15, 2019</td>\n",
       "      <td>1117.87</td>\n",
       "      <td>1171.33</td>\n",
       "      <td>1116.67</td>\n",
       "      <td>1164.21</td>\n",
       "      <td>1164.21</td>\n",
       "      <td>2289300.0</td>\n",
       "    </tr>\n",
       "    <tr>\n",
       "      <th>95</th>\n",
       "      <td>May 16, 2019</td>\n",
       "      <td>1164.51</td>\n",
       "      <td>1188.16</td>\n",
       "      <td>1162.84</td>\n",
       "      <td>1178.98</td>\n",
       "      <td>1178.98</td>\n",
       "      <td>1531400.0</td>\n",
       "    </tr>\n",
       "  </tbody>\n",
       "</table>\n",
       "</div>"
      ],
      "text/plain": [
       "            Date     Open     High      Low   Close*  Adj Close**     Volume\n",
       "99  May 10, 2019  1163.59  1172.60  1142.50  1164.27      1164.27  1314500.0\n",
       "98  May 13, 2019  1141.96  1147.94  1122.11  1132.03      1132.03  1860600.0\n",
       "97  May 14, 2019  1137.21  1140.42  1119.55  1120.44      1120.44  1836600.0\n",
       "96  May 15, 2019  1117.87  1171.33  1116.67  1164.21      1164.21  2289300.0\n",
       "95  May 16, 2019  1164.51  1188.16  1162.84  1178.98      1178.98  1531400.0"
      ]
     },
     "execution_count": 86,
     "metadata": {},
     "output_type": "execute_result"
    }
   ],
   "source": [
    "dataset.head()"
   ]
  },
  {
   "cell_type": "code",
   "execution_count": null,
   "metadata": {},
   "outputs": [],
   "source": []
  },
  {
   "cell_type": "code",
   "execution_count": null,
   "metadata": {},
   "outputs": [],
   "source": []
  },
  {
   "cell_type": "code",
   "execution_count": 4,
   "metadata": {},
   "outputs": [
    {
     "name": "stderr",
     "output_type": "stream",
     "text": [
      "/anaconda3/lib/python3.5/importlib/_bootstrap.py:222: RuntimeWarning: compiletime version 3.6 of module 'tensorflow.python.framework.fast_tensor_util' does not match runtime version 3.5\n",
      "  return f(*args, **kwds)\n",
      "Using TensorFlow backend.\n"
     ]
    }
   ],
   "source": [
    "%matplotlib inline\n",
    "\n",
    "import math\n",
    "import matplotlib\n",
    "import numpy as np\n",
    "import pandas as pd\n",
    "import seaborn as sns\n",
    "import time\n",
    "\n",
    "from datetime import date\n",
    "from matplotlib import pyplot as plt\n",
    "from numpy.random import seed\n",
    "from pylab import rcParams\n",
    "from sklearn.metrics import mean_squared_error\n",
    "from tqdm import tqdm_notebook\n",
    "from sklearn.preprocessing import StandardScaler\n",
    "from tensorflow import set_random_seed\n",
    "from keras.models import Sequential\n",
    "from keras.layers import Dense, Dropout, LSTM\n",
    "from keras.utils import plot_model"
   ]
  },
  {
   "cell_type": "code",
   "execution_count": 89,
   "metadata": {},
   "outputs": [],
   "source": [
    "stk_path = \"google.csv\"\n",
    "test_size = 0.2\n",
    "cv_size = 0.2\n",
    "\n",
    "N = 9\n",
    "\n",
    "lstm_units = 50\n",
    "dropout_prob = 1\n",
    "optimizer = 'adam'\n",
    "epochs = 1\n",
    "batch_size = 1\n",
    "\n",
    "model_seed = 100\n",
    "\n",
    "fontsize = 14\n",
    "ticklabelsize = 14"
   ]
  },
  {
   "cell_type": "code",
   "execution_count": 90,
   "metadata": {},
   "outputs": [],
   "source": [
    "seed(101)\n",
    "set_random_seed(model_seed)"
   ]
  },
  {
   "cell_type": "code",
   "execution_count": 91,
   "metadata": {},
   "outputs": [],
   "source": [
    "def get_mape(y_true, y_pred):\n",
    "    # Mean Absolute Percentage Error\n",
    "    \n",
    "    y_true, y_pred = np.array(y_true), np.array(y_pred)\n",
    "    \n",
    "    return np.mean(np.abs((y_true - y_pred) / y_true)) * 100"
   ]
  },
  {
   "cell_type": "code",
   "execution_count": 92,
   "metadata": {},
   "outputs": [],
   "source": [
    "def get_x_y(data, N, offset):\n",
    "    # Split data into x (features) and y (target)\n",
    "    \n",
    "    x, y = [], []\n",
    "    for i in range(offset, len(data)):\n",
    "        x.append(data[i-N:i])\n",
    "        y.append(data[i])\n",
    "    \n",
    "    x = np.array(x)\n",
    "    y = np.array(y)\n",
    "    \n",
    "    return x, y"
   ]
  },
  {
   "cell_type": "code",
   "execution_count": 93,
   "metadata": {},
   "outputs": [],
   "source": [
    "def get_x_scaled_y(data, N, offset):\n",
    "    \"\"\"\n",
    "    Split data into x (features) and y (target)\n",
    "    We scale x to have mean 0 and std dev 1, and return this.\n",
    "    We do not scale y here.\n",
    "    Inputs\n",
    "        data     : pandas series to extract x and y\n",
    "        N\n",
    "        offset\n",
    "    Outputs\n",
    "        x_scaled : features used to predict y. Scaled such that each element has mean 0 and std dev 1\n",
    "        y        : target values. Not scaled\n",
    "        mu_list  : list of the means. Same length as x_scaled and y\n",
    "        std_list : list of the std devs. Same length as x_scaled and y\n",
    "    \"\"\"\n",
    "    \n",
    "    x_scaled, y, mu_list, std_list = [], [], [], []\n",
    "    for i in range(offset, len(data)):\n",
    "        mu_list.append(np.mean(data[i-N:i]))\n",
    "        std_list.append(np.std(data[i-N:i]))\n",
    "        x_scaled.append((data[i-N:i] - mu_list[i-offset]) / std_list[i-offset])\n",
    "        y.append(data[i])\n",
    "    \n",
    "    x_scaled = np.array(x_scaled)\n",
    "    y = np.array(y)\n",
    "    \n",
    "    return x_scaled, y, mu_list, std_list"
   ]
  },
  {
   "cell_type": "code",
   "execution_count": 94,
   "metadata": {},
   "outputs": [],
   "source": [
    "def train_pred_eval_model(x_train_scaled, \\\n",
    "                          y_train_scaled, \\\n",
    "                          x_cv_scaled, \\\n",
    "                          y_cv, \\\n",
    "                          mu_cv_list, \\\n",
    "                          std_cv_list, \\\n",
    "                          lstm_units=50, \\\n",
    "                          dropout_prob=0.5, \\\n",
    "                          optimizer='adam', \\\n",
    "                          epochs=1, \\\n",
    "                          batch_size=1):\n",
    "    '''\n",
    "    Train model, do prediction, scale back to original range and do evaluation\n",
    "    Use LSTM here.\n",
    "    Returns rmse, mape and predicted values\n",
    "    Inputs\n",
    "        x_train_scaled  : e.g. x_train_scaled.shape=(451, 9, 1). Here we are using the past 9 values to predict the next value\n",
    "        y_train_scaled  : e.g. y_train_scaled.shape=(451, 1)\n",
    "        x_cv_scaled     : use this to do predictions \n",
    "        y_cv            : actual value of the predictions\n",
    "        mu_cv_list      : list of the means. Same length as x_scaled and y\n",
    "        std_cv_list     : list of the std devs. Same length as x_scaled and y \n",
    "        lstm_units      : lstm param\n",
    "        dropout_prob    : lstm param\n",
    "        optimizer       : lstm param\n",
    "        epochs          : lstm param\n",
    "        batch_size      : lstm param\n",
    "    Outputs\n",
    "        rmse            : root mean square error\n",
    "        mape            : mean absolute percentage error\n",
    "        est             : predictions\n",
    "    '''\n",
    "    \n",
    "    model = Sequential()\n",
    "    model.add(LSTM(units=lstm_units, return_sequences=True, input_shape=(x_train_scaled.shape[1], 1)))\n",
    "    model.add(Dropout(dropout_prob))\n",
    "    model.add(LSTM(units=lstm_units))\n",
    "    model.add(Dropout(dropout_prob))\n",
    "    model.add(Dense(1))\n",
    "    \n",
    "    model.compile(loss='mean_squared_error', optimizer=optimizer)\n",
    "    model.fit(x_train_scaled, y_train_scaled, epochs=epochs, batch_size=batch_size, verbose=0)\n",
    "    \n",
    "    #Do Prediction\n",
    "    est_scaled = model.predict(x_cv_scaled)\n",
    "    est = (est_scaled* np.array(std_cv_list).reshape(-1, 1)) + np.array(mu_cv_list).reshape(-1, 1)\n",
    "    \n",
    "    rmse = math.sqrt(mean_squared_error(y_cv, est))\n",
    "    mape = get_mape(y_cv, est)\n",
    "    \n",
    "    return rmse, mape, est"
   ]
  },
  {
   "cell_type": "code",
   "execution_count": 95,
   "metadata": {},
   "outputs": [],
   "source": [
    "df = pd.read_csv(stk_path, sep=\",\", index_col=[0])"
   ]
  },
  {
   "cell_type": "code",
   "execution_count": 96,
   "metadata": {},
   "outputs": [
    {
     "data": {
      "text/html": [
       "<div>\n",
       "<style scoped>\n",
       "    .dataframe tbody tr th:only-of-type {\n",
       "        vertical-align: middle;\n",
       "    }\n",
       "\n",
       "    .dataframe tbody tr th {\n",
       "        vertical-align: top;\n",
       "    }\n",
       "\n",
       "    .dataframe thead th {\n",
       "        text-align: right;\n",
       "    }\n",
       "</style>\n",
       "<table border=\"1\" class=\"dataframe\">\n",
       "  <thead>\n",
       "    <tr style=\"text-align: right;\">\n",
       "      <th></th>\n",
       "      <th>Date</th>\n",
       "      <th>Open</th>\n",
       "      <th>High</th>\n",
       "      <th>Low</th>\n",
       "      <th>Close*</th>\n",
       "      <th>Adj Close**</th>\n",
       "      <th>Volume</th>\n",
       "    </tr>\n",
       "  </thead>\n",
       "  <tbody>\n",
       "    <tr>\n",
       "      <th>99</th>\n",
       "      <td>May 10, 2019</td>\n",
       "      <td>1163.59</td>\n",
       "      <td>1172.60</td>\n",
       "      <td>1142.50</td>\n",
       "      <td>1164.27</td>\n",
       "      <td>1164.27</td>\n",
       "      <td>1314500.0</td>\n",
       "    </tr>\n",
       "    <tr>\n",
       "      <th>98</th>\n",
       "      <td>May 13, 2019</td>\n",
       "      <td>1141.96</td>\n",
       "      <td>1147.94</td>\n",
       "      <td>1122.11</td>\n",
       "      <td>1132.03</td>\n",
       "      <td>1132.03</td>\n",
       "      <td>1860600.0</td>\n",
       "    </tr>\n",
       "    <tr>\n",
       "      <th>97</th>\n",
       "      <td>May 14, 2019</td>\n",
       "      <td>1137.21</td>\n",
       "      <td>1140.42</td>\n",
       "      <td>1119.55</td>\n",
       "      <td>1120.44</td>\n",
       "      <td>1120.44</td>\n",
       "      <td>1836600.0</td>\n",
       "    </tr>\n",
       "    <tr>\n",
       "      <th>96</th>\n",
       "      <td>May 15, 2019</td>\n",
       "      <td>1117.87</td>\n",
       "      <td>1171.33</td>\n",
       "      <td>1116.67</td>\n",
       "      <td>1164.21</td>\n",
       "      <td>1164.21</td>\n",
       "      <td>2289300.0</td>\n",
       "    </tr>\n",
       "    <tr>\n",
       "      <th>95</th>\n",
       "      <td>May 16, 2019</td>\n",
       "      <td>1164.51</td>\n",
       "      <td>1188.16</td>\n",
       "      <td>1162.84</td>\n",
       "      <td>1178.98</td>\n",
       "      <td>1178.98</td>\n",
       "      <td>1531400.0</td>\n",
       "    </tr>\n",
       "  </tbody>\n",
       "</table>\n",
       "</div>"
      ],
      "text/plain": [
       "            Date     Open     High      Low   Close*  Adj Close**     Volume\n",
       "99  May 10, 2019  1163.59  1172.60  1142.50  1164.27      1164.27  1314500.0\n",
       "98  May 13, 2019  1141.96  1147.94  1122.11  1132.03      1132.03  1860600.0\n",
       "97  May 14, 2019  1137.21  1140.42  1119.55  1120.44      1120.44  1836600.0\n",
       "96  May 15, 2019  1117.87  1171.33  1116.67  1164.21      1164.21  2289300.0\n",
       "95  May 16, 2019  1164.51  1188.16  1162.84  1178.98      1178.98  1531400.0"
      ]
     },
     "execution_count": 96,
     "metadata": {},
     "output_type": "execute_result"
    }
   ],
   "source": [
    "df.head()"
   ]
  },
  {
   "cell_type": "code",
   "execution_count": 97,
   "metadata": {},
   "outputs": [
    {
     "ename": "ValueError",
     "evalue": "time data May 10, 2019 doesn't match format specified",
     "output_type": "error",
     "traceback": [
      "\u001b[0;31m---------------------------------------------------------------------------\u001b[0m",
      "\u001b[0;31mTypeError\u001b[0m                                 Traceback (most recent call last)",
      "\u001b[0;32m/anaconda3/lib/python3.5/site-packages/pandas/core/tools/datetimes.py\u001b[0m in \u001b[0;36m_convert_listlike\u001b[0;34m(arg, box, format, name, tz)\u001b[0m\n\u001b[1;32m    376\u001b[0m             \u001b[0;32mtry\u001b[0m\u001b[0;34m:\u001b[0m\u001b[0;34m\u001b[0m\u001b[0m\n\u001b[0;32m--> 377\u001b[0;31m                 \u001b[0mvalues\u001b[0m\u001b[0;34m,\u001b[0m \u001b[0mtz\u001b[0m \u001b[0;34m=\u001b[0m \u001b[0mconversion\u001b[0m\u001b[0;34m.\u001b[0m\u001b[0mdatetime_to_datetime64\u001b[0m\u001b[0;34m(\u001b[0m\u001b[0marg\u001b[0m\u001b[0;34m)\u001b[0m\u001b[0;34m\u001b[0m\u001b[0m\n\u001b[0m\u001b[1;32m    378\u001b[0m                 \u001b[0;32mreturn\u001b[0m \u001b[0mDatetimeIndex\u001b[0m\u001b[0;34m.\u001b[0m\u001b[0m_simple_new\u001b[0m\u001b[0;34m(\u001b[0m\u001b[0mvalues\u001b[0m\u001b[0;34m,\u001b[0m \u001b[0mname\u001b[0m\u001b[0;34m=\u001b[0m\u001b[0mname\u001b[0m\u001b[0;34m,\u001b[0m \u001b[0mtz\u001b[0m\u001b[0;34m=\u001b[0m\u001b[0mtz\u001b[0m\u001b[0;34m)\u001b[0m\u001b[0;34m\u001b[0m\u001b[0m\n",
      "\u001b[0;32mpandas/_libs/tslibs/conversion.pyx\u001b[0m in \u001b[0;36mpandas._libs.tslibs.conversion.datetime_to_datetime64\u001b[0;34m()\u001b[0m\n",
      "\u001b[0;31mTypeError\u001b[0m: Unrecognized value type: <class 'str'>",
      "\nDuring handling of the above exception, another exception occurred:\n",
      "\u001b[0;31mValueError\u001b[0m                                Traceback (most recent call last)",
      "\u001b[0;32m<ipython-input-97-f0e7ebe0e827>\u001b[0m in \u001b[0;36m<module>\u001b[0;34m()\u001b[0m\n\u001b[1;32m      1\u001b[0m \u001b[0;31m# Convert Date column to datetime\u001b[0m\u001b[0;34m\u001b[0m\u001b[0;34m\u001b[0m\u001b[0m\n\u001b[0;32m----> 2\u001b[0;31m \u001b[0mdf\u001b[0m\u001b[0;34m.\u001b[0m\u001b[0mloc\u001b[0m\u001b[0;34m[\u001b[0m\u001b[0;34m:\u001b[0m\u001b[0;34m,\u001b[0m \u001b[0;34m'Date'\u001b[0m\u001b[0;34m]\u001b[0m \u001b[0;34m=\u001b[0m \u001b[0mpd\u001b[0m\u001b[0;34m.\u001b[0m\u001b[0mto_datetime\u001b[0m\u001b[0;34m(\u001b[0m\u001b[0mdf\u001b[0m\u001b[0;34m[\u001b[0m\u001b[0;34m'Date'\u001b[0m\u001b[0;34m]\u001b[0m\u001b[0;34m,\u001b[0m\u001b[0mformat\u001b[0m\u001b[0;34m=\u001b[0m\u001b[0;34m'%Y-%m-%d'\u001b[0m\u001b[0;34m)\u001b[0m\u001b[0;34m\u001b[0m\u001b[0m\n\u001b[0m",
      "\u001b[0;32m/anaconda3/lib/python3.5/site-packages/pandas/core/tools/datetimes.py\u001b[0m in \u001b[0;36mto_datetime\u001b[0;34m(arg, errors, dayfirst, yearfirst, utc, box, format, exact, unit, infer_datetime_format, origin, cache)\u001b[0m\n\u001b[1;32m    449\u001b[0m         \u001b[0;32melse\u001b[0m\u001b[0;34m:\u001b[0m\u001b[0;34m\u001b[0m\u001b[0m\n\u001b[1;32m    450\u001b[0m             \u001b[0;32mfrom\u001b[0m \u001b[0mpandas\u001b[0m \u001b[0;32mimport\u001b[0m \u001b[0mSeries\u001b[0m\u001b[0;34m\u001b[0m\u001b[0m\n\u001b[0;32m--> 451\u001b[0;31m             \u001b[0mvalues\u001b[0m \u001b[0;34m=\u001b[0m \u001b[0m_convert_listlike\u001b[0m\u001b[0;34m(\u001b[0m\u001b[0marg\u001b[0m\u001b[0;34m.\u001b[0m\u001b[0m_values\u001b[0m\u001b[0;34m,\u001b[0m \u001b[0;32mTrue\u001b[0m\u001b[0;34m,\u001b[0m \u001b[0mformat\u001b[0m\u001b[0;34m)\u001b[0m\u001b[0;34m\u001b[0m\u001b[0m\n\u001b[0m\u001b[1;32m    452\u001b[0m             \u001b[0mresult\u001b[0m \u001b[0;34m=\u001b[0m \u001b[0mSeries\u001b[0m\u001b[0;34m(\u001b[0m\u001b[0mvalues\u001b[0m\u001b[0;34m,\u001b[0m \u001b[0mindex\u001b[0m\u001b[0;34m=\u001b[0m\u001b[0marg\u001b[0m\u001b[0;34m.\u001b[0m\u001b[0mindex\u001b[0m\u001b[0;34m,\u001b[0m \u001b[0mname\u001b[0m\u001b[0;34m=\u001b[0m\u001b[0marg\u001b[0m\u001b[0;34m.\u001b[0m\u001b[0mname\u001b[0m\u001b[0;34m)\u001b[0m\u001b[0;34m\u001b[0m\u001b[0m\n\u001b[1;32m    453\u001b[0m     \u001b[0;32melif\u001b[0m \u001b[0misinstance\u001b[0m\u001b[0;34m(\u001b[0m\u001b[0marg\u001b[0m\u001b[0;34m,\u001b[0m \u001b[0;34m(\u001b[0m\u001b[0mABCDataFrame\u001b[0m\u001b[0;34m,\u001b[0m \u001b[0mMutableMapping\u001b[0m\u001b[0;34m)\u001b[0m\u001b[0;34m)\u001b[0m\u001b[0;34m:\u001b[0m\u001b[0;34m\u001b[0m\u001b[0m\n",
      "\u001b[0;32m/anaconda3/lib/python3.5/site-packages/pandas/core/tools/datetimes.py\u001b[0m in \u001b[0;36m_convert_listlike\u001b[0;34m(arg, box, format, name, tz)\u001b[0m\n\u001b[1;32m    378\u001b[0m                 \u001b[0;32mreturn\u001b[0m \u001b[0mDatetimeIndex\u001b[0m\u001b[0;34m.\u001b[0m\u001b[0m_simple_new\u001b[0m\u001b[0;34m(\u001b[0m\u001b[0mvalues\u001b[0m\u001b[0;34m,\u001b[0m \u001b[0mname\u001b[0m\u001b[0;34m=\u001b[0m\u001b[0mname\u001b[0m\u001b[0;34m,\u001b[0m \u001b[0mtz\u001b[0m\u001b[0;34m=\u001b[0m\u001b[0mtz\u001b[0m\u001b[0;34m)\u001b[0m\u001b[0;34m\u001b[0m\u001b[0m\n\u001b[1;32m    379\u001b[0m             \u001b[0;32mexcept\u001b[0m \u001b[0;34m(\u001b[0m\u001b[0mValueError\u001b[0m\u001b[0;34m,\u001b[0m \u001b[0mTypeError\u001b[0m\u001b[0;34m)\u001b[0m\u001b[0;34m:\u001b[0m\u001b[0;34m\u001b[0m\u001b[0m\n\u001b[0;32m--> 380\u001b[0;31m                 \u001b[0;32mraise\u001b[0m \u001b[0me\u001b[0m\u001b[0;34m\u001b[0m\u001b[0m\n\u001b[0m\u001b[1;32m    381\u001b[0m \u001b[0;34m\u001b[0m\u001b[0m\n\u001b[1;32m    382\u001b[0m     \u001b[0;32mif\u001b[0m \u001b[0marg\u001b[0m \u001b[0;32mis\u001b[0m \u001b[0;32mNone\u001b[0m\u001b[0;34m:\u001b[0m\u001b[0;34m\u001b[0m\u001b[0m\n",
      "\u001b[0;32m/anaconda3/lib/python3.5/site-packages/pandas/core/tools/datetimes.py\u001b[0m in \u001b[0;36m_convert_listlike\u001b[0;34m(arg, box, format, name, tz)\u001b[0m\n\u001b[1;32m    366\u001b[0m                     \u001b[0mdayfirst\u001b[0m\u001b[0;34m=\u001b[0m\u001b[0mdayfirst\u001b[0m\u001b[0;34m,\u001b[0m\u001b[0;34m\u001b[0m\u001b[0m\n\u001b[1;32m    367\u001b[0m                     \u001b[0myearfirst\u001b[0m\u001b[0;34m=\u001b[0m\u001b[0myearfirst\u001b[0m\u001b[0;34m,\u001b[0m\u001b[0;34m\u001b[0m\u001b[0m\n\u001b[0;32m--> 368\u001b[0;31m                     \u001b[0mrequire_iso8601\u001b[0m\u001b[0;34m=\u001b[0m\u001b[0mrequire_iso8601\u001b[0m\u001b[0;34m\u001b[0m\u001b[0m\n\u001b[0m\u001b[1;32m    369\u001b[0m                 )\n\u001b[1;32m    370\u001b[0m \u001b[0;34m\u001b[0m\u001b[0m\n",
      "\u001b[0;32mpandas/_libs/tslib.pyx\u001b[0m in \u001b[0;36mpandas._libs.tslib.array_to_datetime\u001b[0;34m()\u001b[0m\n",
      "\u001b[0;32mpandas/_libs/tslib.pyx\u001b[0m in \u001b[0;36mpandas._libs.tslib.array_to_datetime\u001b[0;34m()\u001b[0m\n",
      "\u001b[0;31mValueError\u001b[0m: time data May 10, 2019 doesn't match format specified"
     ]
    }
   ],
   "source": [
    "# Convert Date column to datetime\n",
    "df.loc[:, 'Date'] = pd.to_datetime(df['Date'],format='%Y-%m-%d')"
   ]
  },
  {
   "cell_type": "code",
   "execution_count": 98,
   "metadata": {},
   "outputs": [
    {
     "data": {
      "text/html": [
       "<div>\n",
       "<style scoped>\n",
       "    .dataframe tbody tr th:only-of-type {\n",
       "        vertical-align: middle;\n",
       "    }\n",
       "\n",
       "    .dataframe tbody tr th {\n",
       "        vertical-align: top;\n",
       "    }\n",
       "\n",
       "    .dataframe thead th {\n",
       "        text-align: right;\n",
       "    }\n",
       "</style>\n",
       "<table border=\"1\" class=\"dataframe\">\n",
       "  <thead>\n",
       "    <tr style=\"text-align: right;\">\n",
       "      <th></th>\n",
       "      <th>Date</th>\n",
       "      <th>Open</th>\n",
       "      <th>High</th>\n",
       "      <th>Low</th>\n",
       "      <th>Close*</th>\n",
       "      <th>Adj Close**</th>\n",
       "      <th>Volume</th>\n",
       "    </tr>\n",
       "  </thead>\n",
       "  <tbody>\n",
       "    <tr>\n",
       "      <th>99</th>\n",
       "      <td>May 10, 2019</td>\n",
       "      <td>1163.59</td>\n",
       "      <td>1172.60</td>\n",
       "      <td>1142.50</td>\n",
       "      <td>1164.27</td>\n",
       "      <td>1164.27</td>\n",
       "      <td>1314500.0</td>\n",
       "    </tr>\n",
       "    <tr>\n",
       "      <th>98</th>\n",
       "      <td>May 13, 2019</td>\n",
       "      <td>1141.96</td>\n",
       "      <td>1147.94</td>\n",
       "      <td>1122.11</td>\n",
       "      <td>1132.03</td>\n",
       "      <td>1132.03</td>\n",
       "      <td>1860600.0</td>\n",
       "    </tr>\n",
       "    <tr>\n",
       "      <th>97</th>\n",
       "      <td>May 14, 2019</td>\n",
       "      <td>1137.21</td>\n",
       "      <td>1140.42</td>\n",
       "      <td>1119.55</td>\n",
       "      <td>1120.44</td>\n",
       "      <td>1120.44</td>\n",
       "      <td>1836600.0</td>\n",
       "    </tr>\n",
       "    <tr>\n",
       "      <th>96</th>\n",
       "      <td>May 15, 2019</td>\n",
       "      <td>1117.87</td>\n",
       "      <td>1171.33</td>\n",
       "      <td>1116.67</td>\n",
       "      <td>1164.21</td>\n",
       "      <td>1164.21</td>\n",
       "      <td>2289300.0</td>\n",
       "    </tr>\n",
       "    <tr>\n",
       "      <th>95</th>\n",
       "      <td>May 16, 2019</td>\n",
       "      <td>1164.51</td>\n",
       "      <td>1188.16</td>\n",
       "      <td>1162.84</td>\n",
       "      <td>1178.98</td>\n",
       "      <td>1178.98</td>\n",
       "      <td>1531400.0</td>\n",
       "    </tr>\n",
       "  </tbody>\n",
       "</table>\n",
       "</div>"
      ],
      "text/plain": [
       "            Date     Open     High      Low   Close*  Adj Close**     Volume\n",
       "99  May 10, 2019  1163.59  1172.60  1142.50  1164.27      1164.27  1314500.0\n",
       "98  May 13, 2019  1141.96  1147.94  1122.11  1132.03      1132.03  1860600.0\n",
       "97  May 14, 2019  1137.21  1140.42  1119.55  1120.44      1120.44  1836600.0\n",
       "96  May 15, 2019  1117.87  1171.33  1116.67  1164.21      1164.21  2289300.0\n",
       "95  May 16, 2019  1164.51  1188.16  1162.84  1178.98      1178.98  1531400.0"
      ]
     },
     "execution_count": 98,
     "metadata": {},
     "output_type": "execute_result"
    }
   ],
   "source": [
    "df.head()"
   ]
  },
  {
   "cell_type": "code",
   "execution_count": 15,
   "metadata": {},
   "outputs": [],
   "source": [
    "# Change all column headings to be lower case, and remove spacing\n",
    "df.columns = [str(x).lower().replace(' ', '_') for x in df.columns]"
   ]
  },
  {
   "cell_type": "code",
   "execution_count": 16,
   "metadata": {},
   "outputs": [
    {
     "data": {
      "text/html": [
       "<div>\n",
       "<style scoped>\n",
       "    .dataframe tbody tr th:only-of-type {\n",
       "        vertical-align: middle;\n",
       "    }\n",
       "\n",
       "    .dataframe tbody tr th {\n",
       "        vertical-align: top;\n",
       "    }\n",
       "\n",
       "    .dataframe thead th {\n",
       "        text-align: right;\n",
       "    }\n",
       "</style>\n",
       "<table border=\"1\" class=\"dataframe\">\n",
       "  <thead>\n",
       "    <tr style=\"text-align: right;\">\n",
       "      <th></th>\n",
       "      <th>date</th>\n",
       "      <th>open</th>\n",
       "      <th>high</th>\n",
       "      <th>low</th>\n",
       "      <th>close</th>\n",
       "      <th>adj_close</th>\n",
       "      <th>volume</th>\n",
       "    </tr>\n",
       "  </thead>\n",
       "  <tbody>\n",
       "    <tr>\n",
       "      <th>0</th>\n",
       "      <td>2015-11-24</td>\n",
       "      <td>106.570000</td>\n",
       "      <td>107.589996</td>\n",
       "      <td>106.309998</td>\n",
       "      <td>107.389999</td>\n",
       "      <td>99.459969</td>\n",
       "      <td>2032600</td>\n",
       "    </tr>\n",
       "    <tr>\n",
       "      <th>1</th>\n",
       "      <td>2015-11-25</td>\n",
       "      <td>107.510002</td>\n",
       "      <td>107.660004</td>\n",
       "      <td>107.250000</td>\n",
       "      <td>107.470001</td>\n",
       "      <td>99.534058</td>\n",
       "      <td>1820300</td>\n",
       "    </tr>\n",
       "    <tr>\n",
       "      <th>2</th>\n",
       "      <td>2015-11-27</td>\n",
       "      <td>107.589996</td>\n",
       "      <td>107.760002</td>\n",
       "      <td>107.220001</td>\n",
       "      <td>107.629997</td>\n",
       "      <td>99.682251</td>\n",
       "      <td>552400</td>\n",
       "    </tr>\n",
       "    <tr>\n",
       "      <th>3</th>\n",
       "      <td>2015-11-30</td>\n",
       "      <td>107.779999</td>\n",
       "      <td>107.849998</td>\n",
       "      <td>107.110001</td>\n",
       "      <td>107.169998</td>\n",
       "      <td>99.256210</td>\n",
       "      <td>3618100</td>\n",
       "    </tr>\n",
       "    <tr>\n",
       "      <th>4</th>\n",
       "      <td>2015-12-01</td>\n",
       "      <td>107.589996</td>\n",
       "      <td>108.209999</td>\n",
       "      <td>107.370003</td>\n",
       "      <td>108.180000</td>\n",
       "      <td>100.191628</td>\n",
       "      <td>2443600</td>\n",
       "    </tr>\n",
       "  </tbody>\n",
       "</table>\n",
       "</div>"
      ],
      "text/plain": [
       "        date        open        high         low       close   adj_close  \\\n",
       "0 2015-11-24  106.570000  107.589996  106.309998  107.389999   99.459969   \n",
       "1 2015-11-25  107.510002  107.660004  107.250000  107.470001   99.534058   \n",
       "2 2015-11-27  107.589996  107.760002  107.220001  107.629997   99.682251   \n",
       "3 2015-11-30  107.779999  107.849998  107.110001  107.169998   99.256210   \n",
       "4 2015-12-01  107.589996  108.209999  107.370003  108.180000  100.191628   \n",
       "\n",
       "    volume  \n",
       "0  2032600  \n",
       "1  1820300  \n",
       "2   552400  \n",
       "3  3618100  \n",
       "4  2443600  "
      ]
     },
     "execution_count": 16,
     "metadata": {},
     "output_type": "execute_result"
    }
   ],
   "source": [
    "df.head()"
   ]
  },
  {
   "cell_type": "code",
   "execution_count": 17,
   "metadata": {},
   "outputs": [],
   "source": [
    "# Get month of each sample\n",
    "df['month'] = df['date'].dt.month"
   ]
  },
  {
   "cell_type": "code",
   "execution_count": 18,
   "metadata": {},
   "outputs": [
    {
     "data": {
      "text/html": [
       "<div>\n",
       "<style scoped>\n",
       "    .dataframe tbody tr th:only-of-type {\n",
       "        vertical-align: middle;\n",
       "    }\n",
       "\n",
       "    .dataframe tbody tr th {\n",
       "        vertical-align: top;\n",
       "    }\n",
       "\n",
       "    .dataframe thead th {\n",
       "        text-align: right;\n",
       "    }\n",
       "</style>\n",
       "<table border=\"1\" class=\"dataframe\">\n",
       "  <thead>\n",
       "    <tr style=\"text-align: right;\">\n",
       "      <th></th>\n",
       "      <th>date</th>\n",
       "      <th>open</th>\n",
       "      <th>high</th>\n",
       "      <th>low</th>\n",
       "      <th>close</th>\n",
       "      <th>adj_close</th>\n",
       "      <th>volume</th>\n",
       "      <th>month</th>\n",
       "    </tr>\n",
       "  </thead>\n",
       "  <tbody>\n",
       "    <tr>\n",
       "      <th>0</th>\n",
       "      <td>2015-11-24</td>\n",
       "      <td>106.570000</td>\n",
       "      <td>107.589996</td>\n",
       "      <td>106.309998</td>\n",
       "      <td>107.389999</td>\n",
       "      <td>99.459969</td>\n",
       "      <td>2032600</td>\n",
       "      <td>11</td>\n",
       "    </tr>\n",
       "    <tr>\n",
       "      <th>1</th>\n",
       "      <td>2015-11-25</td>\n",
       "      <td>107.510002</td>\n",
       "      <td>107.660004</td>\n",
       "      <td>107.250000</td>\n",
       "      <td>107.470001</td>\n",
       "      <td>99.534058</td>\n",
       "      <td>1820300</td>\n",
       "      <td>11</td>\n",
       "    </tr>\n",
       "    <tr>\n",
       "      <th>2</th>\n",
       "      <td>2015-11-27</td>\n",
       "      <td>107.589996</td>\n",
       "      <td>107.760002</td>\n",
       "      <td>107.220001</td>\n",
       "      <td>107.629997</td>\n",
       "      <td>99.682251</td>\n",
       "      <td>552400</td>\n",
       "      <td>11</td>\n",
       "    </tr>\n",
       "    <tr>\n",
       "      <th>3</th>\n",
       "      <td>2015-11-30</td>\n",
       "      <td>107.779999</td>\n",
       "      <td>107.849998</td>\n",
       "      <td>107.110001</td>\n",
       "      <td>107.169998</td>\n",
       "      <td>99.256210</td>\n",
       "      <td>3618100</td>\n",
       "      <td>11</td>\n",
       "    </tr>\n",
       "    <tr>\n",
       "      <th>4</th>\n",
       "      <td>2015-12-01</td>\n",
       "      <td>107.589996</td>\n",
       "      <td>108.209999</td>\n",
       "      <td>107.370003</td>\n",
       "      <td>108.180000</td>\n",
       "      <td>100.191628</td>\n",
       "      <td>2443600</td>\n",
       "      <td>12</td>\n",
       "    </tr>\n",
       "  </tbody>\n",
       "</table>\n",
       "</div>"
      ],
      "text/plain": [
       "        date        open        high         low       close   adj_close  \\\n",
       "0 2015-11-24  106.570000  107.589996  106.309998  107.389999   99.459969   \n",
       "1 2015-11-25  107.510002  107.660004  107.250000  107.470001   99.534058   \n",
       "2 2015-11-27  107.589996  107.760002  107.220001  107.629997   99.682251   \n",
       "3 2015-11-30  107.779999  107.849998  107.110001  107.169998   99.256210   \n",
       "4 2015-12-01  107.589996  108.209999  107.370003  108.180000  100.191628   \n",
       "\n",
       "    volume  month  \n",
       "0  2032600     11  \n",
       "1  1820300     11  \n",
       "2   552400     11  \n",
       "3  3618100     11  \n",
       "4  2443600     12  "
      ]
     },
     "execution_count": 18,
     "metadata": {},
     "output_type": "execute_result"
    }
   ],
   "source": [
    "df.head()"
   ]
  },
  {
   "cell_type": "code",
   "execution_count": 19,
   "metadata": {},
   "outputs": [
    {
     "data": {
      "text/html": [
       "<div>\n",
       "<style scoped>\n",
       "    .dataframe tbody tr th:only-of-type {\n",
       "        vertical-align: middle;\n",
       "    }\n",
       "\n",
       "    .dataframe tbody tr th {\n",
       "        vertical-align: top;\n",
       "    }\n",
       "\n",
       "    .dataframe thead th {\n",
       "        text-align: right;\n",
       "    }\n",
       "</style>\n",
       "<table border=\"1\" class=\"dataframe\">\n",
       "  <thead>\n",
       "    <tr style=\"text-align: right;\">\n",
       "      <th></th>\n",
       "      <th>date</th>\n",
       "      <th>open</th>\n",
       "      <th>high</th>\n",
       "      <th>low</th>\n",
       "      <th>close</th>\n",
       "      <th>adj_close</th>\n",
       "      <th>volume</th>\n",
       "      <th>month</th>\n",
       "    </tr>\n",
       "  </thead>\n",
       "  <tbody>\n",
       "    <tr>\n",
       "      <th>0</th>\n",
       "      <td>2015-11-24</td>\n",
       "      <td>106.570000</td>\n",
       "      <td>107.589996</td>\n",
       "      <td>106.309998</td>\n",
       "      <td>107.389999</td>\n",
       "      <td>99.459969</td>\n",
       "      <td>2032600</td>\n",
       "      <td>11</td>\n",
       "    </tr>\n",
       "    <tr>\n",
       "      <th>1</th>\n",
       "      <td>2015-11-25</td>\n",
       "      <td>107.510002</td>\n",
       "      <td>107.660004</td>\n",
       "      <td>107.250000</td>\n",
       "      <td>107.470001</td>\n",
       "      <td>99.534058</td>\n",
       "      <td>1820300</td>\n",
       "      <td>11</td>\n",
       "    </tr>\n",
       "    <tr>\n",
       "      <th>2</th>\n",
       "      <td>2015-11-27</td>\n",
       "      <td>107.589996</td>\n",
       "      <td>107.760002</td>\n",
       "      <td>107.220001</td>\n",
       "      <td>107.629997</td>\n",
       "      <td>99.682251</td>\n",
       "      <td>552400</td>\n",
       "      <td>11</td>\n",
       "    </tr>\n",
       "    <tr>\n",
       "      <th>3</th>\n",
       "      <td>2015-11-30</td>\n",
       "      <td>107.779999</td>\n",
       "      <td>107.849998</td>\n",
       "      <td>107.110001</td>\n",
       "      <td>107.169998</td>\n",
       "      <td>99.256210</td>\n",
       "      <td>3618100</td>\n",
       "      <td>11</td>\n",
       "    </tr>\n",
       "    <tr>\n",
       "      <th>4</th>\n",
       "      <td>2015-12-01</td>\n",
       "      <td>107.589996</td>\n",
       "      <td>108.209999</td>\n",
       "      <td>107.370003</td>\n",
       "      <td>108.180000</td>\n",
       "      <td>100.191628</td>\n",
       "      <td>2443600</td>\n",
       "      <td>12</td>\n",
       "    </tr>\n",
       "  </tbody>\n",
       "</table>\n",
       "</div>"
      ],
      "text/plain": [
       "        date        open        high         low       close   adj_close  \\\n",
       "0 2015-11-24  106.570000  107.589996  106.309998  107.389999   99.459969   \n",
       "1 2015-11-25  107.510002  107.660004  107.250000  107.470001   99.534058   \n",
       "2 2015-11-27  107.589996  107.760002  107.220001  107.629997   99.682251   \n",
       "3 2015-11-30  107.779999  107.849998  107.110001  107.169998   99.256210   \n",
       "4 2015-12-01  107.589996  108.209999  107.370003  108.180000  100.191628   \n",
       "\n",
       "    volume  month  \n",
       "0  2032600     11  \n",
       "1  1820300     11  \n",
       "2   552400     11  \n",
       "3  3618100     11  \n",
       "4  2443600     12  "
      ]
     },
     "execution_count": 19,
     "metadata": {},
     "output_type": "execute_result"
    }
   ],
   "source": [
    "# sort by datetime\n",
    "\n",
    "df.sort_values(by='date', inplace=True, ascending=True)\n",
    "\n",
    "df.head()"
   ]
  },
  {
   "cell_type": "code",
   "execution_count": 20,
   "metadata": {},
   "outputs": [
    {
     "data": {
      "text/plain": [
       "Text(0, 0.5, 'USD')"
      ]
     },
     "execution_count": 20,
     "metadata": {},
     "output_type": "execute_result"
    },
    {
     "data": {
      "image/png": "[encoded data removed]",
      "text/plain": [
       "<Figure size 720x576 with 1 Axes>"
      ]
     },
     "metadata": {
      "needs_background": "light"
     },
     "output_type": "display_data"
    }
   ],
   "source": [
    "# Plot adjusted close over time\n",
    "\n",
    "rcParams['figure.figsize'] = 10, 8 # width 10, height 8\n",
    "\n",
    "ax = df.plot(x='date', y='adj_close', style='b-', grid=True)\n",
    "ax.set_xlabel('date')\n",
    "ax.set_ylabel(\"USD\")"
   ]
  },
  {
   "cell_type": "code",
   "execution_count": null,
   "metadata": {},
   "outputs": [],
   "source": []
  },
  {
   "cell_type": "code",
   "execution_count": null,
   "metadata": {},
   "outputs": [],
   "source": []
  },
  {
   "cell_type": "code",
   "execution_count": null,
   "metadata": {},
   "outputs": [],
   "source": []
  },
  {
   "cell_type": "code",
   "execution_count": 21,
   "metadata": {},
   "outputs": [],
   "source": [
    "# Size of each dataset\n",
    "num_cv = int(cv_size * len(df))\n",
    "num_test = int(test_size * len(df))\n",
    "num_train = len(df) - num_cv - num_test"
   ]
  },
  {
   "cell_type": "code",
   "execution_count": 24,
   "metadata": {},
   "outputs": [
    {
     "data": {
      "text/plain": [
       "(151, 151, 453)"
      ]
     },
     "execution_count": 24,
     "metadata": {},
     "output_type": "execute_result"
    }
   ],
   "source": [
    "num_cv, num_test, num_train"
   ]
  },
  {
   "cell_type": "code",
   "execution_count": 26,
   "metadata": {},
   "outputs": [],
   "source": [
    "# Splitting into train, cv and test\n",
    "\n",
    "train = df[:num_train][['date', 'adj_close']]\n",
    "cv = df[num_train:num_train+num_cv][['date', 'adj_close']]\n",
    "train_cv = df[:num_train+num_cv][['date', 'adj_close']]\n",
    "test = df[num_train+num_cv:][['date', 'adj_close']]"
   ]
  },
  {
   "cell_type": "code",
   "execution_count": 27,
   "metadata": {},
   "outputs": [
    {
     "data": {
      "text/plain": [
       "(453, 2)"
      ]
     },
     "execution_count": 27,
     "metadata": {},
     "output_type": "execute_result"
    }
   ],
   "source": [
    "train.shape"
   ]
  },
  {
   "cell_type": "code",
   "execution_count": 28,
   "metadata": {},
   "outputs": [
    {
     "data": {
      "text/plain": [
       "(151, 2)"
      ]
     },
     "execution_count": 28,
     "metadata": {},
     "output_type": "execute_result"
    }
   ],
   "source": [
    "cv.shape"
   ]
  },
  {
   "cell_type": "code",
   "execution_count": 29,
   "metadata": {},
   "outputs": [
    {
     "data": {
      "text/plain": [
       "(604, 2)"
      ]
     },
     "execution_count": 29,
     "metadata": {},
     "output_type": "execute_result"
    }
   ],
   "source": [
    "train_cv.shape"
   ]
  },
  {
   "cell_type": "code",
   "execution_count": 30,
   "metadata": {},
   "outputs": [
    {
     "data": {
      "text/plain": [
       "(151, 2)"
      ]
     },
     "execution_count": 30,
     "metadata": {},
     "output_type": "execute_result"
    }
   ],
   "source": [
    "test.shape"
   ]
  },
  {
   "cell_type": "code",
   "execution_count": 31,
   "metadata": {},
   "outputs": [],
   "source": [
    "# Converting dataset into x_train and y_train\n",
    "# Here we only scale the train dataset, and not the entire dataset to prevent information leak\n",
    "\n",
    "scaler = StandardScaler()\n",
    "train_scaled = scaler.fit_transform(np.array(train['adj_close']).reshape(-1,1))"
   ]
  },
  {
   "cell_type": "code",
   "execution_count": 34,
   "metadata": {},
   "outputs": [
    {
     "data": {
      "text/html": [
       "<div>\n",
       "<style scoped>\n",
       "    .dataframe tbody tr th:only-of-type {\n",
       "        vertical-align: middle;\n",
       "    }\n",
       "\n",
       "    .dataframe tbody tr th {\n",
       "        vertical-align: top;\n",
       "    }\n",
       "\n",
       "    .dataframe thead th {\n",
       "        text-align: right;\n",
       "    }\n",
       "</style>\n",
       "<table border=\"1\" class=\"dataframe\">\n",
       "  <thead>\n",
       "    <tr style=\"text-align: right;\">\n",
       "      <th></th>\n",
       "      <th>date</th>\n",
       "      <th>adj_close</th>\n",
       "    </tr>\n",
       "  </thead>\n",
       "  <tbody>\n",
       "    <tr>\n",
       "      <th>0</th>\n",
       "      <td>2015-11-24</td>\n",
       "      <td>99.459969</td>\n",
       "    </tr>\n",
       "    <tr>\n",
       "      <th>1</th>\n",
       "      <td>2015-11-25</td>\n",
       "      <td>99.534058</td>\n",
       "    </tr>\n",
       "    <tr>\n",
       "      <th>2</th>\n",
       "      <td>2015-11-27</td>\n",
       "      <td>99.682251</td>\n",
       "    </tr>\n",
       "    <tr>\n",
       "      <th>3</th>\n",
       "      <td>2015-11-30</td>\n",
       "      <td>99.256210</td>\n",
       "    </tr>\n",
       "    <tr>\n",
       "      <th>4</th>\n",
       "      <td>2015-12-01</td>\n",
       "      <td>100.191628</td>\n",
       "    </tr>\n",
       "  </tbody>\n",
       "</table>\n",
       "</div>"
      ],
      "text/plain": [
       "        date   adj_close\n",
       "0 2015-11-24   99.459969\n",
       "1 2015-11-25   99.534058\n",
       "2 2015-11-27   99.682251\n",
       "3 2015-11-30   99.256210\n",
       "4 2015-12-01  100.191628"
      ]
     },
     "execution_count": 34,
     "metadata": {},
     "output_type": "execute_result"
    }
   ],
   "source": [
    "train.head()"
   ]
  },
  {
   "cell_type": "code",
   "execution_count": 36,
   "metadata": {},
   "outputs": [
    {
     "data": {
      "text/plain": [
       "array([[-0.78263698],\n",
       "       [-0.77487449],\n",
       "       [-0.75934794],\n",
       "       [-0.80398531],\n",
       "       [-0.70597926],\n",
       "       [-0.81563098],\n",
       "       [-0.9708865 ],\n",
       "       [-0.78263698],\n",
       "       [-0.86414682],\n",
       "       [-0.9262507 ],\n",
       "       [-1.01455336],\n",
       "       [-0.98447224],\n",
       "       [-1.18533626],\n",
       "       [-1.14943262],\n",
       "       [-1.04172254],\n",
       "       [-0.89422951],\n",
       "       [-1.04560498],\n",
       "       [-1.21832785],\n",
       "       [-1.13898827],\n",
       "       [-1.04823079],\n",
       "       [-0.92136432],\n",
       "       [-0.93405164],\n",
       "       [-0.95649736],\n",
       "       [-0.84719735],\n",
       "       [-0.92526909],\n",
       "       [-1.02480985],\n",
       "       [-1.17704697],\n",
       "       [-1.15460282],\n",
       "       [-1.28927338],\n",
       "       [-1.53226955],\n",
       "       [-1.64254635],\n",
       "       [-1.64839915],\n",
       "       [-1.58301474],\n",
       "       [-1.83089174],\n",
       "       [-1.68743706],\n",
       "       [-1.88749129],\n",
       "       [-1.89725137],\n",
       "       [-1.9889848 ],\n",
       "       [-1.95287654],\n",
       "       [-1.75574714],\n",
       "       [-1.91091464],\n",
       "       [-1.76941041],\n",
       "       [-1.8767584 ],\n",
       "       [-1.83967659],\n",
       "       [-1.60741163],\n",
       "       [-1.60546203],\n",
       "       [-1.79088101],\n",
       "       [-1.73427905],\n",
       "       [-1.71183406],\n",
       "       [-1.90701061],\n",
       "       [-2.05144292],\n",
       "       [-2.06315261],\n",
       "       [-2.05729572],\n",
       "       [-2.17049902],\n",
       "       [-1.99484085],\n",
       "       [-1.82698687],\n",
       "       [-1.6718202 ],\n",
       "       [-1.70988205],\n",
       "       [-1.70793003],\n",
       "       [-1.5693522 ],\n",
       "       [-1.68548347],\n",
       "       [-1.63669114],\n",
       "       [-1.52348627],\n",
       "       [-1.53129517],\n",
       "       [-1.60838927],\n",
       "       [-1.38003085],\n",
       "       [-1.3253808 ],\n",
       "       [-1.27658931],\n",
       "       [-1.24243139],\n",
       "       [-1.22193684],\n",
       "       [-1.34587618],\n",
       "       [-1.2980574 ],\n",
       "       [-1.30098547],\n",
       "       [-1.13313222],\n",
       "       [-1.14484432],\n",
       "       [-1.17915887],\n",
       "       [-1.11641064],\n",
       "       [-1.03895434],\n",
       "       [-0.99385503],\n",
       "       [-0.9840478 ],\n",
       "       [-0.98699338],\n",
       "       [-1.07033045],\n",
       "       [-1.07327047],\n",
       "       [-1.06640483],\n",
       "       [-0.95365404],\n",
       "       [-0.91443718],\n",
       "       [-0.92620282],\n",
       "       [-0.8614922 ],\n",
       "       [-0.90463153],\n",
       "       [-1.00463748],\n",
       "       [-0.8928683 ],\n",
       "       [-1.01640312],\n",
       "       [-0.98699338],\n",
       "       [-1.01542464],\n",
       "       [-0.9163979 ],\n",
       "       [-0.7958031 ],\n",
       "       [-0.79972474],\n",
       "       [-0.80462799],\n",
       "       [-0.73501569],\n",
       "       [-0.7056004 ],\n",
       "       [-0.69481481],\n",
       "       [-0.74677891],\n",
       "       [-0.73207095],\n",
       "       [-0.75756461],\n",
       "       [-0.72913093],\n",
       "       [-0.70363958],\n",
       "       [-0.79776476],\n",
       "       [-0.85855291],\n",
       "       [-0.77815188],\n",
       "       [-0.88306181],\n",
       "       [-0.9438508 ],\n",
       "       [-0.94777243],\n",
       "       [-0.91051555],\n",
       "       [-0.89973069],\n",
       "       [-0.77717508],\n",
       "       [-0.87227622],\n",
       "       [-0.87619942],\n",
       "       [-0.96542052],\n",
       "       [-0.86345375],\n",
       "       [-0.9565949 ],\n",
       "       [-0.95757484],\n",
       "       [-0.99777499],\n",
       "       [-0.91933875],\n",
       "       [-0.93208516],\n",
       "       [-0.79482149],\n",
       "       [-0.71932842],\n",
       "       [-0.72128683],\n",
       "       [-0.67422586],\n",
       "       [-0.6791267 ],\n",
       "       [-0.65069627],\n",
       "       [-0.61539926],\n",
       "       [-0.64481298],\n",
       "       [-0.58990885],\n",
       "       [-0.5693175 ],\n",
       "       [-0.53206146],\n",
       "       [-0.55362866],\n",
       "       [-0.66344111],\n",
       "       [-0.75070138],\n",
       "       [-0.76951087],\n",
       "       [-0.78034288],\n",
       "       [-0.74981564],\n",
       "       [-0.78428128],\n",
       "       [-0.71337651],\n",
       "       [-0.69072774],\n",
       "       [-0.71436294],\n",
       "       [-0.56959808],\n",
       "       [-0.95661806],\n",
       "       [-1.16046998],\n",
       "       [-0.97631643],\n",
       "       [-0.79314691],\n",
       "       [-0.65035167],\n",
       "       [-0.62967011],\n",
       "       [-0.70845251],\n",
       "       [-0.64444293],\n",
       "       [-0.64936849],\n",
       "       [-0.4849085 ],\n",
       "       [-0.44059258],\n",
       "       [-0.35097419],\n",
       "       [-0.35688534],\n",
       "       [-0.30469252],\n",
       "       [-0.31650855],\n",
       "       [-0.28597973],\n",
       "       [-0.30764532],\n",
       "       [-0.24954375],\n",
       "       [-0.29287492],\n",
       "       [-0.2406822 ],\n",
       "       [-0.26924139],\n",
       "       [-0.25742295],\n",
       "       [-0.27022615],\n",
       "       [-0.25643652],\n",
       "       [-0.23083253],\n",
       "       [-0.24560619],\n",
       "       [-0.32832615],\n",
       "       [-0.28795019],\n",
       "       [-0.27514699],\n",
       "       [-0.18454856],\n",
       "       [-0.19144217],\n",
       "       [-0.18159419],\n",
       "       [-0.21409335],\n",
       "       [-0.15894542],\n",
       "       [-0.16977742],\n",
       "       [-0.12940136],\n",
       "       [-0.19242777],\n",
       "       [-0.17863981],\n",
       "       [-0.14417334],\n",
       "       [-0.1599286 ],\n",
       "       [-0.15697339],\n",
       "       [-0.12743174],\n",
       "       [-0.18947255],\n",
       "       [-0.19636533],\n",
       "       [-0.21901577],\n",
       "       [-0.15894542],\n",
       "       [-0.17666862],\n",
       "       [-0.20818377],\n",
       "       [-0.20227418],\n",
       "       [-0.14614222],\n",
       "       [-0.11462782],\n",
       "       [-0.09985657],\n",
       "       [-0.12841577],\n",
       "       [-0.40415418],\n",
       "       [-0.25348298],\n",
       "       [-0.42477822],\n",
       "       [-0.42378938],\n",
       "       [-0.3129554 ],\n",
       "       [-0.35649842],\n",
       "       [-0.34066415],\n",
       "       [-0.34561046],\n",
       "       [-0.22092546],\n",
       "       [-0.14077054],\n",
       "       [-0.20410309],\n",
       "       [-0.29118588],\n",
       "       [-0.2288406 ],\n",
       "       [-0.16451921],\n",
       "       [-0.27238362],\n",
       "       [-0.1862904 ],\n",
       "       [-0.21993662],\n",
       "       [-0.26941563],\n",
       "       [-0.22686302],\n",
       "       [-0.22290545],\n",
       "       [-0.26446848],\n",
       "       [-0.20509193],\n",
       "       [-0.3515497 ],\n",
       "       [-0.33868574],\n",
       "       [-0.37727836],\n",
       "       [-0.38024877],\n",
       "       [-0.41092541],\n",
       "       [-0.34759286],\n",
       "       [-0.3129554 ],\n",
       "       [-0.33373859],\n",
       "       [-0.33769532],\n",
       "       [-0.28327074],\n",
       "       [-0.32977777],\n",
       "       [-0.36243682],\n",
       "       [-0.39905029],\n",
       "       [-0.43467649],\n",
       "       [-0.42774936],\n",
       "       [-0.50790501],\n",
       "       [-0.58212154],\n",
       "       [-0.62863171],\n",
       "       [-0.63556136],\n",
       "       [-0.40201986],\n",
       "       [-0.35550811],\n",
       "       [-0.22092546],\n",
       "       [-0.18233116],\n",
       "       [-0.17837443],\n",
       "       [-0.14967536],\n",
       "       [-0.06358288],\n",
       "       [-0.07941484],\n",
       "       [-0.02300942],\n",
       "       [-0.04379094],\n",
       "       [ 0.04032396],\n",
       "       [ 0.07297903],\n",
       "       [ 0.08881329],\n",
       "       [ 0.13235474],\n",
       "       [ 0.06704136],\n",
       "       [ 0.08287573],\n",
       "       [ 0.05615749],\n",
       "       [ 0.00964721],\n",
       "       [ 0.00964721],\n",
       "       [ 0.08782372],\n",
       "       [ 0.14521871],\n",
       "       [ 0.28574049],\n",
       "       [ 0.32730278],\n",
       "       [ 0.38964733],\n",
       "       [ 0.35995858],\n",
       "       [ 0.42724954],\n",
       "       [ 0.32235396],\n",
       "       [ 0.36985214],\n",
       "       [ 0.35204019],\n",
       "       [ 0.38469851],\n",
       "       [ 0.43418789],\n",
       "       [ 0.4013282 ],\n",
       "       [ 0.37145485],\n",
       "       [ 0.38937628],\n",
       "       [ 0.4182544 ],\n",
       "       [ 0.32166728],\n",
       "       [ 0.32266094],\n",
       "       [ 0.27984368],\n",
       "       [ 0.36747087],\n",
       "       [ 0.45609413],\n",
       "       [ 0.43319108],\n",
       "       [ 0.47003474],\n",
       "       [ 0.42522555],\n",
       "       [ 0.43418789],\n",
       "       [ 0.47103238],\n",
       "       [ 0.44016222],\n",
       "       [ 0.46903961],\n",
       "       [ 0.41725928],\n",
       "       [ 0.44414462],\n",
       "       [ 0.39833862],\n",
       "       [ 0.43817029],\n",
       "       [ 0.40730097],\n",
       "       [ 0.49791616],\n",
       "       [ 0.59848799],\n",
       "       [ 0.58156011],\n",
       "       [ 0.56264114],\n",
       "       [ 0.48298022],\n",
       "       [ 0.49293696],\n",
       "       [ 0.49194172],\n",
       "       [ 0.49990726],\n",
       "       [ 0.58853052],\n",
       "       [ 0.5606491 ],\n",
       "       [ 0.55965397],\n",
       "       [ 0.57259945],\n",
       "       [ 0.65026917],\n",
       "       [ 0.70005662],\n",
       "       [ 0.75980176],\n",
       "       [ 0.80361489],\n",
       "       [ 0.86933594],\n",
       "       [ 0.85838407],\n",
       "       [ 0.87630624],\n",
       "       [ 0.94800078],\n",
       "       [ 0.93206981],\n",
       "       [ 0.92310663],\n",
       "       [ 0.94302325],\n",
       "       [ 0.9699086 ],\n",
       "       [ 0.92509941],\n",
       "       [ 1.08840669],\n",
       "       [ 1.00973943],\n",
       "       [ 1.019697  ],\n",
       "       [ 0.97189896],\n",
       "       [ 0.93306494],\n",
       "       [ 0.89920929],\n",
       "       [ 0.90518279],\n",
       "       [ 0.94899759],\n",
       "       [ 0.95795752],\n",
       "       [ 0.91414597],\n",
       "       [ 1.02368014],\n",
       "       [ 1.0087443 ],\n",
       "       [ 1.00177232],\n",
       "       [ 0.97289577],\n",
       "       [ 0.80261976],\n",
       "       [ 0.8185524 ],\n",
       "       [ 0.81457   ],\n",
       "       [ 0.81577069],\n",
       "       [ 0.80176681],\n",
       "       [ 0.88578658],\n",
       "       [ 0.90779267],\n",
       "       [ 0.95280492],\n",
       "       [ 0.93179877],\n",
       "       [ 0.9017912 ],\n",
       "       [ 0.90779267],\n",
       "       [ 0.85877969],\n",
       "       [ 0.89679041],\n",
       "       [ 0.88778815],\n",
       "       [ 0.90279272],\n",
       "       [ 0.89878957],\n",
       "       [ 0.83677517],\n",
       "       [ 0.75475467],\n",
       "       [ 0.85877969],\n",
       "       [ 0.83277443],\n",
       "       [ 0.82277222],\n",
       "       [ 0.92179656],\n",
       "       [ 0.88278736],\n",
       "       [ 1.01081942],\n",
       "       [ 1.08683919],\n",
       "       [ 1.08984081],\n",
       "       [ 1.10184218],\n",
       "       [ 1.06083235],\n",
       "       [ 1.09284076],\n",
       "       [ 1.09284076],\n",
       "       [ 1.06283235],\n",
       "       [ 1.07183545],\n",
       "       [ 1.13285064],\n",
       "       [ 1.11384691],\n",
       "       [ 1.10984376],\n",
       "       [ 1.13685138],\n",
       "       [ 1.10084307],\n",
       "       [ 1.07683698],\n",
       "       [ 1.14285285],\n",
       "       [ 1.13585143],\n",
       "       [ 0.91379582],\n",
       "       [ 0.94980413],\n",
       "       [ 1.03682626],\n",
       "       [ 1.10184218],\n",
       "       [ 1.1228476 ],\n",
       "       [ 1.15885674],\n",
       "       [ 1.21087125],\n",
       "       [ 1.20887051],\n",
       "       [ 1.18886431],\n",
       "       [ 1.18486515],\n",
       "       [ 1.29989254],\n",
       "       [ 1.34090394],\n",
       "       [ 1.32489942],\n",
       "       [ 1.29289175],\n",
       "       [ 1.30689564],\n",
       "       [ 1.32890089],\n",
       "       [ 1.31889785],\n",
       "       [ 1.31689711],\n",
       "       [ 1.37891393],\n",
       "       [ 1.3609093 ],\n",
       "       [ 1.33290174],\n",
       "       [ 1.32489942],\n",
       "       [ 1.42692528],\n",
       "       [ 1.34090394],\n",
       "       [ 1.32633418],\n",
       "       [ 1.33135739],\n",
       "       [ 1.3625096 ],\n",
       "       [ 1.37155272],\n",
       "       [ 1.26805281],\n",
       "       [ 1.38561968],\n",
       "       [ 1.28513335],\n",
       "       [ 1.30221618],\n",
       "       [ 1.33236289],\n",
       "       [ 1.34643069],\n",
       "       [ 1.22283354],\n",
       "       [ 1.30924966],\n",
       "       [ 1.3182952 ],\n",
       "       [ 1.31528005],\n",
       "       [ 1.40471373],\n",
       "       [ 1.4248094 ],\n",
       "       [ 1.48108291],\n",
       "       [ 1.48108291],\n",
       "       [ 1.489122  ],\n",
       "       [ 1.56247593],\n",
       "       [ 1.57051585],\n",
       "       [ 1.55343291],\n",
       "       [ 1.55443768],\n",
       "       [ 1.59664254],\n",
       "       [ 1.58759796],\n",
       "       [ 1.5654895 ],\n",
       "       [ 1.54438822],\n",
       "       [ 1.53735557],\n",
       "       [ 1.56348153],\n",
       "       [ 1.55142096],\n",
       "       [ 1.5222806 ],\n",
       "       [ 1.54941373],\n",
       "       [ 1.57453733],\n",
       "       [ 1.53936595],\n",
       "       [ 1.52529658],\n",
       "       [ 1.3383916 ],\n",
       "       [ 1.36150326],\n",
       "       [ 1.49012593],\n",
       "       [ 1.47806693],\n",
       "       [ 1.50118099],\n",
       "       [ 1.29920188],\n",
       "       [ 1.27809903],\n",
       "       [ 1.29618915],\n",
       "       [ 1.42179583],\n",
       "       [ 1.38361088],\n",
       "       [ 1.36351279],\n",
       "       [ 1.3936595 ],\n",
       "       [ 1.39868428],\n",
       "       [ 1.40370896],\n",
       "       [ 1.47003025],\n",
       "       [ 1.55644721],\n",
       "       [ 1.58558758],\n",
       "       [ 1.48711235],\n",
       "       [ 1.5222806 ],\n",
       "       [ 1.51625272],\n",
       "       [ 1.50720971],\n",
       "       [ 1.64386905],\n",
       "       [ 1.69310823]])"
      ]
     },
     "execution_count": 36,
     "metadata": {},
     "output_type": "execute_result"
    }
   ],
   "source": [
    "train_scaled"
   ]
  },
  {
   "cell_type": "code",
   "execution_count": 37,
   "metadata": {},
   "outputs": [
    {
     "data": {
      "text/plain": [
       "array([106.92984125])"
      ]
     },
     "execution_count": 37,
     "metadata": {},
     "output_type": "execute_result"
    }
   ],
   "source": [
    "scaler.mean_"
   ]
  },
  {
   "cell_type": "code",
   "execution_count": 38,
   "metadata": {},
   "outputs": [
    {
     "data": {
      "text/plain": [
       "array([91.09732471])"
      ]
     },
     "execution_count": 38,
     "metadata": {},
     "output_type": "execute_result"
    }
   ],
   "source": [
    "scaler.var_"
   ]
  },
  {
   "cell_type": "code",
   "execution_count": 41,
   "metadata": {},
   "outputs": [],
   "source": [
    "# Split into x and y\n",
    "\n",
    "x_train_scaled, y_train_scaled = get_x_y(train_scaled, N, N)"
   ]
  },
  {
   "cell_type": "code",
   "execution_count": 42,
   "metadata": {},
   "outputs": [
    {
     "data": {
      "text/plain": [
       "(444, 9, 1)"
      ]
     },
     "execution_count": 42,
     "metadata": {},
     "output_type": "execute_result"
    }
   ],
   "source": [
    "x_train_scaled.shape"
   ]
  },
  {
   "cell_type": "code",
   "execution_count": 43,
   "metadata": {},
   "outputs": [
    {
     "data": {
      "text/plain": [
       "(444, 1)"
      ]
     },
     "execution_count": 43,
     "metadata": {},
     "output_type": "execute_result"
    }
   ],
   "source": [
    "y_train_scaled.shape"
   ]
  },
  {
   "cell_type": "code",
   "execution_count": 44,
   "metadata": {},
   "outputs": [],
   "source": [
    "# Scale the CV dataset\n",
    "\n",
    "x_cv_scaled, y_cv, mu_cv_list, std_cv_list = get_x_scaled_y(np.array(train_cv['adj_close']).reshape(-1, 1), N, num_train)"
   ]
  },
  {
   "cell_type": "code",
   "execution_count": 45,
   "metadata": {},
   "outputs": [
    {
     "data": {
      "text/plain": [
       "(151, 9, 1)"
      ]
     },
     "execution_count": 45,
     "metadata": {},
     "output_type": "execute_result"
    }
   ],
   "source": [
    "x_cv_scaled.shape"
   ]
  },
  {
   "cell_type": "code",
   "execution_count": 46,
   "metadata": {},
   "outputs": [
    {
     "data": {
      "text/plain": [
       "(151, 1)"
      ]
     },
     "execution_count": 46,
     "metadata": {},
     "output_type": "execute_result"
    }
   ],
   "source": [
    "y_cv.shape"
   ]
  },
  {
   "cell_type": "code",
   "execution_count": 50,
   "metadata": {},
   "outputs": [],
   "source": [
    "# Here we scale the train_cv set, for the final model\n",
    "\n",
    "scaler_final = StandardScaler()\n",
    "train_cv_scaled_final = scaler_final.fit_transform(np.array(train_cv['adj_close']).reshape(-1, 1))"
   ]
  },
  {
   "cell_type": "code",
   "execution_count": 51,
   "metadata": {},
   "outputs": [
    {
     "data": {
      "text/plain": [
       "(604, 1)"
      ]
     },
     "execution_count": 51,
     "metadata": {},
     "output_type": "execute_result"
    }
   ],
   "source": [
    "train_cv_scaled_final.shape"
   ]
  },
  {
   "cell_type": "code",
   "execution_count": null,
   "metadata": {},
   "outputs": [],
   "source": []
  },
  {
   "cell_type": "code",
   "execution_count": null,
   "metadata": {},
   "outputs": [],
   "source": []
  },
  {
   "cell_type": "code",
   "execution_count": null,
   "metadata": {},
   "outputs": [],
   "source": []
  },
  {
   "cell_type": "code",
   "execution_count": 52,
   "metadata": {},
   "outputs": [
    {
     "name": "stdout",
     "output_type": "stream",
     "text": [
      "Epoch 1/1\n",
      " - 8s - loss: 0.0607\n"
     ]
    },
    {
     "data": {
      "text/plain": [
       "<keras.callbacks.History at 0x1a307a6710>"
      ]
     },
     "execution_count": 52,
     "metadata": {},
     "output_type": "execute_result"
    }
   ],
   "source": [
    "model = Sequential()\n",
    "model.add(LSTM(units=lstm_units, return_sequences=True, input_shape=(x_train_scaled.shape[1],1)))\n",
    "model.add(Dropout(dropout_prob)) # Add dropout with a probability of 0.5\n",
    "model.add(LSTM(units=lstm_units))\n",
    "model.add(Dropout(dropout_prob)) # Add dropout with a probability of 0.5\n",
    "model.add(Dense(1))\n",
    "\n",
    "model.compile(loss='mean_squared_error', optimizer=optimizer)\n",
    "model.fit(x_train_scaled, y_train_scaled, epochs=epochs, batch_size=batch_size, verbose=2)"
   ]
  },
  {
   "cell_type": "code",
   "execution_count": 53,
   "metadata": {},
   "outputs": [
    {
     "name": "stdout",
     "output_type": "stream",
     "text": [
      "_________________________________________________________________\n",
      "Layer (type)                 Output Shape              Param #   \n",
      "=================================================================\n",
      "lstm_1 (LSTM)                (None, 9, 50)             10400     \n",
      "_________________________________________________________________\n",
      "dropout_1 (Dropout)          (None, 9, 50)             0         \n",
      "_________________________________________________________________\n",
      "lstm_2 (LSTM)                (None, 50)                20200     \n",
      "_________________________________________________________________\n",
      "dropout_2 (Dropout)          (None, 50)                0         \n",
      "_________________________________________________________________\n",
      "dense_1 (Dense)              (None, 1)                 51        \n",
      "=================================================================\n",
      "Total params: 30,651\n",
      "Trainable params: 30,651\n",
      "Non-trainable params: 0\n",
      "_________________________________________________________________\n"
     ]
    }
   ],
   "source": [
    "model.summary()"
   ]
  },
  {
   "cell_type": "code",
   "execution_count": null,
   "metadata": {},
   "outputs": [],
   "source": []
  },
  {
   "cell_type": "code",
   "execution_count": null,
   "metadata": {},
   "outputs": [],
   "source": []
  },
  {
   "cell_type": "code",
   "execution_count": null,
   "metadata": {},
   "outputs": [],
   "source": []
  },
  {
   "cell_type": "code",
   "execution_count": 55,
   "metadata": {},
   "outputs": [
    {
     "name": "stdout",
     "output_type": "stream",
     "text": [
      "est.shape = (151, 1)\n",
      "RMSE = 2.173\n",
      "MAPE = 1.145%\n"
     ]
    }
   ],
   "source": [
    "# Do prediction\n",
    "est_scaled = model.predict(x_cv_scaled)\n",
    "est = (est_scaled * np.array(std_cv_list).reshape(-1,1)) + np.array(mu_cv_list).reshape(-1,1)\n",
    "print(\"est.shape = \" + str(est.shape))\n",
    "\n",
    "# Calculate RMSE\n",
    "rmse_bef_tuning = math.sqrt(mean_squared_error(y_cv, est))\n",
    "print(\"RMSE = %0.3f\" % rmse_bef_tuning)\n",
    "\n",
    "# Calculate MAPE\n",
    "mape_pct_bef_tuning = get_mape(y_cv, est)\n",
    "print(\"MAPE = %0.3f%%\" % mape_pct_bef_tuning)"
   ]
  },
  {
   "cell_type": "code",
   "execution_count": 56,
   "metadata": {},
   "outputs": [
    {
     "data": {
      "text/plain": [
       "Text(0, 0.5, 'USD')"
      ]
     },
     "execution_count": 56,
     "metadata": {},
     "output_type": "execute_result"
    },
    {
     "data": {
      "image/png": "[encoded data removed]",
      "text/plain": [
       "<Figure size 720x576 with 1 Axes>"
      ]
     },
     "metadata": {
      "needs_background": "light"
     },
     "output_type": "display_data"
    }
   ],
   "source": [
    "# Plot adjusted close over time\n",
    "rcParams['figure.figsize'] = 10, 8 # width 10, height 8\n",
    "\n",
    "est_df = pd.DataFrame({'est': est.reshape(-1), \n",
    "                       'y_cv': y_cv.reshape(-1),\n",
    "                       'date': cv['date']})\n",
    "\n",
    "ax = train.plot(x='date', y='adj_close', style='b-', grid=True)\n",
    "ax = cv.plot(x='date', y='adj_close', style='y-', grid=True, ax=ax)\n",
    "ax = test.plot(x='date', y='adj_close', style='g-', grid=True, ax=ax)\n",
    "ax = est_df.plot(x='date', y='est', style='r-', grid=True, ax=ax)\n",
    "ax.legend(['train', 'dev', 'test', 'est'])\n",
    "ax.set_xlabel(\"date\")\n",
    "ax.set_ylabel(\"USD\")"
   ]
  },
  {
   "cell_type": "code",
   "execution_count": 57,
   "metadata": {},
   "outputs": [
    {
     "name": "stdout",
     "output_type": "stream",
     "text": [
      "RMSE on test set = 1.153\n",
      "MAPE on test set = 0.586%\n"
     ]
    }
   ],
   "source": [
    "# Split train_cv into x and y\n",
    "x_train_cv_scaled, y_train_cv_scaled = get_x_y(train_cv_scaled_final, 3, 3)\n",
    "\n",
    "# Split test into x and y\n",
    "x_test_scaled, y_test, mu_test_list, std_test_list = get_x_scaled_y(np.array(df['adj_close']).reshape(-1,1), 3, num_train+num_cv)\n",
    "\n",
    "# Train, predict and eval model\n",
    "rmse, mape, est = train_pred_eval_model(x_train_cv_scaled, \\\n",
    "                                        y_train_cv_scaled, \\\n",
    "                                        x_test_scaled, \\\n",
    "                                        y_test, \\\n",
    "                                        mu_test_list, \\\n",
    "                                        std_test_list, \\\n",
    "                                        lstm_units=128, \\\n",
    "                                        dropout_prob=1, \\\n",
    "                                        optimizer='nadam', \\\n",
    "                                        epochs=50, \\\n",
    "                                        batch_size=8)\n",
    "\n",
    "# Calculate RMSE\n",
    "print(\"RMSE on test set = %0.3f\" % rmse)\n",
    "\n",
    "# Calculate MAPE\n",
    "print(\"MAPE on test set = %0.3f%%\" % mape)"
   ]
  },
  {
   "cell_type": "code",
   "execution_count": 58,
   "metadata": {},
   "outputs": [
    {
     "data": {
      "text/plain": [
       "Text(0, 0.5, 'USD')"
      ]
     },
     "execution_count": 58,
     "metadata": {},
     "output_type": "execute_result"
    },
    {
     "data": {
      "image/png": "[encoded data removed]",
      "text/plain": [
       "<Figure size 720x576 with 1 Axes>"
      ]
     },
     "metadata": {
      "needs_background": "light"
     },
     "output_type": "display_data"
    }
   ],
   "source": [
    "# Plot adjusted close over time\n",
    "rcParams['figure.figsize'] = 10, 8 # width 10, height 8\n",
    "\n",
    "est_df = pd.DataFrame({'est': est.reshape(-1), \n",
    "                       'date': df[num_train+num_cv:]['date']})\n",
    "\n",
    "ax = train.plot(x='date', y='adj_close', style='b-', grid=True)\n",
    "ax = cv.plot(x='date', y='adj_close', style='y-', grid=True, ax=ax)\n",
    "ax = test.plot(x='date', y='adj_close', style='g-', grid=True, ax=ax)\n",
    "ax = est_df.plot(x='date', y='est', style='r-', grid=True, ax=ax)\n",
    "ax.legend(['train', 'dev', 'test', 'predictions'])\n",
    "ax.set_xlabel(\"date\")\n",
    "ax.set_ylabel(\"USD\")"
   ]
  },
  {
   "cell_type": "code",
   "execution_count": 59,
   "metadata": {},
   "outputs": [
    {
     "data": {
      "text/plain": [
       "Text(0.5, 1.0, 'Zoom in to test set')"
      ]
     },
     "execution_count": 59,
     "metadata": {},
     "output_type": "execute_result"
    },
    {
     "data": {
      "image/png": "[encoded data removed]",
      "text/plain": [
       "<Figure size 720x576 with 1 Axes>"
      ]
     },
     "metadata": {
      "needs_background": "light"
     },
     "output_type": "display_data"
    }
   ],
   "source": [
    "# Plot adjusted close over time, for test set only\n",
    "rcParams['figure.figsize'] = 10, 8 # width 10, height 8\n",
    "ax = train.plot(x='date', y='adj_close', style='b-', grid=True)\n",
    "ax = cv.plot(x='date', y='adj_close', style='y-', grid=True, ax=ax)\n",
    "ax = test.plot(x='date', y='adj_close', style='g-', grid=True, ax=ax)\n",
    "ax = est_df.plot(x='date', y='est', style='r-', grid=True, ax=ax)\n",
    "ax.legend(['train', 'dev', 'test', 'predictions'])\n",
    "ax.set_xlabel(\"date\")\n",
    "ax.set_ylabel(\"USD\")\n",
    "ax.set_xlim([date(2018, 4, 1), date(2018, 11, 30)])\n",
    "ax.set_ylim([130, 155])\n",
    "ax.set_title(\"Zoom in to test set\")"
   ]
  },
  {
   "cell_type": "code",
   "execution_count": 60,
   "metadata": {},
   "outputs": [
    {
     "data": {
      "text/plain": [
       "(130, 155)"
      ]
     },
     "execution_count": 60,
     "metadata": {},
     "output_type": "execute_result"
    },
    {
     "data": {
      "image/png": "[encoded data removed]",
      "text/plain": [
       "<Figure size 720x576 with 1 Axes>"
      ]
     },
     "metadata": {
      "needs_background": "light"
     },
     "output_type": "display_data"
    }
   ],
   "source": [
    "# Plot adjusted close over time, only for test set\n",
    "rcParams['figure.figsize'] = 10, 8 # width 10, height 8\n",
    "matplotlib.rcParams.update({'font.size': 14})\n",
    "\n",
    "ax = test.plot(x='date', y='adj_close', style='gx-', grid=True)\n",
    "ax = est_df.plot(x='date', y='est', style='rx-', grid=True, ax=ax)\n",
    "ax.legend(['test', 'predictions using lstm'], loc='upper left')\n",
    "ax.set_xlabel(\"date\")\n",
    "ax.set_ylabel(\"USD\")\n",
    "ax.set_xlim([date(2018, 4, 23), date(2018, 11, 23)])\n",
    "ax.set_ylim([130, 155])"
   ]
  },
  {
   "cell_type": "code",
   "execution_count": null,
   "metadata": {},
   "outputs": [],
   "source": []
  },
  {
   "cell_type": "code",
   "execution_count": null,
   "metadata": {},
   "outputs": [],
   "source": []
  },
  {
   "cell_type": "code",
   "execution_count": null,
   "metadata": {},
   "outputs": [],
   "source": []
  },
  {
   "cell_type": "code",
   "execution_count": null,
   "metadata": {},
   "outputs": [],
   "source": []
  },
  {
   "cell_type": "code",
   "execution_count": null,
   "metadata": {},
   "outputs": [],
   "source": []
  },
  {
   "cell_type": "code",
   "execution_count": null,
   "metadata": {},
   "outputs": [],
   "source": []
  },
  {
   "cell_type": "code",
   "execution_count": null,
   "metadata": {},
   "outputs": [],
   "source": []
  },
  {
   "cell_type": "code",
   "execution_count": null,
   "metadata": {},
   "outputs": [],
   "source": []
  },
  {
   "cell_type": "code",
   "execution_count": null,
   "metadata": {},
   "outputs": [],
   "source": []
  },
  {
   "cell_type": "code",
   "execution_count": null,
   "metadata": {},
   "outputs": [],
   "source": []
  },
  {
   "cell_type": "code",
   "execution_count": null,
   "metadata": {},
   "outputs": [],
   "source": []
  },
  {
   "cell_type": "code",
   "execution_count": null,
   "metadata": {},
   "outputs": [],
   "source": []
  }
 ],
 "metadata": {
  "kernelspec": {
   "display_name": "Python 3",
   "language": "python",
   "name": "python3"
  },
  "language_info": {
   "codemirror_mode": {
    "name": "ipython",
    "version": 3
   },
   "file_extension": ".py",
   "mimetype": "text/x-python",
   "name": "python",
   "nbconvert_exporter": "python",
   "pygments_lexer": "ipython3",
   "version": "3.5.5"
  }
 },
 "nbformat": 4,
 "nbformat_minor": 2
}
